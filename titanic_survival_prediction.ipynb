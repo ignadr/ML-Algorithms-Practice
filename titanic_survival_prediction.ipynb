{
  "cells": [
    {
      "cell_type": "markdown",
      "metadata": {
        "id": "view-in-github",
        "colab_type": "text"
      },
      "source": [
        "<a href=\"https://colab.research.google.com/github/ignadr/ML-Algorithms-Practice/blob/main/titanic_survival_prediction.ipynb\" target=\"_parent\"><img src=\"https://colab.research.google.com/assets/colab-badge.svg\" alt=\"Open In Colab\"/></a>"
      ]
    },
    {
      "cell_type": "code",
      "execution_count": null,
      "id": "f93ae53c",
      "metadata": {
        "_cell_guid": "b1076dfc-b9ad-4769-8c92-a6c4dae69d19",
        "_uuid": "8f2839f25d086af736a60e9eeb907d3b93b6e0e5",
        "execution": {
          "iopub.execute_input": "2025-07-24T09:43:31.746204Z",
          "iopub.status.busy": "2025-07-24T09:43:31.745906Z",
          "iopub.status.idle": "2025-07-24T09:43:33.937661Z",
          "shell.execute_reply": "2025-07-24T09:43:33.936668Z"
        },
        "papermill": {
          "duration": 2.21087,
          "end_time": "2025-07-24T09:43:33.939143",
          "exception": false,
          "start_time": "2025-07-24T09:43:31.728273",
          "status": "completed"
        },
        "tags": [],
        "id": "f93ae53c",
        "outputId": "0a63a609-e686-42ea-9e22-1e82f089026f"
      },
      "outputs": [
        {
          "name": "stdout",
          "output_type": "stream",
          "text": [
            "/kaggle/input/titanic/train.csv\n",
            "/kaggle/input/titanic/test.csv\n",
            "/kaggle/input/titanic/gender_submission.csv\n"
          ]
        }
      ],
      "source": [
        "# This Python 3 environment comes with many helpful analytics libraries installed\n",
        "# It is defined by the kaggle/python Docker image: https://github.com/kaggle/docker-python\n",
        "# For example, here's several helpful packages to load\n",
        "\n",
        "import numpy as np # linear algebra\n",
        "import pandas as pd # data processing, CSV file I/O (e.g. pd.read_csv)\n",
        "\n",
        "# Input data files are available in the read-only \"../input/\" directory\n",
        "# For example, running this (by clicking run or pressing Shift+Enter) will list all files under the input directory\n",
        "\n",
        "import os\n",
        "for dirname, _, filenames in os.walk('/kaggle/input'):\n",
        "    for filename in filenames:\n",
        "        print(os.path.join(dirname, filename))\n",
        "\n",
        "# You can write up to 20GB to the current directory (/kaggle/working/) that gets preserved as output when you create a version using \"Save & Run All\"\n",
        "# You can also write temporary files to /kaggle/temp/, but they won't be saved outside of the current session"
      ]
    },
    {
      "cell_type": "code",
      "execution_count": null,
      "id": "9441238a",
      "metadata": {
        "execution": {
          "iopub.execute_input": "2025-07-24T09:43:33.971355Z",
          "iopub.status.busy": "2025-07-24T09:43:33.970954Z",
          "iopub.status.idle": "2025-07-24T09:43:36.046468Z",
          "shell.execute_reply": "2025-07-24T09:43:36.045744Z"
        },
        "papermill": {
          "duration": 2.093066,
          "end_time": "2025-07-24T09:43:36.048253",
          "exception": false,
          "start_time": "2025-07-24T09:43:33.955187",
          "status": "completed"
        },
        "tags": [],
        "id": "9441238a"
      },
      "outputs": [],
      "source": [
        "import seaborn as sns"
      ]
    },
    {
      "cell_type": "markdown",
      "id": "f5b963fb",
      "metadata": {
        "papermill": {
          "duration": 0.014811,
          "end_time": "2025-07-24T09:43:36.078399",
          "exception": false,
          "start_time": "2025-07-24T09:43:36.063588",
          "status": "completed"
        },
        "tags": [],
        "id": "f5b963fb"
      },
      "source": [
        "## Analysis and Impute Missing Values"
      ]
    },
    {
      "cell_type": "code",
      "execution_count": null,
      "id": "e45b9544",
      "metadata": {
        "execution": {
          "iopub.execute_input": "2025-07-24T09:43:36.109591Z",
          "iopub.status.busy": "2025-07-24T09:43:36.108851Z",
          "iopub.status.idle": "2025-07-24T09:43:36.157527Z",
          "shell.execute_reply": "2025-07-24T09:43:36.156651Z"
        },
        "papermill": {
          "duration": 0.06591,
          "end_time": "2025-07-24T09:43:36.159153",
          "exception": false,
          "start_time": "2025-07-24T09:43:36.093243",
          "status": "completed"
        },
        "tags": [],
        "id": "e45b9544",
        "outputId": "1bdfbc00-bf96-4ac8-c77d-d9b9730005dc"
      },
      "outputs": [
        {
          "data": {
            "text/html": [
              "<div>\n",
              "<style scoped>\n",
              "    .dataframe tbody tr th:only-of-type {\n",
              "        vertical-align: middle;\n",
              "    }\n",
              "\n",
              "    .dataframe tbody tr th {\n",
              "        vertical-align: top;\n",
              "    }\n",
              "\n",
              "    .dataframe thead th {\n",
              "        text-align: right;\n",
              "    }\n",
              "</style>\n",
              "<table border=\"1\" class=\"dataframe\">\n",
              "  <thead>\n",
              "    <tr style=\"text-align: right;\">\n",
              "      <th></th>\n",
              "      <th>PassengerId</th>\n",
              "      <th>Survived</th>\n",
              "      <th>Pclass</th>\n",
              "      <th>Name</th>\n",
              "      <th>Sex</th>\n",
              "      <th>Age</th>\n",
              "      <th>SibSp</th>\n",
              "      <th>Parch</th>\n",
              "      <th>Ticket</th>\n",
              "      <th>Fare</th>\n",
              "      <th>Cabin</th>\n",
              "      <th>Embarked</th>\n",
              "    </tr>\n",
              "  </thead>\n",
              "  <tbody>\n",
              "    <tr>\n",
              "      <th>0</th>\n",
              "      <td>1</td>\n",
              "      <td>0</td>\n",
              "      <td>3</td>\n",
              "      <td>Braund, Mr. Owen Harris</td>\n",
              "      <td>male</td>\n",
              "      <td>22.0</td>\n",
              "      <td>1</td>\n",
              "      <td>0</td>\n",
              "      <td>A/5 21171</td>\n",
              "      <td>7.2500</td>\n",
              "      <td>NaN</td>\n",
              "      <td>S</td>\n",
              "    </tr>\n",
              "    <tr>\n",
              "      <th>1</th>\n",
              "      <td>2</td>\n",
              "      <td>1</td>\n",
              "      <td>1</td>\n",
              "      <td>Cumings, Mrs. John Bradley (Florence Briggs Th...</td>\n",
              "      <td>female</td>\n",
              "      <td>38.0</td>\n",
              "      <td>1</td>\n",
              "      <td>0</td>\n",
              "      <td>PC 17599</td>\n",
              "      <td>71.2833</td>\n",
              "      <td>C85</td>\n",
              "      <td>C</td>\n",
              "    </tr>\n",
              "    <tr>\n",
              "      <th>2</th>\n",
              "      <td>3</td>\n",
              "      <td>1</td>\n",
              "      <td>3</td>\n",
              "      <td>Heikkinen, Miss. Laina</td>\n",
              "      <td>female</td>\n",
              "      <td>26.0</td>\n",
              "      <td>0</td>\n",
              "      <td>0</td>\n",
              "      <td>STON/O2. 3101282</td>\n",
              "      <td>7.9250</td>\n",
              "      <td>NaN</td>\n",
              "      <td>S</td>\n",
              "    </tr>\n",
              "    <tr>\n",
              "      <th>3</th>\n",
              "      <td>4</td>\n",
              "      <td>1</td>\n",
              "      <td>1</td>\n",
              "      <td>Futrelle, Mrs. Jacques Heath (Lily May Peel)</td>\n",
              "      <td>female</td>\n",
              "      <td>35.0</td>\n",
              "      <td>1</td>\n",
              "      <td>0</td>\n",
              "      <td>113803</td>\n",
              "      <td>53.1000</td>\n",
              "      <td>C123</td>\n",
              "      <td>S</td>\n",
              "    </tr>\n",
              "    <tr>\n",
              "      <th>4</th>\n",
              "      <td>5</td>\n",
              "      <td>0</td>\n",
              "      <td>3</td>\n",
              "      <td>Allen, Mr. William Henry</td>\n",
              "      <td>male</td>\n",
              "      <td>35.0</td>\n",
              "      <td>0</td>\n",
              "      <td>0</td>\n",
              "      <td>373450</td>\n",
              "      <td>8.0500</td>\n",
              "      <td>NaN</td>\n",
              "      <td>S</td>\n",
              "    </tr>\n",
              "  </tbody>\n",
              "</table>\n",
              "</div>"
            ],
            "text/plain": [
              "   PassengerId  Survived  Pclass  \\\n",
              "0            1         0       3   \n",
              "1            2         1       1   \n",
              "2            3         1       3   \n",
              "3            4         1       1   \n",
              "4            5         0       3   \n",
              "\n",
              "                                                Name     Sex   Age  SibSp  \\\n",
              "0                            Braund, Mr. Owen Harris    male  22.0      1   \n",
              "1  Cumings, Mrs. John Bradley (Florence Briggs Th...  female  38.0      1   \n",
              "2                             Heikkinen, Miss. Laina  female  26.0      0   \n",
              "3       Futrelle, Mrs. Jacques Heath (Lily May Peel)  female  35.0      1   \n",
              "4                           Allen, Mr. William Henry    male  35.0      0   \n",
              "\n",
              "   Parch            Ticket     Fare Cabin Embarked  \n",
              "0      0         A/5 21171   7.2500   NaN        S  \n",
              "1      0          PC 17599  71.2833   C85        C  \n",
              "2      0  STON/O2. 3101282   7.9250   NaN        S  \n",
              "3      0            113803  53.1000  C123        S  \n",
              "4      0            373450   8.0500   NaN        S  "
            ]
          },
          "execution_count": 3,
          "metadata": {},
          "output_type": "execute_result"
        }
      ],
      "source": [
        "train_data = pd.read_csv(\"/kaggle/input/titanic/train.csv\")\n",
        "train_data.head()"
      ]
    },
    {
      "cell_type": "code",
      "execution_count": null,
      "id": "a49079ce",
      "metadata": {
        "execution": {
          "iopub.execute_input": "2025-07-24T09:43:36.190786Z",
          "iopub.status.busy": "2025-07-24T09:43:36.190450Z",
          "iopub.status.idle": "2025-07-24T09:43:36.208175Z",
          "shell.execute_reply": "2025-07-24T09:43:36.207338Z"
        },
        "papermill": {
          "duration": 0.035166,
          "end_time": "2025-07-24T09:43:36.209587",
          "exception": false,
          "start_time": "2025-07-24T09:43:36.174421",
          "status": "completed"
        },
        "tags": [],
        "id": "a49079ce",
        "outputId": "557aaa72-54c4-4a8b-ff83-57686f61a586"
      },
      "outputs": [
        {
          "data": {
            "text/html": [
              "<div>\n",
              "<style scoped>\n",
              "    .dataframe tbody tr th:only-of-type {\n",
              "        vertical-align: middle;\n",
              "    }\n",
              "\n",
              "    .dataframe tbody tr th {\n",
              "        vertical-align: top;\n",
              "    }\n",
              "\n",
              "    .dataframe thead th {\n",
              "        text-align: right;\n",
              "    }\n",
              "</style>\n",
              "<table border=\"1\" class=\"dataframe\">\n",
              "  <thead>\n",
              "    <tr style=\"text-align: right;\">\n",
              "      <th></th>\n",
              "      <th>PassengerId</th>\n",
              "      <th>Pclass</th>\n",
              "      <th>Name</th>\n",
              "      <th>Sex</th>\n",
              "      <th>Age</th>\n",
              "      <th>SibSp</th>\n",
              "      <th>Parch</th>\n",
              "      <th>Ticket</th>\n",
              "      <th>Fare</th>\n",
              "      <th>Cabin</th>\n",
              "      <th>Embarked</th>\n",
              "    </tr>\n",
              "  </thead>\n",
              "  <tbody>\n",
              "    <tr>\n",
              "      <th>0</th>\n",
              "      <td>892</td>\n",
              "      <td>3</td>\n",
              "      <td>Kelly, Mr. James</td>\n",
              "      <td>male</td>\n",
              "      <td>34.5</td>\n",
              "      <td>0</td>\n",
              "      <td>0</td>\n",
              "      <td>330911</td>\n",
              "      <td>7.8292</td>\n",
              "      <td>NaN</td>\n",
              "      <td>Q</td>\n",
              "    </tr>\n",
              "    <tr>\n",
              "      <th>1</th>\n",
              "      <td>893</td>\n",
              "      <td>3</td>\n",
              "      <td>Wilkes, Mrs. James (Ellen Needs)</td>\n",
              "      <td>female</td>\n",
              "      <td>47.0</td>\n",
              "      <td>1</td>\n",
              "      <td>0</td>\n",
              "      <td>363272</td>\n",
              "      <td>7.0000</td>\n",
              "      <td>NaN</td>\n",
              "      <td>S</td>\n",
              "    </tr>\n",
              "    <tr>\n",
              "      <th>2</th>\n",
              "      <td>894</td>\n",
              "      <td>2</td>\n",
              "      <td>Myles, Mr. Thomas Francis</td>\n",
              "      <td>male</td>\n",
              "      <td>62.0</td>\n",
              "      <td>0</td>\n",
              "      <td>0</td>\n",
              "      <td>240276</td>\n",
              "      <td>9.6875</td>\n",
              "      <td>NaN</td>\n",
              "      <td>Q</td>\n",
              "    </tr>\n",
              "    <tr>\n",
              "      <th>3</th>\n",
              "      <td>895</td>\n",
              "      <td>3</td>\n",
              "      <td>Wirz, Mr. Albert</td>\n",
              "      <td>male</td>\n",
              "      <td>27.0</td>\n",
              "      <td>0</td>\n",
              "      <td>0</td>\n",
              "      <td>315154</td>\n",
              "      <td>8.6625</td>\n",
              "      <td>NaN</td>\n",
              "      <td>S</td>\n",
              "    </tr>\n",
              "    <tr>\n",
              "      <th>4</th>\n",
              "      <td>896</td>\n",
              "      <td>3</td>\n",
              "      <td>Hirvonen, Mrs. Alexander (Helga E Lindqvist)</td>\n",
              "      <td>female</td>\n",
              "      <td>22.0</td>\n",
              "      <td>1</td>\n",
              "      <td>1</td>\n",
              "      <td>3101298</td>\n",
              "      <td>12.2875</td>\n",
              "      <td>NaN</td>\n",
              "      <td>S</td>\n",
              "    </tr>\n",
              "  </tbody>\n",
              "</table>\n",
              "</div>"
            ],
            "text/plain": [
              "   PassengerId  Pclass                                          Name     Sex  \\\n",
              "0          892       3                              Kelly, Mr. James    male   \n",
              "1          893       3              Wilkes, Mrs. James (Ellen Needs)  female   \n",
              "2          894       2                     Myles, Mr. Thomas Francis    male   \n",
              "3          895       3                              Wirz, Mr. Albert    male   \n",
              "4          896       3  Hirvonen, Mrs. Alexander (Helga E Lindqvist)  female   \n",
              "\n",
              "    Age  SibSp  Parch   Ticket     Fare Cabin Embarked  \n",
              "0  34.5      0      0   330911   7.8292   NaN        Q  \n",
              "1  47.0      1      0   363272   7.0000   NaN        S  \n",
              "2  62.0      0      0   240276   9.6875   NaN        Q  \n",
              "3  27.0      0      0   315154   8.6625   NaN        S  \n",
              "4  22.0      1      1  3101298  12.2875   NaN        S  "
            ]
          },
          "execution_count": 4,
          "metadata": {},
          "output_type": "execute_result"
        }
      ],
      "source": [
        "test_data = pd.read_csv(\"/kaggle/input/titanic/test.csv\")\n",
        "test_data.head()"
      ]
    },
    {
      "cell_type": "code",
      "execution_count": null,
      "id": "184f5f5d",
      "metadata": {
        "execution": {
          "iopub.execute_input": "2025-07-24T09:43:36.242256Z",
          "iopub.status.busy": "2025-07-24T09:43:36.241942Z",
          "iopub.status.idle": "2025-07-24T09:43:36.251065Z",
          "shell.execute_reply": "2025-07-24T09:43:36.250269Z"
        },
        "papermill": {
          "duration": 0.026821,
          "end_time": "2025-07-24T09:43:36.252379",
          "exception": false,
          "start_time": "2025-07-24T09:43:36.225558",
          "status": "completed"
        },
        "tags": [],
        "id": "184f5f5d",
        "outputId": "97ca3175-ad35-4267-ed8f-5e26a0291d97"
      },
      "outputs": [
        {
          "data": {
            "text/plain": [
              "Cabin          77.1\n",
              "Age            19.9\n",
              "Embarked        0.2\n",
              "PassengerId     0.0\n",
              "Survived        0.0\n",
              "Pclass          0.0\n",
              "Name            0.0\n",
              "Sex             0.0\n",
              "SibSp           0.0\n",
              "Parch           0.0\n",
              "Ticket          0.0\n",
              "Fare            0.0\n",
              "dtype: float64"
            ]
          },
          "execution_count": 5,
          "metadata": {},
          "output_type": "execute_result"
        }
      ],
      "source": [
        "round(train_data.isna().sum().sort_values(ascending=False)/len(train_data) * 100, 1)"
      ]
    },
    {
      "cell_type": "markdown",
      "id": "d9fa32f9",
      "metadata": {
        "papermill": {
          "duration": 0.015012,
          "end_time": "2025-07-24T09:43:36.283222",
          "exception": false,
          "start_time": "2025-07-24T09:43:36.268210",
          "status": "completed"
        },
        "tags": [],
        "id": "d9fa32f9"
      },
      "source": [
        "It feels like the \"Cabin\" column has too many missing values and should be dropped later."
      ]
    },
    {
      "cell_type": "code",
      "execution_count": null,
      "id": "727cd2df",
      "metadata": {
        "execution": {
          "iopub.execute_input": "2025-07-24T09:43:36.367543Z",
          "iopub.status.busy": "2025-07-24T09:43:36.367250Z",
          "iopub.status.idle": "2025-07-24T09:43:36.379452Z",
          "shell.execute_reply": "2025-07-24T09:43:36.378635Z"
        },
        "papermill": {
          "duration": 0.030255,
          "end_time": "2025-07-24T09:43:36.380950",
          "exception": false,
          "start_time": "2025-07-24T09:43:36.350695",
          "status": "completed"
        },
        "tags": [],
        "id": "727cd2df"
      },
      "outputs": [],
      "source": [
        "combined_data = pd.concat([train_data, test_data], ignore_index=True)"
      ]
    },
    {
      "cell_type": "code",
      "execution_count": null,
      "id": "242bf3c8",
      "metadata": {
        "execution": {
          "iopub.execute_input": "2025-07-24T09:43:36.413124Z",
          "iopub.status.busy": "2025-07-24T09:43:36.412477Z",
          "iopub.status.idle": "2025-07-24T09:43:36.421185Z",
          "shell.execute_reply": "2025-07-24T09:43:36.420385Z"
        },
        "papermill": {
          "duration": 0.02617,
          "end_time": "2025-07-24T09:43:36.422497",
          "exception": false,
          "start_time": "2025-07-24T09:43:36.396327",
          "status": "completed"
        },
        "tags": [],
        "id": "242bf3c8",
        "outputId": "eff9d52c-4be4-4805-c1bf-90b5fedbc887"
      },
      "outputs": [
        {
          "data": {
            "text/plain": [
              "Cabin          77.5\n",
              "Survived       31.9\n",
              "Age            20.1\n",
              "Embarked        0.2\n",
              "Fare            0.1\n",
              "PassengerId     0.0\n",
              "Pclass          0.0\n",
              "Name            0.0\n",
              "Sex             0.0\n",
              "SibSp           0.0\n",
              "Parch           0.0\n",
              "Ticket          0.0\n",
              "dtype: float64"
            ]
          },
          "execution_count": 7,
          "metadata": {},
          "output_type": "execute_result"
        }
      ],
      "source": [
        "round(combined_data.isna().sum().sort_values(ascending=False)/len(combined_data) * 100, 1)"
      ]
    },
    {
      "cell_type": "markdown",
      "id": "34feefef",
      "metadata": {
        "papermill": {
          "duration": 0.018828,
          "end_time": "2025-07-24T09:43:36.457063",
          "exception": false,
          "start_time": "2025-07-24T09:43:36.438235",
          "status": "completed"
        },
        "tags": [],
        "id": "34feefef"
      },
      "source": [
        "The missing values in the \"Survived\" column arise from the test data, which does not have the column.\n",
        "\n",
        "It is possible to impute the \"Age\" column, but maybe there is a better method than just using the mean, median, or mode of the column.\n",
        "\n",
        "The \"Embarked\" and \"Fare\" column can also be imputed."
      ]
    },
    {
      "cell_type": "code",
      "execution_count": null,
      "id": "c58a8fd3",
      "metadata": {
        "execution": {
          "iopub.execute_input": "2025-07-24T09:43:36.500517Z",
          "iopub.status.busy": "2025-07-24T09:43:36.500216Z",
          "iopub.status.idle": "2025-07-24T09:43:36.521283Z",
          "shell.execute_reply": "2025-07-24T09:43:36.520285Z"
        },
        "papermill": {
          "duration": 0.043645,
          "end_time": "2025-07-24T09:43:36.522913",
          "exception": false,
          "start_time": "2025-07-24T09:43:36.479268",
          "status": "completed"
        },
        "tags": [],
        "id": "c58a8fd3",
        "outputId": "1da11216-3b7f-4b88-f4a9-8fc633517e2f"
      },
      "outputs": [
        {
          "name": "stdout",
          "output_type": "stream",
          "text": [
            "Youngest age of a person with the title \"Master\": 0.42\n",
            "Oldest age of a person with the title \"Master\": 12.0\n",
            "\n",
            "Youngest age of a person with the title \"Mr.\": 11.0\n",
            "Oldest age of a person with the title \"Mr.\": 80.0\n"
          ]
        }
      ],
      "source": [
        "# Apparently, some people found out that for males, a person with the title \"Master\" is considered a child.\n",
        "# I want to see how people might find that out.\n",
        "\n",
        "# First, maybe people see that in the \"Name\" column, there are 2 possible titles\n",
        "# for a male, which is \"Mr.\" or \"Master\".\n",
        "\n",
        "# Check the ages for males that have the title \"Master\"\n",
        "youngest_master = min(train_data[(train_data.Name.str.contains('Master')) & (train_data.Sex == 'male')][\"Age\"])\n",
        "oldest_master = max(train_data[(train_data.Name.str.contains('Master')) & (train_data.Sex == 'male')][\"Age\"])\n",
        "youngest_mr = min(train_data[(train_data.Name.str.contains('Mr.')) & (train_data.Sex == 'male')][\"Age\"])\n",
        "oldest_mr = max(train_data[(train_data.Name.str.contains('Mr.')) & (train_data.Sex == 'male')][\"Age\"])\n",
        "\n",
        "print(f\"Youngest age of a person with the title \\\"Master\\\": {youngest_master}\")\n",
        "print(f\"Oldest age of a person with the title \\\"Master\\\": {oldest_master}\\n\")\n",
        "print(f\"Youngest age of a person with the title \\\"Mr.\\\": {youngest_mr}\")\n",
        "print(f\"Oldest age of a person with the title \\\"Mr.\\\": {oldest_mr}\")"
      ]
    },
    {
      "cell_type": "markdown",
      "id": "c8497ea8",
      "metadata": {
        "papermill": {
          "duration": 0.016121,
          "end_time": "2025-07-24T09:43:36.562553",
          "exception": false,
          "start_time": "2025-07-24T09:43:36.546432",
          "status": "completed"
        },
        "tags": [],
        "id": "c8497ea8"
      },
      "source": [
        "I think I can accept that the maximum age that is considered a child (\"Master\" title) in this dataset is 14 years old."
      ]
    },
    {
      "cell_type": "code",
      "execution_count": null,
      "id": "d488cea6",
      "metadata": {
        "execution": {
          "iopub.execute_input": "2025-07-24T09:43:36.595313Z",
          "iopub.status.busy": "2025-07-24T09:43:36.595012Z",
          "iopub.status.idle": "2025-07-24T09:43:36.611832Z",
          "shell.execute_reply": "2025-07-24T09:43:36.610801Z"
        },
        "papermill": {
          "duration": 0.034928,
          "end_time": "2025-07-24T09:43:36.613261",
          "exception": false,
          "start_time": "2025-07-24T09:43:36.578333",
          "status": "completed"
        },
        "tags": [],
        "id": "d488cea6",
        "outputId": "32310aa7-4724-4ddd-b2f8-11e4c3bd9644"
      },
      "outputs": [
        {
          "name": "stderr",
          "output_type": "stream",
          "text": [
            "/usr/local/lib/python3.11/dist-packages/pandas/io/formats/format.py:1458: RuntimeWarning: invalid value encountered in greater\n",
            "  has_large_values = (abs_vals > 1e6).any()\n",
            "/usr/local/lib/python3.11/dist-packages/pandas/io/formats/format.py:1459: RuntimeWarning: invalid value encountered in less\n",
            "  has_small_values = ((abs_vals < 10 ** (-self.digits)) & (abs_vals > 0)).any()\n",
            "/usr/local/lib/python3.11/dist-packages/pandas/io/formats/format.py:1459: RuntimeWarning: invalid value encountered in greater\n",
            "  has_small_values = ((abs_vals < 10 ** (-self.digits)) & (abs_vals > 0)).any()\n"
          ]
        },
        {
          "data": {
            "text/html": [
              "<div>\n",
              "<style scoped>\n",
              "    .dataframe tbody tr th:only-of-type {\n",
              "        vertical-align: middle;\n",
              "    }\n",
              "\n",
              "    .dataframe tbody tr th {\n",
              "        vertical-align: top;\n",
              "    }\n",
              "\n",
              "    .dataframe thead th {\n",
              "        text-align: right;\n",
              "    }\n",
              "</style>\n",
              "<table border=\"1\" class=\"dataframe\">\n",
              "  <thead>\n",
              "    <tr style=\"text-align: right;\">\n",
              "      <th></th>\n",
              "      <th>PassengerId</th>\n",
              "      <th>Survived</th>\n",
              "      <th>Pclass</th>\n",
              "      <th>Name</th>\n",
              "      <th>Sex</th>\n",
              "      <th>Age</th>\n",
              "      <th>SibSp</th>\n",
              "      <th>Parch</th>\n",
              "      <th>Ticket</th>\n",
              "      <th>Fare</th>\n",
              "      <th>Cabin</th>\n",
              "      <th>Embarked</th>\n",
              "    </tr>\n",
              "  </thead>\n",
              "  <tbody>\n",
              "    <tr>\n",
              "      <th>65</th>\n",
              "      <td>66</td>\n",
              "      <td>1</td>\n",
              "      <td>3</td>\n",
              "      <td>Moubarek, Master. Gerios</td>\n",
              "      <td>male</td>\n",
              "      <td>NaN</td>\n",
              "      <td>1</td>\n",
              "      <td>1</td>\n",
              "      <td>2661</td>\n",
              "      <td>15.2458</td>\n",
              "      <td>NaN</td>\n",
              "      <td>C</td>\n",
              "    </tr>\n",
              "    <tr>\n",
              "      <th>159</th>\n",
              "      <td>160</td>\n",
              "      <td>0</td>\n",
              "      <td>3</td>\n",
              "      <td>Sage, Master. Thomas Henry</td>\n",
              "      <td>male</td>\n",
              "      <td>NaN</td>\n",
              "      <td>8</td>\n",
              "      <td>2</td>\n",
              "      <td>CA. 2343</td>\n",
              "      <td>69.5500</td>\n",
              "      <td>NaN</td>\n",
              "      <td>S</td>\n",
              "    </tr>\n",
              "    <tr>\n",
              "      <th>176</th>\n",
              "      <td>177</td>\n",
              "      <td>0</td>\n",
              "      <td>3</td>\n",
              "      <td>Lefebre, Master. Henry Forbes</td>\n",
              "      <td>male</td>\n",
              "      <td>NaN</td>\n",
              "      <td>3</td>\n",
              "      <td>1</td>\n",
              "      <td>4133</td>\n",
              "      <td>25.4667</td>\n",
              "      <td>NaN</td>\n",
              "      <td>S</td>\n",
              "    </tr>\n",
              "    <tr>\n",
              "      <th>709</th>\n",
              "      <td>710</td>\n",
              "      <td>1</td>\n",
              "      <td>3</td>\n",
              "      <td>Moubarek, Master. Halim Gonios (\"William George\")</td>\n",
              "      <td>male</td>\n",
              "      <td>NaN</td>\n",
              "      <td>1</td>\n",
              "      <td>1</td>\n",
              "      <td>2661</td>\n",
              "      <td>15.2458</td>\n",
              "      <td>NaN</td>\n",
              "      <td>C</td>\n",
              "    </tr>\n",
              "  </tbody>\n",
              "</table>\n",
              "</div>"
            ],
            "text/plain": [
              "     PassengerId  Survived  Pclass  \\\n",
              "65            66         1       3   \n",
              "159          160         0       3   \n",
              "176          177         0       3   \n",
              "709          710         1       3   \n",
              "\n",
              "                                                  Name   Sex  Age  SibSp  \\\n",
              "65                            Moubarek, Master. Gerios  male  NaN      1   \n",
              "159                         Sage, Master. Thomas Henry  male  NaN      8   \n",
              "176                      Lefebre, Master. Henry Forbes  male  NaN      3   \n",
              "709  Moubarek, Master. Halim Gonios (\"William George\")  male  NaN      1   \n",
              "\n",
              "     Parch    Ticket     Fare Cabin Embarked  \n",
              "65       1      2661  15.2458   NaN        C  \n",
              "159      2  CA. 2343  69.5500   NaN        S  \n",
              "176      1      4133  25.4667   NaN        S  \n",
              "709      1      2661  15.2458   NaN        C  "
            ]
          },
          "execution_count": 9,
          "metadata": {},
          "output_type": "execute_result"
        }
      ],
      "source": [
        "# See all people with the title \"Master\" in train_data and has NaN in the \"Age\" column\n",
        "train_data[(train_data.Name.str.contains('Master')) & train_data.Age.isna()]"
      ]
    },
    {
      "cell_type": "markdown",
      "id": "efa29814",
      "metadata": {
        "papermill": {
          "duration": 0.015623,
          "end_time": "2025-07-24T09:43:36.645181",
          "exception": false,
          "start_time": "2025-07-24T09:43:36.629558",
          "status": "completed"
        },
        "tags": [],
        "id": "efa29814"
      },
      "source": [
        "All of them have a Pclass == 3 and Sex == 'male'.\n",
        "\n",
        "What if we impute based on the Pclass and Sex?"
      ]
    },
    {
      "cell_type": "code",
      "execution_count": null,
      "id": "94fb908d",
      "metadata": {
        "execution": {
          "iopub.execute_input": "2025-07-24T09:43:36.678379Z",
          "iopub.status.busy": "2025-07-24T09:43:36.677544Z",
          "iopub.status.idle": "2025-07-24T09:43:36.691519Z",
          "shell.execute_reply": "2025-07-24T09:43:36.690687Z"
        },
        "papermill": {
          "duration": 0.033802,
          "end_time": "2025-07-24T09:43:36.694783",
          "exception": false,
          "start_time": "2025-07-24T09:43:36.660981",
          "status": "completed"
        },
        "tags": [],
        "id": "94fb908d",
        "outputId": "50bfdcca-ce66-42d8-c1ac-fe3b7f7e07df"
      },
      "outputs": [
        {
          "data": {
            "text/plain": [
              "125    12.00\n",
              "59     11.00\n",
              "819    10.00\n",
              "489     9.00\n",
              "165     9.00\n",
              "182     9.00\n",
              "480     9.00\n",
              "787     8.00\n",
              "50      7.00\n",
              "278     7.00\n",
              "751     6.00\n",
              "869     4.00\n",
              "63      4.00\n",
              "850     4.00\n",
              "171     4.00\n",
              "348     3.00\n",
              "261     3.00\n",
              "16      2.00\n",
              "824     2.00\n",
              "7       2.00\n",
              "386     1.00\n",
              "788     1.00\n",
              "164     1.00\n",
              "803     0.42\n",
              "Name: Age, dtype: float64"
            ]
          },
          "execution_count": 10,
          "metadata": {},
          "output_type": "execute_result"
        }
      ],
      "source": [
        "# For \"Master\" with Pclass == 3 and male\n",
        "train_data[\n",
        "    (train_data.Name.str.contains('Master')) &\n",
        "    (train_data.Age.notna()) &\n",
        "    (train_data.Pclass == 3) &\n",
        "    (train_data.Sex == 'male')\n",
        "][\"Age\"].sort_values(ascending=False)"
      ]
    },
    {
      "cell_type": "code",
      "execution_count": null,
      "id": "8c263d7c",
      "metadata": {
        "execution": {
          "iopub.execute_input": "2025-07-24T09:43:36.733898Z",
          "iopub.status.busy": "2025-07-24T09:43:36.733291Z",
          "iopub.status.idle": "2025-07-24T09:43:36.749154Z",
          "shell.execute_reply": "2025-07-24T09:43:36.748091Z"
        },
        "papermill": {
          "duration": 0.034437,
          "end_time": "2025-07-24T09:43:36.750664",
          "exception": false,
          "start_time": "2025-07-24T09:43:36.716227",
          "status": "completed"
        },
        "tags": [],
        "id": "8c263d7c",
        "outputId": "c82ca7bf-95be-4893-970c-60d026590d0c"
      },
      "outputs": [
        {
          "name": "stderr",
          "output_type": "stream",
          "text": [
            "/usr/local/lib/python3.11/dist-packages/pandas/io/formats/format.py:1458: RuntimeWarning: invalid value encountered in greater\n",
            "  has_large_values = (abs_vals > 1e6).any()\n",
            "/usr/local/lib/python3.11/dist-packages/pandas/io/formats/format.py:1459: RuntimeWarning: invalid value encountered in less\n",
            "  has_small_values = ((abs_vals < 10 ** (-self.digits)) & (abs_vals > 0)).any()\n",
            "/usr/local/lib/python3.11/dist-packages/pandas/io/formats/format.py:1459: RuntimeWarning: invalid value encountered in greater\n",
            "  has_small_values = ((abs_vals < 10 ** (-self.digits)) & (abs_vals > 0)).any()\n"
          ]
        },
        {
          "data": {
            "text/html": [
              "<div>\n",
              "<style scoped>\n",
              "    .dataframe tbody tr th:only-of-type {\n",
              "        vertical-align: middle;\n",
              "    }\n",
              "\n",
              "    .dataframe tbody tr th {\n",
              "        vertical-align: top;\n",
              "    }\n",
              "\n",
              "    .dataframe thead th {\n",
              "        text-align: right;\n",
              "    }\n",
              "</style>\n",
              "<table border=\"1\" class=\"dataframe\">\n",
              "  <thead>\n",
              "    <tr style=\"text-align: right;\">\n",
              "      <th></th>\n",
              "      <th>PassengerId</th>\n",
              "      <th>Survived</th>\n",
              "      <th>Pclass</th>\n",
              "      <th>Name</th>\n",
              "      <th>Sex</th>\n",
              "      <th>Age</th>\n",
              "      <th>SibSp</th>\n",
              "      <th>Parch</th>\n",
              "      <th>Ticket</th>\n",
              "      <th>Fare</th>\n",
              "      <th>Cabin</th>\n",
              "      <th>Embarked</th>\n",
              "    </tr>\n",
              "  </thead>\n",
              "  <tbody>\n",
              "    <tr>\n",
              "      <th>65</th>\n",
              "      <td>66</td>\n",
              "      <td>1.0</td>\n",
              "      <td>3</td>\n",
              "      <td>Moubarek, Master. Gerios</td>\n",
              "      <td>male</td>\n",
              "      <td>NaN</td>\n",
              "      <td>1</td>\n",
              "      <td>1</td>\n",
              "      <td>2661</td>\n",
              "      <td>15.2458</td>\n",
              "      <td>NaN</td>\n",
              "      <td>C</td>\n",
              "    </tr>\n",
              "    <tr>\n",
              "      <th>709</th>\n",
              "      <td>710</td>\n",
              "      <td>1.0</td>\n",
              "      <td>3</td>\n",
              "      <td>Moubarek, Master. Halim Gonios (\"William George\")</td>\n",
              "      <td>male</td>\n",
              "      <td>NaN</td>\n",
              "      <td>1</td>\n",
              "      <td>1</td>\n",
              "      <td>2661</td>\n",
              "      <td>15.2458</td>\n",
              "      <td>NaN</td>\n",
              "      <td>C</td>\n",
              "    </tr>\n",
              "    <tr>\n",
              "      <th>1116</th>\n",
              "      <td>1117</td>\n",
              "      <td>NaN</td>\n",
              "      <td>3</td>\n",
              "      <td>Moubarek, Mrs. George (Omine Amenia\" Alexander)\"</td>\n",
              "      <td>female</td>\n",
              "      <td>NaN</td>\n",
              "      <td>0</td>\n",
              "      <td>2</td>\n",
              "      <td>2661</td>\n",
              "      <td>15.2458</td>\n",
              "      <td>NaN</td>\n",
              "      <td>C</td>\n",
              "    </tr>\n",
              "  </tbody>\n",
              "</table>\n",
              "</div>"
            ],
            "text/plain": [
              "      PassengerId  Survived  Pclass  \\\n",
              "65             66       1.0       3   \n",
              "709           710       1.0       3   \n",
              "1116         1117       NaN       3   \n",
              "\n",
              "                                                   Name     Sex  Age  SibSp  \\\n",
              "65                             Moubarek, Master. Gerios    male  NaN      1   \n",
              "709   Moubarek, Master. Halim Gonios (\"William George\")    male  NaN      1   \n",
              "1116   Moubarek, Mrs. George (Omine Amenia\" Alexander)\"  female  NaN      0   \n",
              "\n",
              "      Parch Ticket     Fare Cabin Embarked  \n",
              "65        1   2661  15.2458   NaN        C  \n",
              "709       1   2661  15.2458   NaN        C  \n",
              "1116      2   2661  15.2458   NaN        C  "
            ]
          },
          "execution_count": 11,
          "metadata": {},
          "output_type": "execute_result"
        }
      ],
      "source": [
        "# Before that, there are 2 people with the surname \"Moubarek\". Let's see the combined_data.\n",
        "combined_data[\n",
        "    (combined_data.Name.str.contains('Moubarek'))\n",
        "]"
      ]
    },
    {
      "cell_type": "markdown",
      "id": "35701c08",
      "metadata": {
        "papermill": {
          "duration": 0.017008,
          "end_time": "2025-07-24T09:43:36.784421",
          "exception": false,
          "start_time": "2025-07-24T09:43:36.767413",
          "status": "completed"
        },
        "tags": [],
        "id": "35701c08"
      },
      "source": [
        "Now, we can see that there are 2 children traveling with their mother. I will assume that both are the biological children of the mother. Therefore, they cannot really have the same age, unless if they are twins. Maybe it does not really matter (?).\n",
        "\n",
        "Either way, I decide that I will still impute both children's age with the median."
      ]
    },
    {
      "cell_type": "code",
      "execution_count": null,
      "id": "69478b7c",
      "metadata": {
        "execution": {
          "iopub.execute_input": "2025-07-24T09:43:36.818847Z",
          "iopub.status.busy": "2025-07-24T09:43:36.818382Z",
          "iopub.status.idle": "2025-07-24T09:43:36.828499Z",
          "shell.execute_reply": "2025-07-24T09:43:36.827677Z"
        },
        "papermill": {
          "duration": 0.029384,
          "end_time": "2025-07-24T09:43:36.830354",
          "exception": false,
          "start_time": "2025-07-24T09:43:36.800970",
          "status": "completed"
        },
        "tags": [],
        "id": "69478b7c"
      },
      "outputs": [],
      "source": [
        "median_master_3_male = train_data[\n",
        "    (train_data.Name.str.contains('Master')) &\n",
        "    (train_data.Age.notna()) &\n",
        "    (train_data.Pclass == 3) &\n",
        "    (train_data.Sex == 'male')\n",
        "][\"Age\"].median()\n",
        "\n",
        "train_data.loc[\n",
        "    (train_data.Name.str.contains('Master')) & (train_data.Age.isna()),\n",
        "    \"Age\"\n",
        "] = median_master_3_male"
      ]
    },
    {
      "cell_type": "code",
      "execution_count": null,
      "id": "e4a17a1d",
      "metadata": {
        "execution": {
          "iopub.execute_input": "2025-07-24T09:43:36.870948Z",
          "iopub.status.busy": "2025-07-24T09:43:36.870313Z",
          "iopub.status.idle": "2025-07-24T09:43:36.889015Z",
          "shell.execute_reply": "2025-07-24T09:43:36.888188Z"
        },
        "papermill": {
          "duration": 0.037708,
          "end_time": "2025-07-24T09:43:36.890584",
          "exception": false,
          "start_time": "2025-07-24T09:43:36.852876",
          "status": "completed"
        },
        "tags": [],
        "id": "e4a17a1d",
        "outputId": "128f765d-a866-4871-fe90-bb2cff5e4d0c"
      },
      "outputs": [
        {
          "data": {
            "text/html": [
              "<div>\n",
              "<style scoped>\n",
              "    .dataframe tbody tr th:only-of-type {\n",
              "        vertical-align: middle;\n",
              "    }\n",
              "\n",
              "    .dataframe tbody tr th {\n",
              "        vertical-align: top;\n",
              "    }\n",
              "\n",
              "    .dataframe thead th {\n",
              "        text-align: right;\n",
              "    }\n",
              "</style>\n",
              "<table border=\"1\" class=\"dataframe\">\n",
              "  <thead>\n",
              "    <tr style=\"text-align: right;\">\n",
              "      <th></th>\n",
              "      <th>PassengerId</th>\n",
              "      <th>Survived</th>\n",
              "      <th>Pclass</th>\n",
              "      <th>Name</th>\n",
              "      <th>Sex</th>\n",
              "      <th>Age</th>\n",
              "      <th>SibSp</th>\n",
              "      <th>Parch</th>\n",
              "      <th>Ticket</th>\n",
              "      <th>Fare</th>\n",
              "      <th>Cabin</th>\n",
              "      <th>Embarked</th>\n",
              "    </tr>\n",
              "  </thead>\n",
              "  <tbody>\n",
              "    <tr>\n",
              "      <th>65</th>\n",
              "      <td>66</td>\n",
              "      <td>1</td>\n",
              "      <td>3</td>\n",
              "      <td>Moubarek, Master. Gerios</td>\n",
              "      <td>male</td>\n",
              "      <td>4.0</td>\n",
              "      <td>1</td>\n",
              "      <td>1</td>\n",
              "      <td>2661</td>\n",
              "      <td>15.2458</td>\n",
              "      <td>NaN</td>\n",
              "      <td>C</td>\n",
              "    </tr>\n",
              "    <tr>\n",
              "      <th>159</th>\n",
              "      <td>160</td>\n",
              "      <td>0</td>\n",
              "      <td>3</td>\n",
              "      <td>Sage, Master. Thomas Henry</td>\n",
              "      <td>male</td>\n",
              "      <td>4.0</td>\n",
              "      <td>8</td>\n",
              "      <td>2</td>\n",
              "      <td>CA. 2343</td>\n",
              "      <td>69.5500</td>\n",
              "      <td>NaN</td>\n",
              "      <td>S</td>\n",
              "    </tr>\n",
              "    <tr>\n",
              "      <th>176</th>\n",
              "      <td>177</td>\n",
              "      <td>0</td>\n",
              "      <td>3</td>\n",
              "      <td>Lefebre, Master. Henry Forbes</td>\n",
              "      <td>male</td>\n",
              "      <td>4.0</td>\n",
              "      <td>3</td>\n",
              "      <td>1</td>\n",
              "      <td>4133</td>\n",
              "      <td>25.4667</td>\n",
              "      <td>NaN</td>\n",
              "      <td>S</td>\n",
              "    </tr>\n",
              "    <tr>\n",
              "      <th>709</th>\n",
              "      <td>710</td>\n",
              "      <td>1</td>\n",
              "      <td>3</td>\n",
              "      <td>Moubarek, Master. Halim Gonios (\"William George\")</td>\n",
              "      <td>male</td>\n",
              "      <td>4.0</td>\n",
              "      <td>1</td>\n",
              "      <td>1</td>\n",
              "      <td>2661</td>\n",
              "      <td>15.2458</td>\n",
              "      <td>NaN</td>\n",
              "      <td>C</td>\n",
              "    </tr>\n",
              "  </tbody>\n",
              "</table>\n",
              "</div>"
            ],
            "text/plain": [
              "     PassengerId  Survived  Pclass  \\\n",
              "65            66         1       3   \n",
              "159          160         0       3   \n",
              "176          177         0       3   \n",
              "709          710         1       3   \n",
              "\n",
              "                                                  Name   Sex  Age  SibSp  \\\n",
              "65                            Moubarek, Master. Gerios  male  4.0      1   \n",
              "159                         Sage, Master. Thomas Henry  male  4.0      8   \n",
              "176                      Lefebre, Master. Henry Forbes  male  4.0      3   \n",
              "709  Moubarek, Master. Halim Gonios (\"William George\")  male  4.0      1   \n",
              "\n",
              "     Parch    Ticket     Fare Cabin Embarked  \n",
              "65       1      2661  15.2458   NaN        C  \n",
              "159      2  CA. 2343  69.5500   NaN        S  \n",
              "176      1      4133  25.4667   NaN        S  \n",
              "709      1      2661  15.2458   NaN        C  "
            ]
          },
          "execution_count": 13,
          "metadata": {},
          "output_type": "execute_result"
        }
      ],
      "source": [
        "train_data[\n",
        "    (train_data.PassengerId == 66) |\n",
        "    (train_data.PassengerId == 160) |\n",
        "    (train_data.PassengerId == 177) |\n",
        "    (train_data.PassengerId == 710)\n",
        "]"
      ]
    },
    {
      "cell_type": "code",
      "execution_count": null,
      "id": "c017839e",
      "metadata": {
        "execution": {
          "iopub.execute_input": "2025-07-24T09:43:36.934383Z",
          "iopub.status.busy": "2025-07-24T09:43:36.934039Z",
          "iopub.status.idle": "2025-07-24T09:43:36.954424Z",
          "shell.execute_reply": "2025-07-24T09:43:36.953602Z"
        },
        "papermill": {
          "duration": 0.040968,
          "end_time": "2025-07-24T09:43:36.955884",
          "exception": false,
          "start_time": "2025-07-24T09:43:36.914916",
          "status": "completed"
        },
        "tags": [],
        "id": "c017839e",
        "outputId": "27fc063e-acf3-42e8-f832-bf828999ab04"
      },
      "outputs": [
        {
          "name": "stderr",
          "output_type": "stream",
          "text": [
            "/usr/local/lib/python3.11/dist-packages/pandas/io/formats/format.py:1458: RuntimeWarning: invalid value encountered in greater\n",
            "  has_large_values = (abs_vals > 1e6).any()\n",
            "/usr/local/lib/python3.11/dist-packages/pandas/io/formats/format.py:1459: RuntimeWarning: invalid value encountered in less\n",
            "  has_small_values = ((abs_vals < 10 ** (-self.digits)) & (abs_vals > 0)).any()\n",
            "/usr/local/lib/python3.11/dist-packages/pandas/io/formats/format.py:1459: RuntimeWarning: invalid value encountered in greater\n",
            "  has_small_values = ((abs_vals < 10 ** (-self.digits)) & (abs_vals > 0)).any()\n"
          ]
        },
        {
          "data": {
            "text/html": [
              "<div>\n",
              "<style scoped>\n",
              "    .dataframe tbody tr th:only-of-type {\n",
              "        vertical-align: middle;\n",
              "    }\n",
              "\n",
              "    .dataframe tbody tr th {\n",
              "        vertical-align: top;\n",
              "    }\n",
              "\n",
              "    .dataframe thead th {\n",
              "        text-align: right;\n",
              "    }\n",
              "</style>\n",
              "<table border=\"1\" class=\"dataframe\">\n",
              "  <thead>\n",
              "    <tr style=\"text-align: right;\">\n",
              "      <th></th>\n",
              "      <th>PassengerId</th>\n",
              "      <th>Name</th>\n",
              "      <th>Age</th>\n",
              "      <th>SibSp</th>\n",
              "      <th>Parch</th>\n",
              "    </tr>\n",
              "  </thead>\n",
              "  <tbody>\n",
              "    <tr>\n",
              "      <th>159</th>\n",
              "      <td>160</td>\n",
              "      <td>Sage, Master. Thomas Henry</td>\n",
              "      <td>NaN</td>\n",
              "      <td>8</td>\n",
              "      <td>2</td>\n",
              "    </tr>\n",
              "    <tr>\n",
              "      <th>180</th>\n",
              "      <td>181</td>\n",
              "      <td>Sage, Miss. Constance Gladys</td>\n",
              "      <td>NaN</td>\n",
              "      <td>8</td>\n",
              "      <td>2</td>\n",
              "    </tr>\n",
              "    <tr>\n",
              "      <th>201</th>\n",
              "      <td>202</td>\n",
              "      <td>Sage, Mr. Frederick</td>\n",
              "      <td>NaN</td>\n",
              "      <td>8</td>\n",
              "      <td>2</td>\n",
              "    </tr>\n",
              "    <tr>\n",
              "      <th>324</th>\n",
              "      <td>325</td>\n",
              "      <td>Sage, Mr. George John Jr</td>\n",
              "      <td>NaN</td>\n",
              "      <td>8</td>\n",
              "      <td>2</td>\n",
              "    </tr>\n",
              "    <tr>\n",
              "      <th>641</th>\n",
              "      <td>642</td>\n",
              "      <td>Sagesser, Mlle. Emma</td>\n",
              "      <td>24.0</td>\n",
              "      <td>0</td>\n",
              "      <td>0</td>\n",
              "    </tr>\n",
              "    <tr>\n",
              "      <th>792</th>\n",
              "      <td>793</td>\n",
              "      <td>Sage, Miss. Stella Anna</td>\n",
              "      <td>NaN</td>\n",
              "      <td>8</td>\n",
              "      <td>2</td>\n",
              "    </tr>\n",
              "    <tr>\n",
              "      <th>846</th>\n",
              "      <td>847</td>\n",
              "      <td>Sage, Mr. Douglas Bullen</td>\n",
              "      <td>NaN</td>\n",
              "      <td>8</td>\n",
              "      <td>2</td>\n",
              "    </tr>\n",
              "    <tr>\n",
              "      <th>863</th>\n",
              "      <td>864</td>\n",
              "      <td>Sage, Miss. Dorothy Edith \"Dolly\"</td>\n",
              "      <td>NaN</td>\n",
              "      <td>8</td>\n",
              "      <td>2</td>\n",
              "    </tr>\n",
              "    <tr>\n",
              "      <th>1079</th>\n",
              "      <td>1080</td>\n",
              "      <td>Sage, Miss. Ada</td>\n",
              "      <td>NaN</td>\n",
              "      <td>8</td>\n",
              "      <td>2</td>\n",
              "    </tr>\n",
              "    <tr>\n",
              "      <th>1233</th>\n",
              "      <td>1234</td>\n",
              "      <td>Sage, Mr. John George</td>\n",
              "      <td>NaN</td>\n",
              "      <td>1</td>\n",
              "      <td>9</td>\n",
              "    </tr>\n",
              "    <tr>\n",
              "      <th>1251</th>\n",
              "      <td>1252</td>\n",
              "      <td>Sage, Master. William Henry</td>\n",
              "      <td>14.5</td>\n",
              "      <td>8</td>\n",
              "      <td>2</td>\n",
              "    </tr>\n",
              "    <tr>\n",
              "      <th>1256</th>\n",
              "      <td>1257</td>\n",
              "      <td>Sage, Mrs. John (Annie Bullen)</td>\n",
              "      <td>NaN</td>\n",
              "      <td>1</td>\n",
              "      <td>9</td>\n",
              "    </tr>\n",
              "  </tbody>\n",
              "</table>\n",
              "</div>"
            ],
            "text/plain": [
              "      PassengerId                               Name   Age  SibSp  Parch\n",
              "159           160         Sage, Master. Thomas Henry   NaN      8      2\n",
              "180           181       Sage, Miss. Constance Gladys   NaN      8      2\n",
              "201           202                Sage, Mr. Frederick   NaN      8      2\n",
              "324           325           Sage, Mr. George John Jr   NaN      8      2\n",
              "641           642               Sagesser, Mlle. Emma  24.0      0      0\n",
              "792           793            Sage, Miss. Stella Anna   NaN      8      2\n",
              "846           847           Sage, Mr. Douglas Bullen   NaN      8      2\n",
              "863           864  Sage, Miss. Dorothy Edith \"Dolly\"   NaN      8      2\n",
              "1079         1080                    Sage, Miss. Ada   NaN      8      2\n",
              "1233         1234              Sage, Mr. John George   NaN      1      9\n",
              "1251         1252        Sage, Master. William Henry  14.5      8      2\n",
              "1256         1257     Sage, Mrs. John (Annie Bullen)   NaN      1      9"
            ]
          },
          "execution_count": 14,
          "metadata": {},
          "output_type": "execute_result"
        }
      ],
      "source": [
        "combined_data[\n",
        "    combined_data.Name.str.contains('Sage')\n",
        "][[\"PassengerId\", \"Name\", \"Age\", \"SibSp\", \"Parch\"]]"
      ]
    },
    {
      "cell_type": "markdown",
      "id": "8be6501d",
      "metadata": {
        "papermill": {
          "duration": 0.016543,
          "end_time": "2025-07-24T09:43:36.989699",
          "exception": false,
          "start_time": "2025-07-24T09:43:36.973156",
          "status": "completed"
        },
        "tags": [],
        "id": "8be6501d"
      },
      "source": [
        "There is 1 row that should not be there, which is PassengerId 642.\n",
        "\n",
        "Therefore, this is a family with 11 family members that consists of 2 parents and 9 children.\n",
        "\n",
        "If we assume all of them are biological, each child's age gap is 1 year, and the earliest they can have a child is 18 years old, that means the parents should be over 26-27 years old.\n",
        "\n",
        "This one family could just be an outlier as well. Therefore, I try to not get distracted by this."
      ]
    },
    {
      "cell_type": "code",
      "execution_count": null,
      "id": "6ca5f0af",
      "metadata": {
        "execution": {
          "iopub.execute_input": "2025-07-24T09:43:37.026237Z",
          "iopub.status.busy": "2025-07-24T09:43:37.025849Z",
          "iopub.status.idle": "2025-07-24T09:43:37.041977Z",
          "shell.execute_reply": "2025-07-24T09:43:37.040934Z"
        },
        "papermill": {
          "duration": 0.037075,
          "end_time": "2025-07-24T09:43:37.043488",
          "exception": false,
          "start_time": "2025-07-24T09:43:37.006413",
          "status": "completed"
        },
        "tags": [],
        "id": "6ca5f0af",
        "outputId": "2854822e-822a-4a54-b2ca-fc7fcc820ad6"
      },
      "outputs": [
        {
          "name": "stderr",
          "output_type": "stream",
          "text": [
            "/usr/local/lib/python3.11/dist-packages/pandas/io/formats/format.py:1458: RuntimeWarning: invalid value encountered in greater\n",
            "  has_large_values = (abs_vals > 1e6).any()\n",
            "/usr/local/lib/python3.11/dist-packages/pandas/io/formats/format.py:1459: RuntimeWarning: invalid value encountered in less\n",
            "  has_small_values = ((abs_vals < 10 ** (-self.digits)) & (abs_vals > 0)).any()\n",
            "/usr/local/lib/python3.11/dist-packages/pandas/io/formats/format.py:1459: RuntimeWarning: invalid value encountered in greater\n",
            "  has_small_values = ((abs_vals < 10 ** (-self.digits)) & (abs_vals > 0)).any()\n"
          ]
        },
        {
          "data": {
            "text/html": [
              "<div>\n",
              "<style scoped>\n",
              "    .dataframe tbody tr th:only-of-type {\n",
              "        vertical-align: middle;\n",
              "    }\n",
              "\n",
              "    .dataframe tbody tr th {\n",
              "        vertical-align: top;\n",
              "    }\n",
              "\n",
              "    .dataframe thead th {\n",
              "        text-align: right;\n",
              "    }\n",
              "</style>\n",
              "<table border=\"1\" class=\"dataframe\">\n",
              "  <thead>\n",
              "    <tr style=\"text-align: right;\">\n",
              "      <th></th>\n",
              "      <th>PassengerId</th>\n",
              "      <th>Pclass</th>\n",
              "      <th>Name</th>\n",
              "      <th>Sex</th>\n",
              "      <th>Age</th>\n",
              "      <th>SibSp</th>\n",
              "      <th>Parch</th>\n",
              "      <th>Ticket</th>\n",
              "      <th>Fare</th>\n",
              "      <th>Cabin</th>\n",
              "      <th>Embarked</th>\n",
              "    </tr>\n",
              "  </thead>\n",
              "  <tbody>\n",
              "    <tr>\n",
              "      <th>244</th>\n",
              "      <td>1136</td>\n",
              "      <td>3</td>\n",
              "      <td>Johnston, Master. William Arthur Willie\"\"</td>\n",
              "      <td>male</td>\n",
              "      <td>NaN</td>\n",
              "      <td>1</td>\n",
              "      <td>2</td>\n",
              "      <td>W./C. 6607</td>\n",
              "      <td>23.4500</td>\n",
              "      <td>NaN</td>\n",
              "      <td>S</td>\n",
              "    </tr>\n",
              "    <tr>\n",
              "      <th>339</th>\n",
              "      <td>1231</td>\n",
              "      <td>3</td>\n",
              "      <td>Betros, Master. Seman</td>\n",
              "      <td>male</td>\n",
              "      <td>NaN</td>\n",
              "      <td>0</td>\n",
              "      <td>0</td>\n",
              "      <td>2622</td>\n",
              "      <td>7.2292</td>\n",
              "      <td>NaN</td>\n",
              "      <td>C</td>\n",
              "    </tr>\n",
              "    <tr>\n",
              "      <th>344</th>\n",
              "      <td>1236</td>\n",
              "      <td>3</td>\n",
              "      <td>van Billiard, Master. James William</td>\n",
              "      <td>male</td>\n",
              "      <td>NaN</td>\n",
              "      <td>1</td>\n",
              "      <td>1</td>\n",
              "      <td>A/5. 851</td>\n",
              "      <td>14.5000</td>\n",
              "      <td>NaN</td>\n",
              "      <td>S</td>\n",
              "    </tr>\n",
              "    <tr>\n",
              "      <th>417</th>\n",
              "      <td>1309</td>\n",
              "      <td>3</td>\n",
              "      <td>Peter, Master. Michael J</td>\n",
              "      <td>male</td>\n",
              "      <td>NaN</td>\n",
              "      <td>1</td>\n",
              "      <td>1</td>\n",
              "      <td>2668</td>\n",
              "      <td>22.3583</td>\n",
              "      <td>NaN</td>\n",
              "      <td>C</td>\n",
              "    </tr>\n",
              "  </tbody>\n",
              "</table>\n",
              "</div>"
            ],
            "text/plain": [
              "     PassengerId  Pclass                                       Name   Sex  \\\n",
              "244         1136       3  Johnston, Master. William Arthur Willie\"\"  male   \n",
              "339         1231       3                      Betros, Master. Seman  male   \n",
              "344         1236       3        van Billiard, Master. James William  male   \n",
              "417         1309       3                   Peter, Master. Michael J  male   \n",
              "\n",
              "     Age  SibSp  Parch      Ticket     Fare Cabin Embarked  \n",
              "244  NaN      1      2  W./C. 6607  23.4500   NaN        S  \n",
              "339  NaN      0      0        2622   7.2292   NaN        C  \n",
              "344  NaN      1      1    A/5. 851  14.5000   NaN        S  \n",
              "417  NaN      1      1        2668  22.3583   NaN        C  "
            ]
          },
          "execution_count": 15,
          "metadata": {},
          "output_type": "execute_result"
        }
      ],
      "source": [
        "# Now let's see with the test data\n",
        "test_data[(test_data.Name.str.contains('Master')) & test_data.Age.isna()]"
      ]
    },
    {
      "cell_type": "markdown",
      "id": "b84511da",
      "metadata": {
        "papermill": {
          "duration": 0.019362,
          "end_time": "2025-07-24T09:43:37.083034",
          "exception": false,
          "start_time": "2025-07-24T09:43:37.063672",
          "status": "completed"
        },
        "tags": [],
        "id": "b84511da"
      },
      "source": [
        "There is one insight that I got from this notebook by Kaggle user `Allohvk`\n",
        "https://www.kaggle.com/code/allohvk/titanic-missing-age-imputation-tutorial-advanced\n",
        "\n",
        "There is a person with the \"Master\" title in test_data that has Parch == 0. Based on the dataset overview, this could mean that the child is traveling with his nanny, and therefore, I also doubt that parents of a child are confident enough to let their 5-year-old child travel alone with his nanny.\n",
        "\n",
        "Therefore, we can give the child the maximum age of a person with the title \"Master\" from the train_data, which is 12 years old (From the train_data to prevent data leakage from test_data)"
      ]
    },
    {
      "cell_type": "code",
      "execution_count": null,
      "id": "70a66b15",
      "metadata": {
        "execution": {
          "iopub.execute_input": "2025-07-24T09:43:37.118673Z",
          "iopub.status.busy": "2025-07-24T09:43:37.118338Z",
          "iopub.status.idle": "2025-07-24T09:43:37.125901Z",
          "shell.execute_reply": "2025-07-24T09:43:37.125031Z"
        },
        "papermill": {
          "duration": 0.027206,
          "end_time": "2025-07-24T09:43:37.127371",
          "exception": false,
          "start_time": "2025-07-24T09:43:37.100165",
          "status": "completed"
        },
        "tags": [],
        "id": "70a66b15"
      },
      "outputs": [],
      "source": [
        "oldest_master_train = max(train_data[(train_data.Name.str.contains('Master')) & (train_data.Sex == 'male')][\"Age\"])\n",
        "test_data.loc[\n",
        "    test_data.PassengerId == 1231,\n",
        "    \"Age\"\n",
        "] = oldest_master_train"
      ]
    },
    {
      "cell_type": "code",
      "execution_count": null,
      "id": "1d8f694e",
      "metadata": {
        "execution": {
          "iopub.execute_input": "2025-07-24T09:43:37.163040Z",
          "iopub.status.busy": "2025-07-24T09:43:37.162750Z",
          "iopub.status.idle": "2025-07-24T09:43:37.169016Z",
          "shell.execute_reply": "2025-07-24T09:43:37.168142Z"
        },
        "papermill": {
          "duration": 0.025585,
          "end_time": "2025-07-24T09:43:37.170456",
          "exception": false,
          "start_time": "2025-07-24T09:43:37.144871",
          "status": "completed"
        },
        "tags": [],
        "id": "1d8f694e"
      },
      "outputs": [],
      "source": [
        "# Impute the last 3 with the median age of \"Master\" with Pclass == 3 and male\n",
        "test_data.loc[\n",
        "    (test_data.Name.str.contains('Master')) &\n",
        "    (test_data.Age.isna()),\n",
        "    \"Age\"\n",
        "] = median_master_3_male"
      ]
    },
    {
      "cell_type": "code",
      "execution_count": null,
      "id": "87bfef4f",
      "metadata": {
        "execution": {
          "iopub.execute_input": "2025-07-24T09:43:37.205658Z",
          "iopub.status.busy": "2025-07-24T09:43:37.205330Z",
          "iopub.status.idle": "2025-07-24T09:43:37.219598Z",
          "shell.execute_reply": "2025-07-24T09:43:37.218687Z"
        },
        "papermill": {
          "duration": 0.033496,
          "end_time": "2025-07-24T09:43:37.221040",
          "exception": false,
          "start_time": "2025-07-24T09:43:37.187544",
          "status": "completed"
        },
        "tags": [],
        "id": "87bfef4f",
        "outputId": "cc986b7d-ea77-42d7-9fd9-625e4a0a7075"
      },
      "outputs": [
        {
          "data": {
            "text/html": [
              "<div>\n",
              "<style scoped>\n",
              "    .dataframe tbody tr th:only-of-type {\n",
              "        vertical-align: middle;\n",
              "    }\n",
              "\n",
              "    .dataframe tbody tr th {\n",
              "        vertical-align: top;\n",
              "    }\n",
              "\n",
              "    .dataframe thead th {\n",
              "        text-align: right;\n",
              "    }\n",
              "</style>\n",
              "<table border=\"1\" class=\"dataframe\">\n",
              "  <thead>\n",
              "    <tr style=\"text-align: right;\">\n",
              "      <th></th>\n",
              "      <th>PassengerId</th>\n",
              "      <th>Pclass</th>\n",
              "      <th>Name</th>\n",
              "      <th>Sex</th>\n",
              "      <th>Age</th>\n",
              "      <th>SibSp</th>\n",
              "      <th>Parch</th>\n",
              "      <th>Ticket</th>\n",
              "      <th>Fare</th>\n",
              "      <th>Cabin</th>\n",
              "      <th>Embarked</th>\n",
              "    </tr>\n",
              "  </thead>\n",
              "  <tbody>\n",
              "    <tr>\n",
              "      <th>244</th>\n",
              "      <td>1136</td>\n",
              "      <td>3</td>\n",
              "      <td>Johnston, Master. William Arthur Willie\"\"</td>\n",
              "      <td>male</td>\n",
              "      <td>4.0</td>\n",
              "      <td>1</td>\n",
              "      <td>2</td>\n",
              "      <td>W./C. 6607</td>\n",
              "      <td>23.4500</td>\n",
              "      <td>NaN</td>\n",
              "      <td>S</td>\n",
              "    </tr>\n",
              "    <tr>\n",
              "      <th>339</th>\n",
              "      <td>1231</td>\n",
              "      <td>3</td>\n",
              "      <td>Betros, Master. Seman</td>\n",
              "      <td>male</td>\n",
              "      <td>12.0</td>\n",
              "      <td>0</td>\n",
              "      <td>0</td>\n",
              "      <td>2622</td>\n",
              "      <td>7.2292</td>\n",
              "      <td>NaN</td>\n",
              "      <td>C</td>\n",
              "    </tr>\n",
              "    <tr>\n",
              "      <th>344</th>\n",
              "      <td>1236</td>\n",
              "      <td>3</td>\n",
              "      <td>van Billiard, Master. James William</td>\n",
              "      <td>male</td>\n",
              "      <td>4.0</td>\n",
              "      <td>1</td>\n",
              "      <td>1</td>\n",
              "      <td>A/5. 851</td>\n",
              "      <td>14.5000</td>\n",
              "      <td>NaN</td>\n",
              "      <td>S</td>\n",
              "    </tr>\n",
              "    <tr>\n",
              "      <th>417</th>\n",
              "      <td>1309</td>\n",
              "      <td>3</td>\n",
              "      <td>Peter, Master. Michael J</td>\n",
              "      <td>male</td>\n",
              "      <td>4.0</td>\n",
              "      <td>1</td>\n",
              "      <td>1</td>\n",
              "      <td>2668</td>\n",
              "      <td>22.3583</td>\n",
              "      <td>NaN</td>\n",
              "      <td>C</td>\n",
              "    </tr>\n",
              "  </tbody>\n",
              "</table>\n",
              "</div>"
            ],
            "text/plain": [
              "     PassengerId  Pclass                                       Name   Sex  \\\n",
              "244         1136       3  Johnston, Master. William Arthur Willie\"\"  male   \n",
              "339         1231       3                      Betros, Master. Seman  male   \n",
              "344         1236       3        van Billiard, Master. James William  male   \n",
              "417         1309       3                   Peter, Master. Michael J  male   \n",
              "\n",
              "      Age  SibSp  Parch      Ticket     Fare Cabin Embarked  \n",
              "244   4.0      1      2  W./C. 6607  23.4500   NaN        S  \n",
              "339  12.0      0      0        2622   7.2292   NaN        C  \n",
              "344   4.0      1      1    A/5. 851  14.5000   NaN        S  \n",
              "417   4.0      1      1        2668  22.3583   NaN        C  "
            ]
          },
          "execution_count": 18,
          "metadata": {},
          "output_type": "execute_result"
        }
      ],
      "source": [
        "test_data[\n",
        "    (test_data.PassengerId == 1136) |\n",
        "    (test_data.PassengerId == 1231) |\n",
        "    (test_data.PassengerId == 1236) |\n",
        "    (test_data.PassengerId == 1309)\n",
        "]"
      ]
    },
    {
      "cell_type": "code",
      "execution_count": null,
      "id": "ca1f942f",
      "metadata": {
        "execution": {
          "iopub.execute_input": "2025-07-24T09:43:37.256566Z",
          "iopub.status.busy": "2025-07-24T09:43:37.256277Z",
          "iopub.status.idle": "2025-07-24T09:43:37.275319Z",
          "shell.execute_reply": "2025-07-24T09:43:37.274370Z"
        },
        "papermill": {
          "duration": 0.038713,
          "end_time": "2025-07-24T09:43:37.277023",
          "exception": false,
          "start_time": "2025-07-24T09:43:37.238310",
          "status": "completed"
        },
        "tags": [],
        "id": "ca1f942f",
        "outputId": "fab5ad2e-6dcf-4785-d07a-326af51d2cc8"
      },
      "outputs": [
        {
          "name": "stderr",
          "output_type": "stream",
          "text": [
            "/usr/local/lib/python3.11/dist-packages/pandas/io/formats/format.py:1458: RuntimeWarning: invalid value encountered in greater\n",
            "  has_large_values = (abs_vals > 1e6).any()\n",
            "/usr/local/lib/python3.11/dist-packages/pandas/io/formats/format.py:1459: RuntimeWarning: invalid value encountered in less\n",
            "  has_small_values = ((abs_vals < 10 ** (-self.digits)) & (abs_vals > 0)).any()\n",
            "/usr/local/lib/python3.11/dist-packages/pandas/io/formats/format.py:1459: RuntimeWarning: invalid value encountered in greater\n",
            "  has_small_values = ((abs_vals < 10 ** (-self.digits)) & (abs_vals > 0)).any()\n"
          ]
        },
        {
          "data": {
            "text/html": [
              "<div>\n",
              "<style scoped>\n",
              "    .dataframe tbody tr th:only-of-type {\n",
              "        vertical-align: middle;\n",
              "    }\n",
              "\n",
              "    .dataframe tbody tr th {\n",
              "        vertical-align: top;\n",
              "    }\n",
              "\n",
              "    .dataframe thead th {\n",
              "        text-align: right;\n",
              "    }\n",
              "</style>\n",
              "<table border=\"1\" class=\"dataframe\">\n",
              "  <thead>\n",
              "    <tr style=\"text-align: right;\">\n",
              "      <th></th>\n",
              "      <th>PassengerId</th>\n",
              "      <th>Survived</th>\n",
              "      <th>Pclass</th>\n",
              "      <th>Name</th>\n",
              "      <th>Sex</th>\n",
              "      <th>Age</th>\n",
              "      <th>SibSp</th>\n",
              "      <th>Parch</th>\n",
              "      <th>Ticket</th>\n",
              "      <th>Fare</th>\n",
              "      <th>Cabin</th>\n",
              "      <th>Embarked</th>\n",
              "    </tr>\n",
              "  </thead>\n",
              "  <tbody>\n",
              "    <tr>\n",
              "      <th>5</th>\n",
              "      <td>6</td>\n",
              "      <td>0</td>\n",
              "      <td>3</td>\n",
              "      <td>Moran, Mr. James</td>\n",
              "      <td>male</td>\n",
              "      <td>NaN</td>\n",
              "      <td>0</td>\n",
              "      <td>0</td>\n",
              "      <td>330877</td>\n",
              "      <td>8.4583</td>\n",
              "      <td>NaN</td>\n",
              "      <td>Q</td>\n",
              "    </tr>\n",
              "    <tr>\n",
              "      <th>26</th>\n",
              "      <td>27</td>\n",
              "      <td>0</td>\n",
              "      <td>3</td>\n",
              "      <td>Emir, Mr. Farred Chehab</td>\n",
              "      <td>male</td>\n",
              "      <td>NaN</td>\n",
              "      <td>0</td>\n",
              "      <td>0</td>\n",
              "      <td>2631</td>\n",
              "      <td>7.2250</td>\n",
              "      <td>NaN</td>\n",
              "      <td>C</td>\n",
              "    </tr>\n",
              "    <tr>\n",
              "      <th>29</th>\n",
              "      <td>30</td>\n",
              "      <td>0</td>\n",
              "      <td>3</td>\n",
              "      <td>Todoroff, Mr. Lalio</td>\n",
              "      <td>male</td>\n",
              "      <td>NaN</td>\n",
              "      <td>0</td>\n",
              "      <td>0</td>\n",
              "      <td>349216</td>\n",
              "      <td>7.8958</td>\n",
              "      <td>NaN</td>\n",
              "      <td>S</td>\n",
              "    </tr>\n",
              "    <tr>\n",
              "      <th>36</th>\n",
              "      <td>37</td>\n",
              "      <td>1</td>\n",
              "      <td>3</td>\n",
              "      <td>Mamee, Mr. Hanna</td>\n",
              "      <td>male</td>\n",
              "      <td>NaN</td>\n",
              "      <td>0</td>\n",
              "      <td>0</td>\n",
              "      <td>2677</td>\n",
              "      <td>7.2292</td>\n",
              "      <td>NaN</td>\n",
              "      <td>C</td>\n",
              "    </tr>\n",
              "    <tr>\n",
              "      <th>42</th>\n",
              "      <td>43</td>\n",
              "      <td>0</td>\n",
              "      <td>3</td>\n",
              "      <td>Kraeff, Mr. Theodor</td>\n",
              "      <td>male</td>\n",
              "      <td>NaN</td>\n",
              "      <td>0</td>\n",
              "      <td>0</td>\n",
              "      <td>349253</td>\n",
              "      <td>7.8958</td>\n",
              "      <td>NaN</td>\n",
              "      <td>C</td>\n",
              "    </tr>\n",
              "    <tr>\n",
              "      <th>...</th>\n",
              "      <td>...</td>\n",
              "      <td>...</td>\n",
              "      <td>...</td>\n",
              "      <td>...</td>\n",
              "      <td>...</td>\n",
              "      <td>...</td>\n",
              "      <td>...</td>\n",
              "      <td>...</td>\n",
              "      <td>...</td>\n",
              "      <td>...</td>\n",
              "      <td>...</td>\n",
              "      <td>...</td>\n",
              "    </tr>\n",
              "    <tr>\n",
              "      <th>837</th>\n",
              "      <td>838</td>\n",
              "      <td>0</td>\n",
              "      <td>3</td>\n",
              "      <td>Sirota, Mr. Maurice</td>\n",
              "      <td>male</td>\n",
              "      <td>NaN</td>\n",
              "      <td>0</td>\n",
              "      <td>0</td>\n",
              "      <td>392092</td>\n",
              "      <td>8.0500</td>\n",
              "      <td>NaN</td>\n",
              "      <td>S</td>\n",
              "    </tr>\n",
              "    <tr>\n",
              "      <th>846</th>\n",
              "      <td>847</td>\n",
              "      <td>0</td>\n",
              "      <td>3</td>\n",
              "      <td>Sage, Mr. Douglas Bullen</td>\n",
              "      <td>male</td>\n",
              "      <td>NaN</td>\n",
              "      <td>8</td>\n",
              "      <td>2</td>\n",
              "      <td>CA. 2343</td>\n",
              "      <td>69.5500</td>\n",
              "      <td>NaN</td>\n",
              "      <td>S</td>\n",
              "    </tr>\n",
              "    <tr>\n",
              "      <th>859</th>\n",
              "      <td>860</td>\n",
              "      <td>0</td>\n",
              "      <td>3</td>\n",
              "      <td>Razi, Mr. Raihed</td>\n",
              "      <td>male</td>\n",
              "      <td>NaN</td>\n",
              "      <td>0</td>\n",
              "      <td>0</td>\n",
              "      <td>2629</td>\n",
              "      <td>7.2292</td>\n",
              "      <td>NaN</td>\n",
              "      <td>C</td>\n",
              "    </tr>\n",
              "    <tr>\n",
              "      <th>868</th>\n",
              "      <td>869</td>\n",
              "      <td>0</td>\n",
              "      <td>3</td>\n",
              "      <td>van Melkebeke, Mr. Philemon</td>\n",
              "      <td>male</td>\n",
              "      <td>NaN</td>\n",
              "      <td>0</td>\n",
              "      <td>0</td>\n",
              "      <td>345777</td>\n",
              "      <td>9.5000</td>\n",
              "      <td>NaN</td>\n",
              "      <td>S</td>\n",
              "    </tr>\n",
              "    <tr>\n",
              "      <th>878</th>\n",
              "      <td>879</td>\n",
              "      <td>0</td>\n",
              "      <td>3</td>\n",
              "      <td>Laleff, Mr. Kristo</td>\n",
              "      <td>male</td>\n",
              "      <td>NaN</td>\n",
              "      <td>0</td>\n",
              "      <td>0</td>\n",
              "      <td>349217</td>\n",
              "      <td>7.8958</td>\n",
              "      <td>NaN</td>\n",
              "      <td>S</td>\n",
              "    </tr>\n",
              "  </tbody>\n",
              "</table>\n",
              "<p>90 rows × 12 columns</p>\n",
              "</div>"
            ],
            "text/plain": [
              "     PassengerId  Survived  Pclass                         Name   Sex  Age  \\\n",
              "5              6         0       3             Moran, Mr. James  male  NaN   \n",
              "26            27         0       3      Emir, Mr. Farred Chehab  male  NaN   \n",
              "29            30         0       3          Todoroff, Mr. Lalio  male  NaN   \n",
              "36            37         1       3             Mamee, Mr. Hanna  male  NaN   \n",
              "42            43         0       3          Kraeff, Mr. Theodor  male  NaN   \n",
              "..           ...       ...     ...                          ...   ...  ...   \n",
              "837          838         0       3          Sirota, Mr. Maurice  male  NaN   \n",
              "846          847         0       3     Sage, Mr. Douglas Bullen  male  NaN   \n",
              "859          860         0       3             Razi, Mr. Raihed  male  NaN   \n",
              "868          869         0       3  van Melkebeke, Mr. Philemon  male  NaN   \n",
              "878          879         0       3           Laleff, Mr. Kristo  male  NaN   \n",
              "\n",
              "     SibSp  Parch    Ticket     Fare Cabin Embarked  \n",
              "5        0      0    330877   8.4583   NaN        Q  \n",
              "26       0      0      2631   7.2250   NaN        C  \n",
              "29       0      0    349216   7.8958   NaN        S  \n",
              "36       0      0      2677   7.2292   NaN        C  \n",
              "42       0      0    349253   7.8958   NaN        C  \n",
              "..     ...    ...       ...      ...   ...      ...  \n",
              "837      0      0    392092   8.0500   NaN        S  \n",
              "846      8      2  CA. 2343  69.5500   NaN        S  \n",
              "859      0      0      2629   7.2292   NaN        C  \n",
              "868      0      0    345777   9.5000   NaN        S  \n",
              "878      0      0    349217   7.8958   NaN        S  \n",
              "\n",
              "[90 rows x 12 columns]"
            ]
          },
          "execution_count": 19,
          "metadata": {},
          "output_type": "execute_result"
        }
      ],
      "source": [
        "# Check males with Pclass 3 with the title \"Mr.\"\n",
        "train_data[\n",
        "    (train_data.Name.str.contains('Mr.', regex=True)) &\n",
        "    (train_data.Age.isna()) &\n",
        "    (train_data.Sex == 'male') &\n",
        "    (train_data.Pclass == 3)\n",
        "]"
      ]
    },
    {
      "cell_type": "code",
      "execution_count": null,
      "id": "58d6285c",
      "metadata": {
        "execution": {
          "iopub.execute_input": "2025-07-24T09:43:37.324180Z",
          "iopub.status.busy": "2025-07-24T09:43:37.323367Z",
          "iopub.status.idle": "2025-07-24T09:43:37.332632Z",
          "shell.execute_reply": "2025-07-24T09:43:37.331652Z"
        },
        "papermill": {
          "duration": 0.030184,
          "end_time": "2025-07-24T09:43:37.334385",
          "exception": false,
          "start_time": "2025-07-24T09:43:37.304201",
          "status": "completed"
        },
        "tags": [],
        "id": "58d6285c"
      },
      "outputs": [],
      "source": [
        "data_mr_male_3 = train_data[\n",
        "    (train_data.Name.str.contains('Mr.', regex=True)) &\n",
        "    (train_data.Age.notna()) &\n",
        "    (train_data.Sex == 'male') &\n",
        "    (train_data.Pclass == 3)\n",
        "]"
      ]
    },
    {
      "cell_type": "code",
      "execution_count": null,
      "id": "08058196",
      "metadata": {
        "execution": {
          "iopub.execute_input": "2025-07-24T09:43:37.375941Z",
          "iopub.status.busy": "2025-07-24T09:43:37.375529Z",
          "iopub.status.idle": "2025-07-24T09:43:37.382717Z",
          "shell.execute_reply": "2025-07-24T09:43:37.381837Z"
        },
        "papermill": {
          "duration": 0.027022,
          "end_time": "2025-07-24T09:43:37.384104",
          "exception": false,
          "start_time": "2025-07-24T09:43:37.357082",
          "status": "completed"
        },
        "tags": [],
        "id": "08058196"
      },
      "outputs": [],
      "source": [
        "data_mr_male_2 = train_data[\n",
        "    (train_data.Name.str.contains('Mr.', regex=True)) &\n",
        "    (train_data.Age.notna()) &\n",
        "    (train_data.Sex == 'male') &\n",
        "    (train_data.Pclass == 2)\n",
        "]"
      ]
    },
    {
      "cell_type": "code",
      "execution_count": null,
      "id": "0b32f17b",
      "metadata": {
        "execution": {
          "iopub.execute_input": "2025-07-24T09:43:37.421306Z",
          "iopub.status.busy": "2025-07-24T09:43:37.420436Z",
          "iopub.status.idle": "2025-07-24T09:43:37.429578Z",
          "shell.execute_reply": "2025-07-24T09:43:37.428674Z"
        },
        "papermill": {
          "duration": 0.029937,
          "end_time": "2025-07-24T09:43:37.431688",
          "exception": false,
          "start_time": "2025-07-24T09:43:37.401751",
          "status": "completed"
        },
        "tags": [],
        "id": "0b32f17b"
      },
      "outputs": [],
      "source": [
        "data_mr_male_1 = train_data[\n",
        "    (train_data.Name.str.contains('Mr.', regex=True)) &\n",
        "    (train_data.Age.notna()) &\n",
        "    (train_data.Sex == 'male') &\n",
        "    (train_data.Pclass == 1)\n",
        "]"
      ]
    },
    {
      "cell_type": "code",
      "execution_count": null,
      "id": "c7c832b7",
      "metadata": {
        "execution": {
          "iopub.execute_input": "2025-07-24T09:43:37.477454Z",
          "iopub.status.busy": "2025-07-24T09:43:37.476699Z",
          "iopub.status.idle": "2025-07-24T09:43:37.485589Z",
          "shell.execute_reply": "2025-07-24T09:43:37.484518Z"
        },
        "papermill": {
          "duration": 0.030801,
          "end_time": "2025-07-24T09:43:37.487151",
          "exception": false,
          "start_time": "2025-07-24T09:43:37.456350",
          "status": "completed"
        },
        "tags": [],
        "id": "c7c832b7",
        "outputId": "7ee77d5d-111c-45b5-f7ec-11e2e8320553"
      },
      "outputs": [
        {
          "name": "stdout",
          "output_type": "stream",
          "text": [
            "Median Pclass 3, male, Mr.:  26.0\n",
            "Mean Pclass 3, male, Mr.:  28.724890829694324\n",
            "Median Pclass 2, male, Mr.:  31.0\n",
            "Mean Pclass 2, male, Mr.:  32.76829268292683\n",
            "Median Pclass 1, male, Mr.:  40.0\n",
            "Mean Pclass 1, male, Mr.:  41.66477272727273\n"
          ]
        }
      ],
      "source": [
        "print(\"Median Pclass 3, male, Mr.: \", data_mr_male_3[\"Age\"].median())\n",
        "print(\"Mean Pclass 3, male, Mr.: \", data_mr_male_3[\"Age\"].mean())\n",
        "print(\"Median Pclass 2, male, Mr.: \", data_mr_male_2[\"Age\"].median())\n",
        "print(\"Mean Pclass 2, male, Mr.: \", data_mr_male_2[\"Age\"].mean())\n",
        "print(\"Median Pclass 1, male, Mr.: \", data_mr_male_1[\"Age\"].median())\n",
        "print(\"Mean Pclass 1, male, Mr.: \", data_mr_male_1[\"Age\"].mean())"
      ]
    },
    {
      "cell_type": "code",
      "execution_count": null,
      "id": "37011bf9",
      "metadata": {
        "execution": {
          "iopub.execute_input": "2025-07-24T09:43:37.524338Z",
          "iopub.status.busy": "2025-07-24T09:43:37.524050Z",
          "iopub.status.idle": "2025-07-24T09:43:37.921564Z",
          "shell.execute_reply": "2025-07-24T09:43:37.920633Z"
        },
        "papermill": {
          "duration": 0.417637,
          "end_time": "2025-07-24T09:43:37.923028",
          "exception": false,
          "start_time": "2025-07-24T09:43:37.505391",
          "status": "completed"
        },
        "tags": [],
        "id": "37011bf9",
        "outputId": "fbae3f0f-41e3-4add-ccad-2d2bf0853050"
      },
      "outputs": [
        {
          "name": "stderr",
          "output_type": "stream",
          "text": [
            "/usr/local/lib/python3.11/dist-packages/seaborn/_oldcore.py:1119: FutureWarning: use_inf_as_na option is deprecated and will be removed in a future version. Convert inf values to NaN before operating instead.\n",
            "  with pd.option_context('mode.use_inf_as_na', True):\n"
          ]
        },
        {
          "data": {
            "text/plain": [
              "<Axes: xlabel='Age', ylabel='Count'>"
            ]
          },
          "execution_count": 24,
          "metadata": {},
          "output_type": "execute_result"
        },
        {
          "data": {
            "image/png": "[encoded data removed]",
            "text/plain": [
              "<Figure size 640x480 with 1 Axes>"
            ]
          },
          "metadata": {},
          "output_type": "display_data"
        }
      ],
      "source": [
        "sns.histplot(data=data_mr_male_3, x=\"Age\")"
      ]
    },
    {
      "cell_type": "code",
      "execution_count": null,
      "id": "1199c330",
      "metadata": {
        "execution": {
          "iopub.execute_input": "2025-07-24T09:43:37.961468Z",
          "iopub.status.busy": "2025-07-24T09:43:37.960570Z",
          "iopub.status.idle": "2025-07-24T09:43:38.175158Z",
          "shell.execute_reply": "2025-07-24T09:43:38.174177Z"
        },
        "papermill": {
          "duration": 0.235184,
          "end_time": "2025-07-24T09:43:38.176601",
          "exception": false,
          "start_time": "2025-07-24T09:43:37.941417",
          "status": "completed"
        },
        "tags": [],
        "id": "1199c330",
        "outputId": "20a1bb1f-db28-487b-f71a-04beabc8646a"
      },
      "outputs": [
        {
          "name": "stderr",
          "output_type": "stream",
          "text": [
            "/usr/local/lib/python3.11/dist-packages/seaborn/_oldcore.py:1119: FutureWarning: use_inf_as_na option is deprecated and will be removed in a future version. Convert inf values to NaN before operating instead.\n",
            "  with pd.option_context('mode.use_inf_as_na', True):\n"
          ]
        },
        {
          "data": {
            "text/plain": [
              "<Axes: xlabel='Age', ylabel='Count'>"
            ]
          },
          "execution_count": 25,
          "metadata": {},
          "output_type": "execute_result"
        },
        {
          "data": {
            "image/png": "[encoded data removed]",
            "text/plain": [
              "<Figure size 640x480 with 1 Axes>"
            ]
          },
          "metadata": {},
          "output_type": "display_data"
        }
      ],
      "source": [
        "sns.histplot(data=data_mr_male_2, x=\"Age\")"
      ]
    },
    {
      "cell_type": "code",
      "execution_count": null,
      "id": "ce3e3aac",
      "metadata": {
        "execution": {
          "iopub.execute_input": "2025-07-24T09:43:38.216502Z",
          "iopub.status.busy": "2025-07-24T09:43:38.215656Z",
          "iopub.status.idle": "2025-07-24T09:43:38.421872Z",
          "shell.execute_reply": "2025-07-24T09:43:38.420914Z"
        },
        "papermill": {
          "duration": 0.227536,
          "end_time": "2025-07-24T09:43:38.423493",
          "exception": false,
          "start_time": "2025-07-24T09:43:38.195957",
          "status": "completed"
        },
        "tags": [],
        "id": "ce3e3aac",
        "outputId": "1ec1e665-9345-481b-f235-f8fe8b4c82fa"
      },
      "outputs": [
        {
          "name": "stderr",
          "output_type": "stream",
          "text": [
            "/usr/local/lib/python3.11/dist-packages/seaborn/_oldcore.py:1119: FutureWarning: use_inf_as_na option is deprecated and will be removed in a future version. Convert inf values to NaN before operating instead.\n",
            "  with pd.option_context('mode.use_inf_as_na', True):\n"
          ]
        },
        {
          "data": {
            "text/plain": [
              "<Axes: xlabel='Age', ylabel='Count'>"
            ]
          },
          "execution_count": 26,
          "metadata": {},
          "output_type": "execute_result"
        },
        {
          "data": {
            "image/png": "[encoded data removed]",
            "text/plain": [
              "<Figure size 640x480 with 1 Axes>"
            ]
          },
          "metadata": {},
          "output_type": "display_data"
        }
      ],
      "source": [
        "sns.histplot(data=data_mr_male_1, x=\"Age\")"
      ]
    },
    {
      "cell_type": "code",
      "execution_count": null,
      "id": "bcb192b9",
      "metadata": {
        "execution": {
          "iopub.execute_input": "2025-07-24T09:43:38.463011Z",
          "iopub.status.busy": "2025-07-24T09:43:38.462734Z",
          "iopub.status.idle": "2025-07-24T09:43:38.483186Z",
          "shell.execute_reply": "2025-07-24T09:43:38.482398Z"
        },
        "papermill": {
          "duration": 0.041756,
          "end_time": "2025-07-24T09:43:38.484565",
          "exception": false,
          "start_time": "2025-07-24T09:43:38.442809",
          "status": "completed"
        },
        "tags": [],
        "id": "bcb192b9"
      },
      "outputs": [],
      "source": [
        "# Since it is skewed to the right, I think I'm going to impute it with the median as well\n",
        "median_data_mr_male_3 = data_mr_male_3[\"Age\"].median()\n",
        "median_data_mr_male_2 = data_mr_male_2[\"Age\"].median()\n",
        "median_data_mr_male_1 = data_mr_male_1[\"Age\"].median()\n",
        "\n",
        "train_data.loc[\n",
        "    (train_data.Name.str.contains('Mr.', regex=True)) &\n",
        "    (train_data.Age.isna()) &\n",
        "    (train_data.Sex == 'male') &\n",
        "    (train_data.Pclass == 3),\n",
        "    \"Age\"\n",
        "] = median_data_mr_male_3\n",
        "\n",
        "train_data.loc[\n",
        "    (train_data.Name.str.contains('Mr.', regex=True)) &\n",
        "    (train_data.Age.isna()) &\n",
        "    (train_data.Sex == 'male') &\n",
        "    (train_data.Pclass == 2),\n",
        "    \"Age\"\n",
        "] = median_data_mr_male_2\n",
        "\n",
        "train_data.loc[\n",
        "    (train_data.Name.str.contains('Mr.', regex=True)) &\n",
        "    (train_data.Age.isna()) &\n",
        "    (train_data.Sex == 'male') &\n",
        "    (train_data.Pclass == 1),\n",
        "    \"Age\"\n",
        "] = median_data_mr_male_1\n",
        "\n",
        "# Test data\n",
        "test_data.loc[\n",
        "    (test_data.Name.str.contains('Mr.', regex=True)) &\n",
        "    (test_data.Age.isna()) &\n",
        "    (test_data.Sex == 'male') &\n",
        "    (test_data.Pclass == 3),\n",
        "    \"Age\"\n",
        "] = median_data_mr_male_3\n",
        "\n",
        "test_data.loc[\n",
        "    (test_data.Name.str.contains('Mr.', regex=True)) &\n",
        "    (test_data.Age.isna()) &\n",
        "    (test_data.Sex == 'male') &\n",
        "    (test_data.Pclass == 2),\n",
        "    \"Age\"\n",
        "] = median_data_mr_male_2\n",
        "\n",
        "test_data.loc[\n",
        "    (test_data.Name.str.contains('Mr.', regex=True)) &\n",
        "    (test_data.Age.isna()) &\n",
        "    (test_data.Sex == 'male') &\n",
        "    (test_data.Pclass == 1),\n",
        "    \"Age\"\n",
        "] = median_data_mr_male_1"
      ]
    },
    {
      "cell_type": "markdown",
      "id": "85de2a41",
      "metadata": {
        "papermill": {
          "duration": 0.020344,
          "end_time": "2025-07-24T09:43:38.524569",
          "exception": false,
          "start_time": "2025-07-24T09:43:38.504225",
          "status": "completed"
        },
        "tags": [],
        "id": "85de2a41"
      },
      "source": [
        "The next one is for females, which I think is a little bit tricky because females have 2 main titles, which are \"Miss.\" and \"Mrs.\".\n",
        "\n",
        "In the following code, we can see that \"Miss.\" has a much lower minimum, which is 0.75 compared to the minimum of \"Mrs.\" which is 15.0.\n",
        "\n",
        "I can assume that the title \"Miss.\" is for females that are not married yet and \"Mrs.\" is for females that are married.\n",
        "\n",
        "Note: After a simple Google search, it is true that traditionally, \"Mrs.\" is for married women."
      ]
    },
    {
      "cell_type": "code",
      "execution_count": null,
      "id": "f803282d",
      "metadata": {
        "execution": {
          "iopub.execute_input": "2025-07-24T09:43:38.563936Z",
          "iopub.status.busy": "2025-07-24T09:43:38.563643Z",
          "iopub.status.idle": "2025-07-24T09:43:38.572365Z",
          "shell.execute_reply": "2025-07-24T09:43:38.571564Z"
        },
        "papermill": {
          "duration": 0.029949,
          "end_time": "2025-07-24T09:43:38.573804",
          "exception": false,
          "start_time": "2025-07-24T09:43:38.543855",
          "status": "completed"
        },
        "tags": [],
        "id": "f803282d"
      },
      "outputs": [],
      "source": [
        "data_miss_female_3 = train_data[\n",
        "    (train_data.Name.str.contains('Miss.', regex=True)) &\n",
        "    (train_data.Age.notna()) &\n",
        "    (train_data.Pclass == 3)\n",
        "]\n",
        "\n",
        "data_mrs_female_3 = train_data[\n",
        "    (train_data.Name.str.contains('Mrs.', regex=True)) &\n",
        "    (train_data.Age.notna()) &\n",
        "    (train_data.Pclass == 3)\n",
        "]"
      ]
    },
    {
      "cell_type": "code",
      "execution_count": null,
      "id": "c736950b",
      "metadata": {
        "execution": {
          "iopub.execute_input": "2025-07-24T09:43:38.613796Z",
          "iopub.status.busy": "2025-07-24T09:43:38.613208Z",
          "iopub.status.idle": "2025-07-24T09:43:38.619131Z",
          "shell.execute_reply": "2025-07-24T09:43:38.618324Z"
        },
        "papermill": {
          "duration": 0.027475,
          "end_time": "2025-07-24T09:43:38.620601",
          "exception": false,
          "start_time": "2025-07-24T09:43:38.593126",
          "status": "completed"
        },
        "tags": [],
        "id": "c736950b",
        "outputId": "3bf9f57c-7592-4638-9739-9e5e7b4b8a1f"
      },
      "outputs": [
        {
          "name": "stdout",
          "output_type": "stream",
          "text": [
            "Minimum age for title \"Miss\", Pclass 3:  0.75\n",
            "Maximum age for title \"Miss\", Pclass 3:  45.0 \n",
            "\n",
            "Minimum age for title \"Mrs\", Pclass 3:  15.0\n",
            "Maximum age for title \"Mrs\", Pclass 3:  63.0\n"
          ]
        }
      ],
      "source": [
        "print(\"Minimum age for title \\\"Miss\\\", Pclass 3: \", min(data_miss_female_3[\"Age\"]))\n",
        "print(\"Maximum age for title \\\"Miss\\\", Pclass 3: \", max(data_miss_female_3[\"Age\"]), \"\\n\")\n",
        "print(\"Minimum age for title \\\"Mrs\\\", Pclass 3: \", min(data_mrs_female_3[\"Age\"]))\n",
        "print(\"Maximum age for title \\\"Mrs\\\", Pclass 3: \", max(data_mrs_female_3[\"Age\"]))"
      ]
    },
    {
      "cell_type": "code",
      "execution_count": null,
      "id": "3ed354a4",
      "metadata": {
        "execution": {
          "iopub.execute_input": "2025-07-24T09:43:38.660806Z",
          "iopub.status.busy": "2025-07-24T09:43:38.660154Z",
          "iopub.status.idle": "2025-07-24T09:43:38.665452Z",
          "shell.execute_reply": "2025-07-24T09:43:38.664659Z"
        },
        "papermill": {
          "duration": 0.026492,
          "end_time": "2025-07-24T09:43:38.666910",
          "exception": false,
          "start_time": "2025-07-24T09:43:38.640418",
          "status": "completed"
        },
        "tags": [],
        "id": "3ed354a4",
        "outputId": "2e42502a-74c9-412a-d8ce-6ef043358e17"
      },
      "outputs": [
        {
          "name": "stdout",
          "output_type": "stream",
          "text": [
            "Mean age for title \"Miss\", Pclass 3:  16.1231884057971\n",
            "Median age for title \"Miss\", Pclass 3:  18.0\n"
          ]
        }
      ],
      "source": [
        "print(\"Mean age for title \\\"Miss\\\", Pclass 3: \", data_miss_female_3[\"Age\"].mean())\n",
        "print(\"Median age for title \\\"Miss\\\", Pclass 3: \", data_miss_female_3[\"Age\"].median())"
      ]
    },
    {
      "cell_type": "code",
      "execution_count": null,
      "id": "f27d6572",
      "metadata": {
        "execution": {
          "iopub.execute_input": "2025-07-24T09:43:38.706803Z",
          "iopub.status.busy": "2025-07-24T09:43:38.706160Z",
          "iopub.status.idle": "2025-07-24T09:43:38.967281Z",
          "shell.execute_reply": "2025-07-24T09:43:38.966459Z"
        },
        "papermill": {
          "duration": 0.282641,
          "end_time": "2025-07-24T09:43:38.968757",
          "exception": false,
          "start_time": "2025-07-24T09:43:38.686116",
          "status": "completed"
        },
        "tags": [],
        "id": "f27d6572",
        "outputId": "7d5586a8-21d0-4b03-c099-3a6e8325ba6e"
      },
      "outputs": [
        {
          "name": "stderr",
          "output_type": "stream",
          "text": [
            "/usr/local/lib/python3.11/dist-packages/seaborn/_oldcore.py:1119: FutureWarning: use_inf_as_na option is deprecated and will be removed in a future version. Convert inf values to NaN before operating instead.\n",
            "  with pd.option_context('mode.use_inf_as_na', True):\n"
          ]
        },
        {
          "data": {
            "text/plain": [
              "<Axes: xlabel='Age', ylabel='Count'>"
            ]
          },
          "execution_count": 31,
          "metadata": {},
          "output_type": "execute_result"
        },
        {
          "data": {
            "image/png": "[encoded data removed]",
            "text/plain": [
              "<Figure size 640x480 with 1 Axes>"
            ]
          },
          "metadata": {},
          "output_type": "display_data"
        }
      ],
      "source": [
        "sns.histplot(data=data_miss_female_3, x=\"Age\", kde=True)"
      ]
    },
    {
      "cell_type": "code",
      "execution_count": null,
      "id": "37ec5324",
      "metadata": {
        "execution": {
          "iopub.execute_input": "2025-07-24T09:43:39.009573Z",
          "iopub.status.busy": "2025-07-24T09:43:39.008969Z",
          "iopub.status.idle": "2025-07-24T09:43:39.187521Z",
          "shell.execute_reply": "2025-07-24T09:43:39.186589Z"
        },
        "papermill": {
          "duration": 0.200389,
          "end_time": "2025-07-24T09:43:39.188940",
          "exception": false,
          "start_time": "2025-07-24T09:43:38.988551",
          "status": "completed"
        },
        "tags": [],
        "id": "37ec5324",
        "outputId": "68751643-2203-45a4-ad73-72362c565cfb"
      },
      "outputs": [
        {
          "name": "stderr",
          "output_type": "stream",
          "text": [
            "/usr/local/lib/python3.11/dist-packages/seaborn/_oldcore.py:1119: FutureWarning: use_inf_as_na option is deprecated and will be removed in a future version. Convert inf values to NaN before operating instead.\n",
            "  with pd.option_context('mode.use_inf_as_na', True):\n"
          ]
        },
        {
          "data": {
            "text/plain": [
              "<Axes: xlabel='Age', ylabel='Count'>"
            ]
          },
          "execution_count": 32,
          "metadata": {},
          "output_type": "execute_result"
        },
        {
          "data": {
            "image/png": "[encoded data removed]",
            "text/plain": [
              "<Figure size 640x480 with 1 Axes>"
            ]
          },
          "metadata": {},
          "output_type": "display_data"
        }
      ],
      "source": [
        "sns.histplot(data=data_mrs_female_3, x=\"Age\")"
      ]
    },
    {
      "cell_type": "markdown",
      "id": "642dc81a",
      "metadata": {
        "papermill": {
          "duration": 0.019742,
          "end_time": "2025-07-24T09:43:39.229067",
          "exception": false,
          "start_time": "2025-07-24T09:43:39.209325",
          "status": "completed"
        },
        "tags": [],
        "id": "642dc81a"
      },
      "source": [
        "With the men name, \"Master\" has a maximum value of 12 and \"Mr.\" has a minimum value of 11.\n",
        "\n",
        "However, \"Miss\" has a maximum value of 45 and \"Mrs.\" has a minimum value of 15. So, the distinction between \"Miss\" and \"Mrs.\" is not very clear.\n",
        "\n",
        "Maybe if we group it not only with Pclass, but also the SibSp and Parch, we can get a better estimate of the mean of the age, since logically, if the SibSp and Parch is 0, then the female is a solo traveller, and therefore, they should be old enough to travel alone."
      ]
    },
    {
      "cell_type": "code",
      "execution_count": null,
      "id": "c3a557d7",
      "metadata": {
        "execution": {
          "iopub.execute_input": "2025-07-24T09:43:39.270801Z",
          "iopub.status.busy": "2025-07-24T09:43:39.270371Z",
          "iopub.status.idle": "2025-07-24T09:43:39.290267Z",
          "shell.execute_reply": "2025-07-24T09:43:39.289448Z"
        },
        "papermill": {
          "duration": 0.042571,
          "end_time": "2025-07-24T09:43:39.291634",
          "exception": false,
          "start_time": "2025-07-24T09:43:39.249063",
          "status": "completed"
        },
        "tags": [],
        "id": "c3a557d7",
        "outputId": "530be93b-65e7-4907-ddf4-3b513fd19025"
      },
      "outputs": [
        {
          "data": {
            "text/html": [
              "<div>\n",
              "<style scoped>\n",
              "    .dataframe tbody tr th:only-of-type {\n",
              "        vertical-align: middle;\n",
              "    }\n",
              "\n",
              "    .dataframe tbody tr th {\n",
              "        vertical-align: top;\n",
              "    }\n",
              "\n",
              "    .dataframe thead th {\n",
              "        text-align: right;\n",
              "    }\n",
              "</style>\n",
              "<table border=\"1\" class=\"dataframe\">\n",
              "  <thead>\n",
              "    <tr style=\"text-align: right;\">\n",
              "      <th></th>\n",
              "      <th></th>\n",
              "      <th></th>\n",
              "      <th>mean</th>\n",
              "      <th>count</th>\n",
              "    </tr>\n",
              "    <tr>\n",
              "      <th>Pclass</th>\n",
              "      <th>SibSp</th>\n",
              "      <th>Parch</th>\n",
              "      <th></th>\n",
              "      <th></th>\n",
              "    </tr>\n",
              "  </thead>\n",
              "  <tbody>\n",
              "    <tr>\n",
              "      <th rowspan=\"8\" valign=\"top\">1</th>\n",
              "      <th rowspan=\"3\" valign=\"top\">0</th>\n",
              "      <th>0</th>\n",
              "      <td>33.750000</td>\n",
              "      <td>24</td>\n",
              "    </tr>\n",
              "    <tr>\n",
              "      <th>1</th>\n",
              "      <td>17.250000</td>\n",
              "      <td>4</td>\n",
              "    </tr>\n",
              "    <tr>\n",
              "      <th>2</th>\n",
              "      <td>25.200000</td>\n",
              "      <td>5</td>\n",
              "    </tr>\n",
              "    <tr>\n",
              "      <th rowspan=\"3\" valign=\"top\">1</th>\n",
              "      <th>0</th>\n",
              "      <td>40.800000</td>\n",
              "      <td>5</td>\n",
              "    </tr>\n",
              "    <tr>\n",
              "      <th>1</th>\n",
              "      <td>39.000000</td>\n",
              "      <td>1</td>\n",
              "    </tr>\n",
              "    <tr>\n",
              "      <th>2</th>\n",
              "      <td>8.000000</td>\n",
              "      <td>2</td>\n",
              "    </tr>\n",
              "    <tr>\n",
              "      <th>2</th>\n",
              "      <th>2</th>\n",
              "      <td>19.500000</td>\n",
              "      <td>2</td>\n",
              "    </tr>\n",
              "    <tr>\n",
              "      <th>3</th>\n",
              "      <th>2</th>\n",
              "      <td>23.500000</td>\n",
              "      <td>2</td>\n",
              "    </tr>\n",
              "    <tr>\n",
              "      <th rowspan=\"7\" valign=\"top\">2</th>\n",
              "      <th rowspan=\"3\" valign=\"top\">0</th>\n",
              "      <th>0</th>\n",
              "      <td>30.694444</td>\n",
              "      <td>18</td>\n",
              "    </tr>\n",
              "    <tr>\n",
              "      <th>1</th>\n",
              "      <td>12.333333</td>\n",
              "      <td>3</td>\n",
              "    </tr>\n",
              "    <tr>\n",
              "      <th>2</th>\n",
              "      <td>11.000000</td>\n",
              "      <td>3</td>\n",
              "    </tr>\n",
              "    <tr>\n",
              "      <th rowspan=\"3\" valign=\"top\">1</th>\n",
              "      <th>0</th>\n",
              "      <td>27.000000</td>\n",
              "      <td>1</td>\n",
              "    </tr>\n",
              "    <tr>\n",
              "      <th>1</th>\n",
              "      <td>10.333333</td>\n",
              "      <td>3</td>\n",
              "    </tr>\n",
              "    <tr>\n",
              "      <th>2</th>\n",
              "      <td>10.666667</td>\n",
              "      <td>3</td>\n",
              "    </tr>\n",
              "    <tr>\n",
              "      <th>2</th>\n",
              "      <th>1</th>\n",
              "      <td>4.000000</td>\n",
              "      <td>1</td>\n",
              "    </tr>\n",
              "    <tr>\n",
              "      <th rowspan=\"12\" valign=\"top\">3</th>\n",
              "      <th rowspan=\"3\" valign=\"top\">0</th>\n",
              "      <th>0</th>\n",
              "      <td>22.263889</td>\n",
              "      <td>36</td>\n",
              "    </tr>\n",
              "    <tr>\n",
              "      <th>1</th>\n",
              "      <td>6.500000</td>\n",
              "      <td>4</td>\n",
              "    </tr>\n",
              "    <tr>\n",
              "      <th>2</th>\n",
              "      <td>5.000000</td>\n",
              "      <td>3</td>\n",
              "    </tr>\n",
              "    <tr>\n",
              "      <th rowspan=\"2\" valign=\"top\">1</th>\n",
              "      <th>0</th>\n",
              "      <td>18.916667</td>\n",
              "      <td>6</td>\n",
              "    </tr>\n",
              "    <tr>\n",
              "      <th>1</th>\n",
              "      <td>4.666667</td>\n",
              "      <td>3</td>\n",
              "    </tr>\n",
              "    <tr>\n",
              "      <th rowspan=\"3\" valign=\"top\">2</th>\n",
              "      <th>0</th>\n",
              "      <td>18.000000</td>\n",
              "      <td>1</td>\n",
              "    </tr>\n",
              "    <tr>\n",
              "      <th>1</th>\n",
              "      <td>2.166667</td>\n",
              "      <td>3</td>\n",
              "    </tr>\n",
              "    <tr>\n",
              "      <th>2</th>\n",
              "      <td>15.000000</td>\n",
              "      <td>2</td>\n",
              "    </tr>\n",
              "    <tr>\n",
              "      <th rowspan=\"2\" valign=\"top\">3</th>\n",
              "      <th>1</th>\n",
              "      <td>5.500000</td>\n",
              "      <td>2</td>\n",
              "    </tr>\n",
              "    <tr>\n",
              "      <th>2</th>\n",
              "      <td>5.500000</td>\n",
              "      <td>2</td>\n",
              "    </tr>\n",
              "    <tr>\n",
              "      <th>4</th>\n",
              "      <th>2</th>\n",
              "      <td>8.333333</td>\n",
              "      <td>6</td>\n",
              "    </tr>\n",
              "    <tr>\n",
              "      <th>5</th>\n",
              "      <th>2</th>\n",
              "      <td>16.000000</td>\n",
              "      <td>1</td>\n",
              "    </tr>\n",
              "  </tbody>\n",
              "</table>\n",
              "</div>"
            ],
            "text/plain": [
              "                         mean  count\n",
              "Pclass SibSp Parch                  \n",
              "1      0     0      33.750000     24\n",
              "             1      17.250000      4\n",
              "             2      25.200000      5\n",
              "       1     0      40.800000      5\n",
              "             1      39.000000      1\n",
              "             2       8.000000      2\n",
              "       2     2      19.500000      2\n",
              "       3     2      23.500000      2\n",
              "2      0     0      30.694444     18\n",
              "             1      12.333333      3\n",
              "             2      11.000000      3\n",
              "       1     0      27.000000      1\n",
              "             1      10.333333      3\n",
              "             2      10.666667      3\n",
              "       2     1       4.000000      1\n",
              "3      0     0      22.263889     36\n",
              "             1       6.500000      4\n",
              "             2       5.000000      3\n",
              "       1     0      18.916667      6\n",
              "             1       4.666667      3\n",
              "       2     0      18.000000      1\n",
              "             1       2.166667      3\n",
              "             2      15.000000      2\n",
              "       3     1       5.500000      2\n",
              "             2       5.500000      2\n",
              "       4     2       8.333333      6\n",
              "       5     2      16.000000      1"
            ]
          },
          "execution_count": 33,
          "metadata": {},
          "output_type": "execute_result"
        }
      ],
      "source": [
        "train_data[\n",
        "    (train_data.Name.str.contains('Miss.', regex=True)) &\n",
        "    (train_data.Age.notna())\n",
        "].groupby([\"Pclass\", \"SibSp\", \"Parch\"])[\"Age\"].agg(['mean', 'count'])"
      ]
    },
    {
      "cell_type": "code",
      "execution_count": null,
      "id": "95d3b689",
      "metadata": {
        "execution": {
          "iopub.execute_input": "2025-07-24T09:43:39.333698Z",
          "iopub.status.busy": "2025-07-24T09:43:39.333136Z",
          "iopub.status.idle": "2025-07-24T09:43:39.340884Z",
          "shell.execute_reply": "2025-07-24T09:43:39.340085Z"
        },
        "papermill": {
          "duration": 0.030325,
          "end_time": "2025-07-24T09:43:39.342304",
          "exception": false,
          "start_time": "2025-07-24T09:43:39.311979",
          "status": "completed"
        },
        "tags": [],
        "id": "95d3b689"
      },
      "outputs": [],
      "source": [
        "mean_female_miss_training = train_data[\n",
        "    (train_data.Name.str.contains('Miss.', regex=True)) &\n",
        "    (train_data.Age.notna())\n",
        "].groupby([\"Pclass\", \"SibSp\", \"Parch\"])[\"Age\"].mean()"
      ]
    },
    {
      "cell_type": "code",
      "execution_count": null,
      "id": "f20863c4",
      "metadata": {
        "execution": {
          "iopub.execute_input": "2025-07-24T09:43:39.385265Z",
          "iopub.status.busy": "2025-07-24T09:43:39.384580Z",
          "iopub.status.idle": "2025-07-24T09:43:39.391675Z",
          "shell.execute_reply": "2025-07-24T09:43:39.390890Z"
        },
        "papermill": {
          "duration": 0.029868,
          "end_time": "2025-07-24T09:43:39.392948",
          "exception": false,
          "start_time": "2025-07-24T09:43:39.363080",
          "status": "completed"
        },
        "tags": [],
        "id": "f20863c4",
        "outputId": "b8dc2233-4a05-4c63-d888-66e67a53a4d3"
      },
      "outputs": [
        {
          "data": {
            "text/plain": [
              "Pclass  SibSp  Parch\n",
              "1       0      0        33.750000\n",
              "               1        17.250000\n",
              "               2        25.200000\n",
              "        1      0        40.800000\n",
              "               1        39.000000\n",
              "               2         8.000000\n",
              "        2      2        19.500000\n",
              "        3      2        23.500000\n",
              "2       0      0        30.694444\n",
              "               1        12.333333\n",
              "               2        11.000000\n",
              "        1      0        27.000000\n",
              "               1        10.333333\n",
              "               2        10.666667\n",
              "        2      1         4.000000\n",
              "3       0      0        22.263889\n",
              "               1         6.500000\n",
              "               2         5.000000\n",
              "        1      0        18.916667\n",
              "               1         4.666667\n",
              "        2      0        18.000000\n",
              "               1         2.166667\n",
              "               2        15.000000\n",
              "        3      1         5.500000\n",
              "               2         5.500000\n",
              "        4      2         8.333333\n",
              "        5      2        16.000000\n",
              "Name: Age, dtype: float64"
            ]
          },
          "execution_count": 35,
          "metadata": {},
          "output_type": "execute_result"
        }
      ],
      "source": [
        "mean_female_miss_training"
      ]
    },
    {
      "cell_type": "markdown",
      "id": "cd17ad77",
      "metadata": {
        "papermill": {
          "duration": 0.02016,
          "end_time": "2025-07-24T09:43:39.433515",
          "exception": false,
          "start_time": "2025-07-24T09:43:39.413355",
          "status": "completed"
        },
        "tags": [],
        "id": "cd17ad77"
      },
      "source": [
        "The previous code creates a dataframe with a multiindex of Pclass, SibSp, and Parch, then gets the mean.\n",
        "\n",
        "The next code for `imputation_map_series` will create the same multiindex with the `mean_female_miss_training` and convert it into a series.\n",
        "\n",
        "Basically, `imputation_map_series` will do set_index based on the Pclass, SibSp, and Parch (the same as `mean_female_miss_training`), and then based on each index, it will map the value in `mean_female_miss_training` to each row no matter the female or male.\n",
        "\n",
        "Now, there will be some combinations of Pclass, SibSp, and Parch that does not exist in `mean_female_miss_training` but exist in `imputation_map_series`, which is why there will be some value that are NaN in `imputation_map_series`. I will impute those later."
      ]
    },
    {
      "cell_type": "code",
      "execution_count": null,
      "id": "510b6180",
      "metadata": {
        "execution": {
          "iopub.execute_input": "2025-07-24T09:43:39.475688Z",
          "iopub.status.busy": "2025-07-24T09:43:39.475186Z",
          "iopub.status.idle": "2025-07-24T09:43:39.494315Z",
          "shell.execute_reply": "2025-07-24T09:43:39.493665Z"
        },
        "papermill": {
          "duration": 0.041952,
          "end_time": "2025-07-24T09:43:39.495754",
          "exception": false,
          "start_time": "2025-07-24T09:43:39.453802",
          "status": "completed"
        },
        "tags": [],
        "id": "510b6180"
      },
      "outputs": [],
      "source": [
        "imputation_map_series = pd.Series(train_data.set_index(\n",
        "    [\"Pclass\", \"SibSp\", \"Parch\"]\n",
        ").index.map(\n",
        "    mean_female_miss_training\n",
        "))\n",
        "\n",
        "condition = (train_data.Name.str.contains('Miss.', regex=True, na=False)) & (train_data.Age.isna())\n",
        "\n",
        "train_data.loc[condition, \"Age\"] = imputation_map_series.loc[condition]"
      ]
    },
    {
      "cell_type": "code",
      "execution_count": null,
      "id": "4224a865",
      "metadata": {
        "execution": {
          "iopub.execute_input": "2025-07-24T09:43:39.538946Z",
          "iopub.status.busy": "2025-07-24T09:43:39.538054Z",
          "iopub.status.idle": "2025-07-24T09:43:39.549631Z",
          "shell.execute_reply": "2025-07-24T09:43:39.548872Z"
        },
        "papermill": {
          "duration": 0.034764,
          "end_time": "2025-07-24T09:43:39.550996",
          "exception": false,
          "start_time": "2025-07-24T09:43:39.516232",
          "status": "completed"
        },
        "tags": [],
        "id": "4224a865"
      },
      "outputs": [],
      "source": [
        "# Do the same with test_data\n",
        "test_imputation_map_series = pd.Series(test_data.set_index(\n",
        "    [\"Pclass\", \"SibSp\", \"Parch\"]\n",
        ").index.map(\n",
        "    mean_female_miss_training # Still use the training's mean\n",
        "))\n",
        "\n",
        "condition_miss_test = (test_data.Name.str.contains('Miss.', regex=True, na=False)) & (test_data.Age.isna())\n",
        "\n",
        "test_data.loc[condition_miss_test, \"Age\"] = test_imputation_map_series.loc[condition_miss_test]"
      ]
    },
    {
      "cell_type": "code",
      "execution_count": null,
      "id": "2da95c39",
      "metadata": {
        "execution": {
          "iopub.execute_input": "2025-07-24T09:43:39.593746Z",
          "iopub.status.busy": "2025-07-24T09:43:39.592973Z",
          "iopub.status.idle": "2025-07-24T09:43:39.607564Z",
          "shell.execute_reply": "2025-07-24T09:43:39.606767Z"
        },
        "papermill": {
          "duration": 0.037318,
          "end_time": "2025-07-24T09:43:39.608889",
          "exception": false,
          "start_time": "2025-07-24T09:43:39.571571",
          "status": "completed"
        },
        "tags": [],
        "id": "2da95c39",
        "outputId": "f967dbbf-8e02-4c9f-911c-5e32c0f439fe"
      },
      "outputs": [
        {
          "name": "stderr",
          "output_type": "stream",
          "text": [
            "/usr/local/lib/python3.11/dist-packages/pandas/io/formats/format.py:1458: RuntimeWarning: invalid value encountered in greater\n",
            "  has_large_values = (abs_vals > 1e6).any()\n",
            "/usr/local/lib/python3.11/dist-packages/pandas/io/formats/format.py:1459: RuntimeWarning: invalid value encountered in less\n",
            "  has_small_values = ((abs_vals < 10 ** (-self.digits)) & (abs_vals > 0)).any()\n",
            "/usr/local/lib/python3.11/dist-packages/pandas/io/formats/format.py:1459: RuntimeWarning: invalid value encountered in greater\n",
            "  has_small_values = ((abs_vals < 10 ** (-self.digits)) & (abs_vals > 0)).any()\n"
          ]
        },
        {
          "data": {
            "text/html": [
              "<div>\n",
              "<style scoped>\n",
              "    .dataframe tbody tr th:only-of-type {\n",
              "        vertical-align: middle;\n",
              "    }\n",
              "\n",
              "    .dataframe tbody tr th {\n",
              "        vertical-align: top;\n",
              "    }\n",
              "\n",
              "    .dataframe thead th {\n",
              "        text-align: right;\n",
              "    }\n",
              "</style>\n",
              "<table border=\"1\" class=\"dataframe\">\n",
              "  <thead>\n",
              "    <tr style=\"text-align: right;\">\n",
              "      <th></th>\n",
              "      <th>PassengerId</th>\n",
              "      <th>Survived</th>\n",
              "      <th>Pclass</th>\n",
              "      <th>Name</th>\n",
              "      <th>Sex</th>\n",
              "      <th>Age</th>\n",
              "      <th>SibSp</th>\n",
              "      <th>Parch</th>\n",
              "      <th>Ticket</th>\n",
              "      <th>Fare</th>\n",
              "      <th>Cabin</th>\n",
              "      <th>Embarked</th>\n",
              "    </tr>\n",
              "  </thead>\n",
              "  <tbody>\n",
              "    <tr>\n",
              "      <th>180</th>\n",
              "      <td>181</td>\n",
              "      <td>0</td>\n",
              "      <td>3</td>\n",
              "      <td>Sage, Miss. Constance Gladys</td>\n",
              "      <td>female</td>\n",
              "      <td>NaN</td>\n",
              "      <td>8</td>\n",
              "      <td>2</td>\n",
              "      <td>CA. 2343</td>\n",
              "      <td>69.55</td>\n",
              "      <td>NaN</td>\n",
              "      <td>S</td>\n",
              "    </tr>\n",
              "    <tr>\n",
              "      <th>792</th>\n",
              "      <td>793</td>\n",
              "      <td>0</td>\n",
              "      <td>3</td>\n",
              "      <td>Sage, Miss. Stella Anna</td>\n",
              "      <td>female</td>\n",
              "      <td>NaN</td>\n",
              "      <td>8</td>\n",
              "      <td>2</td>\n",
              "      <td>CA. 2343</td>\n",
              "      <td>69.55</td>\n",
              "      <td>NaN</td>\n",
              "      <td>S</td>\n",
              "    </tr>\n",
              "    <tr>\n",
              "      <th>863</th>\n",
              "      <td>864</td>\n",
              "      <td>0</td>\n",
              "      <td>3</td>\n",
              "      <td>Sage, Miss. Dorothy Edith \"Dolly\"</td>\n",
              "      <td>female</td>\n",
              "      <td>NaN</td>\n",
              "      <td>8</td>\n",
              "      <td>2</td>\n",
              "      <td>CA. 2343</td>\n",
              "      <td>69.55</td>\n",
              "      <td>NaN</td>\n",
              "      <td>S</td>\n",
              "    </tr>\n",
              "    <tr>\n",
              "      <th>888</th>\n",
              "      <td>889</td>\n",
              "      <td>0</td>\n",
              "      <td>3</td>\n",
              "      <td>Johnston, Miss. Catherine Helen \"Carrie\"</td>\n",
              "      <td>female</td>\n",
              "      <td>NaN</td>\n",
              "      <td>1</td>\n",
              "      <td>2</td>\n",
              "      <td>W./C. 6607</td>\n",
              "      <td>23.45</td>\n",
              "      <td>NaN</td>\n",
              "      <td>S</td>\n",
              "    </tr>\n",
              "  </tbody>\n",
              "</table>\n",
              "</div>"
            ],
            "text/plain": [
              "     PassengerId  Survived  Pclass                                      Name  \\\n",
              "180          181         0       3              Sage, Miss. Constance Gladys   \n",
              "792          793         0       3                   Sage, Miss. Stella Anna   \n",
              "863          864         0       3         Sage, Miss. Dorothy Edith \"Dolly\"   \n",
              "888          889         0       3  Johnston, Miss. Catherine Helen \"Carrie\"   \n",
              "\n",
              "        Sex  Age  SibSp  Parch      Ticket   Fare Cabin Embarked  \n",
              "180  female  NaN      8      2    CA. 2343  69.55   NaN        S  \n",
              "792  female  NaN      8      2    CA. 2343  69.55   NaN        S  \n",
              "863  female  NaN      8      2    CA. 2343  69.55   NaN        S  \n",
              "888  female  NaN      1      2  W./C. 6607  23.45   NaN        S  "
            ]
          },
          "execution_count": 38,
          "metadata": {},
          "output_type": "execute_result"
        }
      ],
      "source": [
        "# Now, we can see that there are still \"Miss.\" with missing age value.\n",
        "# It is because the combination of Pclass, SibSp, and Parch of these people\n",
        "# does not exist in mean_female_miss_training\n",
        "train_data[\n",
        "    (train_data.Name.str.contains('Miss.', regex=True)) &\n",
        "    (train_data.Age.isna())\n",
        "]"
      ]
    },
    {
      "cell_type": "code",
      "execution_count": null,
      "id": "f31e8a64",
      "metadata": {
        "execution": {
          "iopub.execute_input": "2025-07-24T09:43:39.652193Z",
          "iopub.status.busy": "2025-07-24T09:43:39.651560Z",
          "iopub.status.idle": "2025-07-24T09:43:39.659493Z",
          "shell.execute_reply": "2025-07-24T09:43:39.658663Z"
        },
        "papermill": {
          "duration": 0.031004,
          "end_time": "2025-07-24T09:43:39.661008",
          "exception": false,
          "start_time": "2025-07-24T09:43:39.630004",
          "status": "completed"
        },
        "tags": [],
        "id": "f31e8a64"
      },
      "outputs": [],
      "source": [
        "# Luckily, all of them are Pclass 3. Therefore, I can use the mean that I have calculated before, which is\n",
        "# about 16.0\n",
        "\n",
        "train_data.loc[\n",
        "    (train_data.Name.str.contains('Miss.', regex=True)) &\n",
        "    (train_data.Age.isna()),\n",
        "    \"Age\"\n",
        "] = 16.0\n",
        "\n",
        "test_data.loc[\n",
        "    (test_data.Name.str.contains('Miss.', regex=True)) &\n",
        "    (test_data.Age.isna()),\n",
        "    \"Age\"\n",
        "] = 16.0"
      ]
    },
    {
      "cell_type": "code",
      "execution_count": null,
      "id": "5e6c6f2e",
      "metadata": {
        "execution": {
          "iopub.execute_input": "2025-07-24T09:43:39.703648Z",
          "iopub.status.busy": "2025-07-24T09:43:39.703317Z",
          "iopub.status.idle": "2025-07-24T09:43:39.714367Z",
          "shell.execute_reply": "2025-07-24T09:43:39.713679Z"
        },
        "papermill": {
          "duration": 0.034123,
          "end_time": "2025-07-24T09:43:39.715800",
          "exception": false,
          "start_time": "2025-07-24T09:43:39.681677",
          "status": "completed"
        },
        "tags": [],
        "id": "5e6c6f2e"
      },
      "outputs": [],
      "source": [
        "# We do the same with Mrs. title\n",
        "data_mrs_female_3 = train_data[\n",
        "    (train_data.Name.str.contains(\"Mrs.\")) &\n",
        "    (train_data.Age.notna()) &\n",
        "    (train_data.Pclass == 3)\n",
        "]\n",
        "\n",
        "data_mrs_female_2 = train_data[\n",
        "    (train_data.Name.str.contains(\"Mrs.\")) &\n",
        "    (train_data.Age.notna()) &\n",
        "    (train_data.Pclass == 2)\n",
        "]\n",
        "\n",
        "data_mrs_female_1 = train_data[\n",
        "    (train_data.Name.str.contains(\"Mrs.\")) &\n",
        "    (train_data.Age.notna()) &\n",
        "    (train_data.Pclass == 1)\n",
        "]"
      ]
    },
    {
      "cell_type": "code",
      "execution_count": null,
      "id": "53444c53",
      "metadata": {
        "execution": {
          "iopub.execute_input": "2025-07-24T09:43:39.758720Z",
          "iopub.status.busy": "2025-07-24T09:43:39.758392Z",
          "iopub.status.idle": "2025-07-24T09:43:39.764774Z",
          "shell.execute_reply": "2025-07-24T09:43:39.763864Z"
        },
        "papermill": {
          "duration": 0.029647,
          "end_time": "2025-07-24T09:43:39.766188",
          "exception": false,
          "start_time": "2025-07-24T09:43:39.736541",
          "status": "completed"
        },
        "tags": [],
        "id": "53444c53",
        "outputId": "9bfb2c35-89d7-4754-8199-d0d6131c06f3"
      },
      "outputs": [
        {
          "name": "stdout",
          "output_type": "stream",
          "text": [
            "Median of Mrs. with Pclass 3:  31.0\n",
            "Mean of Mrs. with Pclass 3:  33.515151515151516 \n",
            "\n",
            "Median of Mrs. with Pclass 2:  31.0\n",
            "Mean of Mrs. with Pclass 2:  33.116279069767444 \n",
            "\n",
            "Median of Mrs. with Pclass 1:  41.5\n",
            "Mean of Mrs. with Pclass 1:  40.611111111111114\n"
          ]
        }
      ],
      "source": [
        "print(\"Median of Mrs. with Pclass 3: \", data_mrs_female_3[\"Age\"].median())\n",
        "print(\"Mean of Mrs. with Pclass 3: \", data_mrs_female_3[\"Age\"].mean(), \"\\n\")\n",
        "print(\"Median of Mrs. with Pclass 2: \", data_mrs_female_2[\"Age\"].median())\n",
        "print(\"Mean of Mrs. with Pclass 2: \", data_mrs_female_2[\"Age\"].mean(), \"\\n\")\n",
        "print(\"Median of Mrs. with Pclass 1: \", data_mrs_female_1[\"Age\"].median())\n",
        "print(\"Mean of Mrs. with Pclass 1: \", data_mrs_female_1[\"Age\"].mean())"
      ]
    },
    {
      "cell_type": "code",
      "execution_count": null,
      "id": "a1aa71bc",
      "metadata": {
        "execution": {
          "iopub.execute_input": "2025-07-24T09:43:39.810133Z",
          "iopub.status.busy": "2025-07-24T09:43:39.809429Z",
          "iopub.status.idle": "2025-07-24T09:43:39.988804Z",
          "shell.execute_reply": "2025-07-24T09:43:39.987934Z"
        },
        "papermill": {
          "duration": 0.202854,
          "end_time": "2025-07-24T09:43:39.990149",
          "exception": false,
          "start_time": "2025-07-24T09:43:39.787295",
          "status": "completed"
        },
        "tags": [],
        "id": "a1aa71bc",
        "outputId": "a71700e0-5f93-4802-91fe-d2f4718b0f50"
      },
      "outputs": [
        {
          "name": "stderr",
          "output_type": "stream",
          "text": [
            "/usr/local/lib/python3.11/dist-packages/seaborn/_oldcore.py:1119: FutureWarning: use_inf_as_na option is deprecated and will be removed in a future version. Convert inf values to NaN before operating instead.\n",
            "  with pd.option_context('mode.use_inf_as_na', True):\n"
          ]
        },
        {
          "data": {
            "text/plain": [
              "<Axes: xlabel='Age', ylabel='Count'>"
            ]
          },
          "execution_count": 42,
          "metadata": {},
          "output_type": "execute_result"
        },
        {
          "data": {
            "image/png": "[encoded data removed]",
            "text/plain": [
              "<Figure size 640x480 with 1 Axes>"
            ]
          },
          "metadata": {},
          "output_type": "display_data"
        }
      ],
      "source": [
        "sns.histplot(data=data_mrs_female_3, x=\"Age\")"
      ]
    },
    {
      "cell_type": "code",
      "execution_count": null,
      "id": "354a30b6",
      "metadata": {
        "execution": {
          "iopub.execute_input": "2025-07-24T09:43:40.034215Z",
          "iopub.status.busy": "2025-07-24T09:43:40.033370Z",
          "iopub.status.idle": "2025-07-24T09:43:40.214149Z",
          "shell.execute_reply": "2025-07-24T09:43:40.213318Z"
        },
        "papermill": {
          "duration": 0.204508,
          "end_time": "2025-07-24T09:43:40.215828",
          "exception": false,
          "start_time": "2025-07-24T09:43:40.011320",
          "status": "completed"
        },
        "tags": [],
        "id": "354a30b6",
        "outputId": "da6a6e77-8357-4e3c-e3cc-248e90173e58"
      },
      "outputs": [
        {
          "name": "stderr",
          "output_type": "stream",
          "text": [
            "/usr/local/lib/python3.11/dist-packages/seaborn/_oldcore.py:1119: FutureWarning: use_inf_as_na option is deprecated and will be removed in a future version. Convert inf values to NaN before operating instead.\n",
            "  with pd.option_context('mode.use_inf_as_na', True):\n"
          ]
        },
        {
          "data": {
            "text/plain": [
              "<Axes: xlabel='Age', ylabel='Count'>"
            ]
          },
          "execution_count": 43,
          "metadata": {},
          "output_type": "execute_result"
        },
        {
          "data": {
            "image/png": "[encoded data removed]",
            "text/plain": [
              "<Figure size 640x480 with 1 Axes>"
            ]
          },
          "metadata": {},
          "output_type": "display_data"
        }
      ],
      "source": [
        "sns.histplot(data=data_mrs_female_2, x=\"Age\")"
      ]
    },
    {
      "cell_type": "code",
      "execution_count": null,
      "id": "6d6e2ca1",
      "metadata": {
        "execution": {
          "iopub.execute_input": "2025-07-24T09:43:40.261761Z",
          "iopub.status.busy": "2025-07-24T09:43:40.261409Z",
          "iopub.status.idle": "2025-07-24T09:43:40.460909Z",
          "shell.execute_reply": "2025-07-24T09:43:40.460042Z"
        },
        "papermill": {
          "duration": 0.224286,
          "end_time": "2025-07-24T09:43:40.462441",
          "exception": false,
          "start_time": "2025-07-24T09:43:40.238155",
          "status": "completed"
        },
        "tags": [],
        "id": "6d6e2ca1",
        "outputId": "9b0ef6c5-7f17-4ec5-bba2-fd65422e5b3d"
      },
      "outputs": [
        {
          "name": "stderr",
          "output_type": "stream",
          "text": [
            "/usr/local/lib/python3.11/dist-packages/seaborn/_oldcore.py:1119: FutureWarning: use_inf_as_na option is deprecated and will be removed in a future version. Convert inf values to NaN before operating instead.\n",
            "  with pd.option_context('mode.use_inf_as_na', True):\n"
          ]
        },
        {
          "data": {
            "text/plain": [
              "<Axes: xlabel='Age', ylabel='Count'>"
            ]
          },
          "execution_count": 44,
          "metadata": {},
          "output_type": "execute_result"
        },
        {
          "data": {
            "image/png": "[encoded data removed]",
            "text/plain": [
              "<Figure size 640x480 with 1 Axes>"
            ]
          },
          "metadata": {},
          "output_type": "display_data"
        }
      ],
      "source": [
        "sns.histplot(data=data_mrs_female_1, x=\"Age\")"
      ]
    },
    {
      "cell_type": "code",
      "execution_count": null,
      "id": "c435b907",
      "metadata": {
        "execution": {
          "iopub.execute_input": "2025-07-24T09:43:40.509202Z",
          "iopub.status.busy": "2025-07-24T09:43:40.508889Z",
          "iopub.status.idle": "2025-07-24T09:43:40.524494Z",
          "shell.execute_reply": "2025-07-24T09:43:40.523686Z"
        },
        "papermill": {
          "duration": 0.040075,
          "end_time": "2025-07-24T09:43:40.525937",
          "exception": false,
          "start_time": "2025-07-24T09:43:40.485862",
          "status": "completed"
        },
        "tags": [],
        "id": "c435b907",
        "outputId": "2bbcc77d-31f3-40ce-c8f7-8ce943826e16"
      },
      "outputs": [
        {
          "data": {
            "text/html": [
              "<div>\n",
              "<style scoped>\n",
              "    .dataframe tbody tr th:only-of-type {\n",
              "        vertical-align: middle;\n",
              "    }\n",
              "\n",
              "    .dataframe tbody tr th {\n",
              "        vertical-align: top;\n",
              "    }\n",
              "\n",
              "    .dataframe thead th {\n",
              "        text-align: right;\n",
              "    }\n",
              "</style>\n",
              "<table border=\"1\" class=\"dataframe\">\n",
              "  <thead>\n",
              "    <tr style=\"text-align: right;\">\n",
              "      <th></th>\n",
              "      <th></th>\n",
              "      <th></th>\n",
              "      <th>mean</th>\n",
              "      <th>count</th>\n",
              "    </tr>\n",
              "    <tr>\n",
              "      <th>Pclass</th>\n",
              "      <th>SibSp</th>\n",
              "      <th>Parch</th>\n",
              "      <th></th>\n",
              "      <th></th>\n",
              "    </tr>\n",
              "  </thead>\n",
              "  <tbody>\n",
              "    <tr>\n",
              "      <th rowspan=\"6\" valign=\"top\">1</th>\n",
              "      <th rowspan=\"2\" valign=\"top\">0</th>\n",
              "      <th>0</th>\n",
              "      <td>44.500000</td>\n",
              "      <td>4</td>\n",
              "    </tr>\n",
              "    <tr>\n",
              "      <th>1</th>\n",
              "      <td>50.200000</td>\n",
              "      <td>5</td>\n",
              "    </tr>\n",
              "    <tr>\n",
              "      <th rowspan=\"3\" valign=\"top\">1</th>\n",
              "      <th>0</th>\n",
              "      <td>36.500000</td>\n",
              "      <td>18</td>\n",
              "    </tr>\n",
              "    <tr>\n",
              "      <th>1</th>\n",
              "      <td>43.666667</td>\n",
              "      <td>6</td>\n",
              "    </tr>\n",
              "    <tr>\n",
              "      <th>2</th>\n",
              "      <td>30.500000</td>\n",
              "      <td>2</td>\n",
              "    </tr>\n",
              "    <tr>\n",
              "      <th>2</th>\n",
              "      <th>0</th>\n",
              "      <td>53.000000</td>\n",
              "      <td>1</td>\n",
              "    </tr>\n",
              "    <tr>\n",
              "      <th rowspan=\"10\" valign=\"top\">2</th>\n",
              "      <th rowspan=\"3\" valign=\"top\">0</th>\n",
              "      <th>0</th>\n",
              "      <td>35.692308</td>\n",
              "      <td>13</td>\n",
              "    </tr>\n",
              "    <tr>\n",
              "      <th>1</th>\n",
              "      <td>37.500000</td>\n",
              "      <td>4</td>\n",
              "    </tr>\n",
              "    <tr>\n",
              "      <th>2</th>\n",
              "      <td>28.500000</td>\n",
              "      <td>2</td>\n",
              "    </tr>\n",
              "    <tr>\n",
              "      <th rowspan=\"4\" valign=\"top\">1</th>\n",
              "      <th>0</th>\n",
              "      <td>29.090909</td>\n",
              "      <td>11</td>\n",
              "    </tr>\n",
              "    <tr>\n",
              "      <th>1</th>\n",
              "      <td>33.000000</td>\n",
              "      <td>6</td>\n",
              "    </tr>\n",
              "    <tr>\n",
              "      <th>2</th>\n",
              "      <td>34.333333</td>\n",
              "      <td>3</td>\n",
              "    </tr>\n",
              "    <tr>\n",
              "      <th>3</th>\n",
              "      <td>54.000000</td>\n",
              "      <td>1</td>\n",
              "    </tr>\n",
              "    <tr>\n",
              "      <th rowspan=\"2\" valign=\"top\">2</th>\n",
              "      <th>1</th>\n",
              "      <td>24.000000</td>\n",
              "      <td>1</td>\n",
              "    </tr>\n",
              "    <tr>\n",
              "      <th>3</th>\n",
              "      <td>24.000000</td>\n",
              "      <td>1</td>\n",
              "    </tr>\n",
              "    <tr>\n",
              "      <th>3</th>\n",
              "      <th>0</th>\n",
              "      <td>30.000000</td>\n",
              "      <td>1</td>\n",
              "    </tr>\n",
              "    <tr>\n",
              "      <th rowspan=\"13\" valign=\"top\">3</th>\n",
              "      <th rowspan=\"6\" valign=\"top\">0</th>\n",
              "      <th>0</th>\n",
              "      <td>47.000000</td>\n",
              "      <td>2</td>\n",
              "    </tr>\n",
              "    <tr>\n",
              "      <th>1</th>\n",
              "      <td>30.000000</td>\n",
              "      <td>3</td>\n",
              "    </tr>\n",
              "    <tr>\n",
              "      <th>2</th>\n",
              "      <td>30.250000</td>\n",
              "      <td>4</td>\n",
              "    </tr>\n",
              "    <tr>\n",
              "      <th>3</th>\n",
              "      <td>24.000000</td>\n",
              "      <td>1</td>\n",
              "    </tr>\n",
              "    <tr>\n",
              "      <th>4</th>\n",
              "      <td>29.000000</td>\n",
              "      <td>1</td>\n",
              "    </tr>\n",
              "    <tr>\n",
              "      <th>5</th>\n",
              "      <td>40.000000</td>\n",
              "      <td>2</td>\n",
              "    </tr>\n",
              "    <tr>\n",
              "      <th rowspan=\"6\" valign=\"top\">1</th>\n",
              "      <th>0</th>\n",
              "      <td>29.625000</td>\n",
              "      <td>8</td>\n",
              "    </tr>\n",
              "    <tr>\n",
              "      <th>1</th>\n",
              "      <td>30.833333</td>\n",
              "      <td>6</td>\n",
              "    </tr>\n",
              "    <tr>\n",
              "      <th>3</th>\n",
              "      <td>48.000000</td>\n",
              "      <td>1</td>\n",
              "    </tr>\n",
              "    <tr>\n",
              "      <th>4</th>\n",
              "      <td>45.000000</td>\n",
              "      <td>1</td>\n",
              "    </tr>\n",
              "    <tr>\n",
              "      <th>5</th>\n",
              "      <td>38.500000</td>\n",
              "      <td>2</td>\n",
              "    </tr>\n",
              "    <tr>\n",
              "      <th>6</th>\n",
              "      <td>43.000000</td>\n",
              "      <td>1</td>\n",
              "    </tr>\n",
              "    <tr>\n",
              "      <th>3</th>\n",
              "      <th>0</th>\n",
              "      <td>33.000000</td>\n",
              "      <td>1</td>\n",
              "    </tr>\n",
              "  </tbody>\n",
              "</table>\n",
              "</div>"
            ],
            "text/plain": [
              "                         mean  count\n",
              "Pclass SibSp Parch                  \n",
              "1      0     0      44.500000      4\n",
              "             1      50.200000      5\n",
              "       1     0      36.500000     18\n",
              "             1      43.666667      6\n",
              "             2      30.500000      2\n",
              "       2     0      53.000000      1\n",
              "2      0     0      35.692308     13\n",
              "             1      37.500000      4\n",
              "             2      28.500000      2\n",
              "       1     0      29.090909     11\n",
              "             1      33.000000      6\n",
              "             2      34.333333      3\n",
              "             3      54.000000      1\n",
              "       2     1      24.000000      1\n",
              "             3      24.000000      1\n",
              "       3     0      30.000000      1\n",
              "3      0     0      47.000000      2\n",
              "             1      30.000000      3\n",
              "             2      30.250000      4\n",
              "             3      24.000000      1\n",
              "             4      29.000000      1\n",
              "             5      40.000000      2\n",
              "       1     0      29.625000      8\n",
              "             1      30.833333      6\n",
              "             3      48.000000      1\n",
              "             4      45.000000      1\n",
              "             5      38.500000      2\n",
              "             6      43.000000      1\n",
              "       3     0      33.000000      1"
            ]
          },
          "execution_count": 45,
          "metadata": {},
          "output_type": "execute_result"
        }
      ],
      "source": [
        "train_data[\n",
        "    (train_data.Name.str.contains('Mrs.', regex=True)) &\n",
        "    (train_data.Age.notna())\n",
        "].groupby([\"Pclass\", \"SibSp\", \"Parch\"])[\"Age\"].agg(['mean', 'count'])"
      ]
    },
    {
      "cell_type": "code",
      "execution_count": null,
      "id": "96e76383",
      "metadata": {
        "execution": {
          "iopub.execute_input": "2025-07-24T09:43:40.572115Z",
          "iopub.status.busy": "2025-07-24T09:43:40.571814Z",
          "iopub.status.idle": "2025-07-24T09:43:40.579489Z",
          "shell.execute_reply": "2025-07-24T09:43:40.578656Z"
        },
        "papermill": {
          "duration": 0.032156,
          "end_time": "2025-07-24T09:43:40.580936",
          "exception": false,
          "start_time": "2025-07-24T09:43:40.548780",
          "status": "completed"
        },
        "tags": [],
        "id": "96e76383"
      },
      "outputs": [],
      "source": [
        "mean_female_mrs_training = train_data[\n",
        "    (train_data.Name.str.contains('Mrs.', regex=True)) &\n",
        "    (train_data.Age.notna())\n",
        "].groupby([\"Pclass\", \"SibSp\", \"Parch\"])[\"Age\"].mean()"
      ]
    },
    {
      "cell_type": "code",
      "execution_count": null,
      "id": "1ddf3d6e",
      "metadata": {
        "execution": {
          "iopub.execute_input": "2025-07-24T09:43:40.627181Z",
          "iopub.status.busy": "2025-07-24T09:43:40.626358Z",
          "iopub.status.idle": "2025-07-24T09:43:40.639355Z",
          "shell.execute_reply": "2025-07-24T09:43:40.638667Z"
        },
        "papermill": {
          "duration": 0.03742,
          "end_time": "2025-07-24T09:43:40.640847",
          "exception": false,
          "start_time": "2025-07-24T09:43:40.603427",
          "status": "completed"
        },
        "tags": [],
        "id": "1ddf3d6e"
      },
      "outputs": [],
      "source": [
        "imputation_map_series = pd.Series(train_data.set_index(\n",
        "    [\"Pclass\", \"SibSp\", \"Parch\"]\n",
        ").index.map(\n",
        "    mean_female_mrs_training\n",
        "))\n",
        "\n",
        "condition = (train_data.Name.str.contains('Mrs.', regex=True, na=False)) & (train_data.Age.isna())\n",
        "\n",
        "train_data.loc[condition, \"Age\"] = imputation_map_series.loc[condition]"
      ]
    },
    {
      "cell_type": "code",
      "execution_count": null,
      "id": "5ea51fbe",
      "metadata": {
        "execution": {
          "iopub.execute_input": "2025-07-24T09:43:40.686817Z",
          "iopub.status.busy": "2025-07-24T09:43:40.686199Z",
          "iopub.status.idle": "2025-07-24T09:43:40.698588Z",
          "shell.execute_reply": "2025-07-24T09:43:40.697543Z"
        },
        "papermill": {
          "duration": 0.036972,
          "end_time": "2025-07-24T09:43:40.700116",
          "exception": false,
          "start_time": "2025-07-24T09:43:40.663144",
          "status": "completed"
        },
        "tags": [],
        "id": "5ea51fbe"
      },
      "outputs": [],
      "source": [
        "test_imputation_map_series = pd.Series(test_data.set_index(\n",
        "    [\"Pclass\", \"SibSp\", \"Parch\"]\n",
        ").index.map(\n",
        "    mean_female_mrs_training\n",
        "))\n",
        "\n",
        "condition = (test_data.Name.str.contains('Mrs.', regex=True, na=False)) & (test_data.Age.isna())\n",
        "\n",
        "test_data.loc[condition, \"Age\"] = test_imputation_map_series.loc[condition]"
      ]
    },
    {
      "cell_type": "code",
      "execution_count": null,
      "id": "e4218205",
      "metadata": {
        "execution": {
          "iopub.execute_input": "2025-07-24T09:43:40.746524Z",
          "iopub.status.busy": "2025-07-24T09:43:40.745401Z",
          "iopub.status.idle": "2025-07-24T09:43:40.758839Z",
          "shell.execute_reply": "2025-07-24T09:43:40.757967Z"
        },
        "papermill": {
          "duration": 0.037942,
          "end_time": "2025-07-24T09:43:40.760276",
          "exception": false,
          "start_time": "2025-07-24T09:43:40.722334",
          "status": "completed"
        },
        "tags": [],
        "id": "e4218205",
        "outputId": "b76f78a8-788c-4be5-8a03-1995d6443dc0"
      },
      "outputs": [
        {
          "name": "stderr",
          "output_type": "stream",
          "text": [
            "/usr/local/lib/python3.11/dist-packages/pandas/io/formats/format.py:1458: RuntimeWarning: invalid value encountered in greater\n",
            "  has_large_values = (abs_vals > 1e6).any()\n",
            "/usr/local/lib/python3.11/dist-packages/pandas/io/formats/format.py:1459: RuntimeWarning: invalid value encountered in less\n",
            "  has_small_values = ((abs_vals < 10 ** (-self.digits)) & (abs_vals > 0)).any()\n",
            "/usr/local/lib/python3.11/dist-packages/pandas/io/formats/format.py:1459: RuntimeWarning: invalid value encountered in greater\n",
            "  has_small_values = ((abs_vals < 10 ** (-self.digits)) & (abs_vals > 0)).any()\n"
          ]
        },
        {
          "data": {
            "text/html": [
              "<div>\n",
              "<style scoped>\n",
              "    .dataframe tbody tr th:only-of-type {\n",
              "        vertical-align: middle;\n",
              "    }\n",
              "\n",
              "    .dataframe tbody tr th {\n",
              "        vertical-align: top;\n",
              "    }\n",
              "\n",
              "    .dataframe thead th {\n",
              "        text-align: right;\n",
              "    }\n",
              "</style>\n",
              "<table border=\"1\" class=\"dataframe\">\n",
              "  <thead>\n",
              "    <tr style=\"text-align: right;\">\n",
              "      <th></th>\n",
              "      <th>PassengerId</th>\n",
              "      <th>Survived</th>\n",
              "      <th>Pclass</th>\n",
              "      <th>Name</th>\n",
              "      <th>Sex</th>\n",
              "      <th>Age</th>\n",
              "      <th>SibSp</th>\n",
              "      <th>Parch</th>\n",
              "      <th>Ticket</th>\n",
              "      <th>Fare</th>\n",
              "      <th>Cabin</th>\n",
              "      <th>Embarked</th>\n",
              "    </tr>\n",
              "  </thead>\n",
              "  <tbody>\n",
              "    <tr>\n",
              "      <th>766</th>\n",
              "      <td>767</td>\n",
              "      <td>0</td>\n",
              "      <td>1</td>\n",
              "      <td>Brewe, Dr. Arthur Jackson</td>\n",
              "      <td>male</td>\n",
              "      <td>NaN</td>\n",
              "      <td>0</td>\n",
              "      <td>0</td>\n",
              "      <td>112379</td>\n",
              "      <td>39.6</td>\n",
              "      <td>NaN</td>\n",
              "      <td>C</td>\n",
              "    </tr>\n",
              "  </tbody>\n",
              "</table>\n",
              "</div>"
            ],
            "text/plain": [
              "     PassengerId  Survived  Pclass                       Name   Sex  Age  \\\n",
              "766          767         0       1  Brewe, Dr. Arthur Jackson  male  NaN   \n",
              "\n",
              "     SibSp  Parch  Ticket  Fare Cabin Embarked  \n",
              "766      0      0  112379  39.6   NaN        C  "
            ]
          },
          "execution_count": 49,
          "metadata": {},
          "output_type": "execute_result"
        }
      ],
      "source": [
        "train_data[\n",
        "    train_data.Age.isna()\n",
        "]"
      ]
    },
    {
      "cell_type": "code",
      "execution_count": null,
      "id": "b44b135c",
      "metadata": {
        "execution": {
          "iopub.execute_input": "2025-07-24T09:43:40.806749Z",
          "iopub.status.busy": "2025-07-24T09:43:40.805906Z",
          "iopub.status.idle": "2025-07-24T09:43:40.811258Z",
          "shell.execute_reply": "2025-07-24T09:43:40.810413Z"
        },
        "papermill": {
          "duration": 0.030421,
          "end_time": "2025-07-24T09:43:40.813130",
          "exception": false,
          "start_time": "2025-07-24T09:43:40.782709",
          "status": "completed"
        },
        "tags": [],
        "id": "b44b135c"
      },
      "outputs": [],
      "source": [
        "# I will assume that the Dr. is as old as the median age of Mr. in Pclass 1\n",
        "train_data.loc[\n",
        "    train_data.PassengerId == 767,\n",
        "    \"Age\"\n",
        "] = median_data_mr_male_1"
      ]
    },
    {
      "cell_type": "code",
      "execution_count": null,
      "id": "c91e24a5",
      "metadata": {
        "execution": {
          "iopub.execute_input": "2025-07-24T09:43:40.859160Z",
          "iopub.status.busy": "2025-07-24T09:43:40.858854Z",
          "iopub.status.idle": "2025-07-24T09:43:40.871804Z",
          "shell.execute_reply": "2025-07-24T09:43:40.870919Z"
        },
        "papermill": {
          "duration": 0.037285,
          "end_time": "2025-07-24T09:43:40.873147",
          "exception": false,
          "start_time": "2025-07-24T09:43:40.835862",
          "status": "completed"
        },
        "tags": [],
        "id": "c91e24a5",
        "outputId": "e5274e68-ae24-493d-9504-4e84e0ebc62b"
      },
      "outputs": [
        {
          "name": "stderr",
          "output_type": "stream",
          "text": [
            "/usr/local/lib/python3.11/dist-packages/pandas/io/formats/format.py:1458: RuntimeWarning: invalid value encountered in greater\n",
            "  has_large_values = (abs_vals > 1e6).any()\n",
            "/usr/local/lib/python3.11/dist-packages/pandas/io/formats/format.py:1459: RuntimeWarning: invalid value encountered in less\n",
            "  has_small_values = ((abs_vals < 10 ** (-self.digits)) & (abs_vals > 0)).any()\n",
            "/usr/local/lib/python3.11/dist-packages/pandas/io/formats/format.py:1459: RuntimeWarning: invalid value encountered in greater\n",
            "  has_small_values = ((abs_vals < 10 ** (-self.digits)) & (abs_vals > 0)).any()\n"
          ]
        },
        {
          "data": {
            "text/html": [
              "<div>\n",
              "<style scoped>\n",
              "    .dataframe tbody tr th:only-of-type {\n",
              "        vertical-align: middle;\n",
              "    }\n",
              "\n",
              "    .dataframe tbody tr th {\n",
              "        vertical-align: top;\n",
              "    }\n",
              "\n",
              "    .dataframe thead th {\n",
              "        text-align: right;\n",
              "    }\n",
              "</style>\n",
              "<table border=\"1\" class=\"dataframe\">\n",
              "  <thead>\n",
              "    <tr style=\"text-align: right;\">\n",
              "      <th></th>\n",
              "      <th>PassengerId</th>\n",
              "      <th>Pclass</th>\n",
              "      <th>Name</th>\n",
              "      <th>Sex</th>\n",
              "      <th>Age</th>\n",
              "      <th>SibSp</th>\n",
              "      <th>Parch</th>\n",
              "      <th>Ticket</th>\n",
              "      <th>Fare</th>\n",
              "      <th>Cabin</th>\n",
              "      <th>Embarked</th>\n",
              "    </tr>\n",
              "  </thead>\n",
              "  <tbody>\n",
              "    <tr>\n",
              "      <th>33</th>\n",
              "      <td>925</td>\n",
              "      <td>3</td>\n",
              "      <td>Johnston, Mrs. Andrew G (Elizabeth Lily\" Watson)\"</td>\n",
              "      <td>female</td>\n",
              "      <td>NaN</td>\n",
              "      <td>1</td>\n",
              "      <td>2</td>\n",
              "      <td>W./C. 6607</td>\n",
              "      <td>23.45</td>\n",
              "      <td>NaN</td>\n",
              "      <td>S</td>\n",
              "    </tr>\n",
              "    <tr>\n",
              "      <th>88</th>\n",
              "      <td>980</td>\n",
              "      <td>3</td>\n",
              "      <td>O'Donoghue, Ms. Bridget</td>\n",
              "      <td>female</td>\n",
              "      <td>NaN</td>\n",
              "      <td>0</td>\n",
              "      <td>0</td>\n",
              "      <td>364856</td>\n",
              "      <td>7.75</td>\n",
              "      <td>NaN</td>\n",
              "      <td>Q</td>\n",
              "    </tr>\n",
              "    <tr>\n",
              "      <th>365</th>\n",
              "      <td>1257</td>\n",
              "      <td>3</td>\n",
              "      <td>Sage, Mrs. John (Annie Bullen)</td>\n",
              "      <td>female</td>\n",
              "      <td>NaN</td>\n",
              "      <td>1</td>\n",
              "      <td>9</td>\n",
              "      <td>CA. 2343</td>\n",
              "      <td>69.55</td>\n",
              "      <td>NaN</td>\n",
              "      <td>S</td>\n",
              "    </tr>\n",
              "  </tbody>\n",
              "</table>\n",
              "</div>"
            ],
            "text/plain": [
              "     PassengerId  Pclass                                               Name  \\\n",
              "33           925       3  Johnston, Mrs. Andrew G (Elizabeth Lily\" Watson)\"   \n",
              "88           980       3                            O'Donoghue, Ms. Bridget   \n",
              "365         1257       3                     Sage, Mrs. John (Annie Bullen)   \n",
              "\n",
              "        Sex  Age  SibSp  Parch      Ticket   Fare Cabin Embarked  \n",
              "33   female  NaN      1      2  W./C. 6607  23.45   NaN        S  \n",
              "88   female  NaN      0      0      364856   7.75   NaN        Q  \n",
              "365  female  NaN      1      9    CA. 2343  69.55   NaN        S  "
            ]
          },
          "execution_count": 51,
          "metadata": {},
          "output_type": "execute_result"
        }
      ],
      "source": [
        "test_data[\n",
        "    test_data.Age.isna()\n",
        "]"
      ]
    },
    {
      "cell_type": "code",
      "execution_count": null,
      "id": "0cec8f14",
      "metadata": {
        "execution": {
          "iopub.execute_input": "2025-07-24T09:43:40.920114Z",
          "iopub.status.busy": "2025-07-24T09:43:40.919325Z",
          "iopub.status.idle": "2025-07-24T09:43:40.925113Z",
          "shell.execute_reply": "2025-07-24T09:43:40.924409Z"
        },
        "papermill": {
          "duration": 0.030388,
          "end_time": "2025-07-24T09:43:40.926514",
          "exception": false,
          "start_time": "2025-07-24T09:43:40.896126",
          "status": "completed"
        },
        "tags": [],
        "id": "0cec8f14"
      },
      "outputs": [],
      "source": [
        "# I will also use the same value of the mean age of Mrs. with Pclass 3\n",
        "test_data.loc[\n",
        "    (test_data.PassengerId == 925) |\n",
        "    (test_data.PassengerId == 980) |\n",
        "    (test_data.PassengerId == 1257),\n",
        "    \"Age\"\n",
        "] = 33"
      ]
    },
    {
      "cell_type": "code",
      "execution_count": null,
      "id": "891067de",
      "metadata": {
        "execution": {
          "iopub.execute_input": "2025-07-24T09:43:40.973300Z",
          "iopub.status.busy": "2025-07-24T09:43:40.972788Z",
          "iopub.status.idle": "2025-07-24T09:43:40.986355Z",
          "shell.execute_reply": "2025-07-24T09:43:40.985514Z"
        },
        "papermill": {
          "duration": 0.038585,
          "end_time": "2025-07-24T09:43:40.987721",
          "exception": false,
          "start_time": "2025-07-24T09:43:40.949136",
          "status": "completed"
        },
        "tags": [],
        "id": "891067de",
        "outputId": "1b0eeca5-1951-4bac-b33a-fb7bbda4f407"
      },
      "outputs": [
        {
          "data": {
            "text/html": [
              "<div>\n",
              "<style scoped>\n",
              "    .dataframe tbody tr th:only-of-type {\n",
              "        vertical-align: middle;\n",
              "    }\n",
              "\n",
              "    .dataframe tbody tr th {\n",
              "        vertical-align: top;\n",
              "    }\n",
              "\n",
              "    .dataframe thead th {\n",
              "        text-align: right;\n",
              "    }\n",
              "</style>\n",
              "<table border=\"1\" class=\"dataframe\">\n",
              "  <thead>\n",
              "    <tr style=\"text-align: right;\">\n",
              "      <th></th>\n",
              "      <th>PassengerId</th>\n",
              "      <th>Survived</th>\n",
              "      <th>Pclass</th>\n",
              "      <th>Name</th>\n",
              "      <th>Sex</th>\n",
              "      <th>Age</th>\n",
              "      <th>SibSp</th>\n",
              "      <th>Parch</th>\n",
              "      <th>Ticket</th>\n",
              "      <th>Fare</th>\n",
              "      <th>Cabin</th>\n",
              "      <th>Embarked</th>\n",
              "    </tr>\n",
              "  </thead>\n",
              "  <tbody>\n",
              "    <tr>\n",
              "      <th>61</th>\n",
              "      <td>62</td>\n",
              "      <td>1</td>\n",
              "      <td>1</td>\n",
              "      <td>Icard, Miss. Amelie</td>\n",
              "      <td>female</td>\n",
              "      <td>38.0</td>\n",
              "      <td>0</td>\n",
              "      <td>0</td>\n",
              "      <td>113572</td>\n",
              "      <td>80.0</td>\n",
              "      <td>B28</td>\n",
              "      <td>NaN</td>\n",
              "    </tr>\n",
              "    <tr>\n",
              "      <th>829</th>\n",
              "      <td>830</td>\n",
              "      <td>1</td>\n",
              "      <td>1</td>\n",
              "      <td>Stone, Mrs. George Nelson (Martha Evelyn)</td>\n",
              "      <td>female</td>\n",
              "      <td>62.0</td>\n",
              "      <td>0</td>\n",
              "      <td>0</td>\n",
              "      <td>113572</td>\n",
              "      <td>80.0</td>\n",
              "      <td>B28</td>\n",
              "      <td>NaN</td>\n",
              "    </tr>\n",
              "  </tbody>\n",
              "</table>\n",
              "</div>"
            ],
            "text/plain": [
              "     PassengerId  Survived  Pclass                                       Name  \\\n",
              "61            62         1       1                        Icard, Miss. Amelie   \n",
              "829          830         1       1  Stone, Mrs. George Nelson (Martha Evelyn)   \n",
              "\n",
              "        Sex   Age  SibSp  Parch  Ticket  Fare Cabin Embarked  \n",
              "61   female  38.0      0      0  113572  80.0   B28      NaN  \n",
              "829  female  62.0      0      0  113572  80.0   B28      NaN  "
            ]
          },
          "execution_count": 53,
          "metadata": {},
          "output_type": "execute_result"
        }
      ],
      "source": [
        "# Let's see NaN value of Embarked in train_data\n",
        "train_data[\n",
        "    train_data.Embarked.isna()\n",
        "]"
      ]
    },
    {
      "cell_type": "code",
      "execution_count": null,
      "id": "83375239",
      "metadata": {
        "execution": {
          "iopub.execute_input": "2025-07-24T09:43:41.034494Z",
          "iopub.status.busy": "2025-07-24T09:43:41.034206Z",
          "iopub.status.idle": "2025-07-24T09:43:41.047715Z",
          "shell.execute_reply": "2025-07-24T09:43:41.046848Z"
        },
        "papermill": {
          "duration": 0.038789,
          "end_time": "2025-07-24T09:43:41.049247",
          "exception": false,
          "start_time": "2025-07-24T09:43:41.010458",
          "status": "completed"
        },
        "tags": [],
        "id": "83375239",
        "outputId": "0461cb98-fea8-48b5-d926-a2f9e8f0cfdd"
      },
      "outputs": [
        {
          "data": {
            "text/html": [
              "<div>\n",
              "<style scoped>\n",
              "    .dataframe tbody tr th:only-of-type {\n",
              "        vertical-align: middle;\n",
              "    }\n",
              "\n",
              "    .dataframe tbody tr th {\n",
              "        vertical-align: top;\n",
              "    }\n",
              "\n",
              "    .dataframe thead th {\n",
              "        text-align: right;\n",
              "    }\n",
              "</style>\n",
              "<table border=\"1\" class=\"dataframe\">\n",
              "  <thead>\n",
              "    <tr style=\"text-align: right;\">\n",
              "      <th></th>\n",
              "      <th>mean</th>\n",
              "      <th>median</th>\n",
              "      <th>count</th>\n",
              "    </tr>\n",
              "    <tr>\n",
              "      <th>Embarked</th>\n",
              "      <th></th>\n",
              "      <th></th>\n",
              "      <th></th>\n",
              "    </tr>\n",
              "  </thead>\n",
              "  <tbody>\n",
              "    <tr>\n",
              "      <th>C</th>\n",
              "      <td>104.718529</td>\n",
              "      <td>78.2667</td>\n",
              "      <td>85</td>\n",
              "    </tr>\n",
              "    <tr>\n",
              "      <th>Q</th>\n",
              "      <td>90.000000</td>\n",
              "      <td>90.0000</td>\n",
              "      <td>2</td>\n",
              "    </tr>\n",
              "    <tr>\n",
              "      <th>S</th>\n",
              "      <td>70.364862</td>\n",
              "      <td>52.0000</td>\n",
              "      <td>127</td>\n",
              "    </tr>\n",
              "  </tbody>\n",
              "</table>\n",
              "</div>"
            ],
            "text/plain": [
              "                mean   median  count\n",
              "Embarked                            \n",
              "C         104.718529  78.2667     85\n",
              "Q          90.000000  90.0000      2\n",
              "S          70.364862  52.0000    127"
            ]
          },
          "execution_count": 54,
          "metadata": {},
          "output_type": "execute_result"
        }
      ],
      "source": [
        "train_data[\n",
        "    train_data.Pclass == 1\n",
        "].groupby([\"Embarked\"])[\"Fare\"].agg([\"mean\", \"median\", \"count\"])"
      ]
    },
    {
      "cell_type": "code",
      "execution_count": null,
      "id": "238dbed4",
      "metadata": {
        "execution": {
          "iopub.execute_input": "2025-07-24T09:43:41.097183Z",
          "iopub.status.busy": "2025-07-24T09:43:41.096873Z",
          "iopub.status.idle": "2025-07-24T09:43:41.102657Z",
          "shell.execute_reply": "2025-07-24T09:43:41.101843Z"
        },
        "papermill": {
          "duration": 0.031526,
          "end_time": "2025-07-24T09:43:41.104283",
          "exception": false,
          "start_time": "2025-07-24T09:43:41.072757",
          "status": "completed"
        },
        "tags": [],
        "id": "238dbed4"
      },
      "outputs": [],
      "source": [
        "# I think the safest way to impute the embarked is by imputing it with 'C', because the fare value is quite similar.\n",
        "train_data.loc[\n",
        "    (train_data.PassengerId == 62) |\n",
        "    (train_data.PassengerId == 830),\n",
        "    \"Embarked\"\n",
        "] = 'C'"
      ]
    },
    {
      "cell_type": "code",
      "execution_count": null,
      "id": "e1342b7c",
      "metadata": {
        "execution": {
          "iopub.execute_input": "2025-07-24T09:43:41.151969Z",
          "iopub.status.busy": "2025-07-24T09:43:41.151680Z",
          "iopub.status.idle": "2025-07-24T09:43:41.164565Z",
          "shell.execute_reply": "2025-07-24T09:43:41.163602Z"
        },
        "papermill": {
          "duration": 0.038399,
          "end_time": "2025-07-24T09:43:41.166199",
          "exception": false,
          "start_time": "2025-07-24T09:43:41.127800",
          "status": "completed"
        },
        "tags": [],
        "id": "e1342b7c",
        "outputId": "cf5f2b97-e03d-4ced-eeb2-c334239efe10"
      },
      "outputs": [
        {
          "name": "stderr",
          "output_type": "stream",
          "text": [
            "/usr/local/lib/python3.11/dist-packages/pandas/io/formats/format.py:1458: RuntimeWarning: invalid value encountered in greater\n",
            "  has_large_values = (abs_vals > 1e6).any()\n",
            "/usr/local/lib/python3.11/dist-packages/pandas/io/formats/format.py:1459: RuntimeWarning: invalid value encountered in less\n",
            "  has_small_values = ((abs_vals < 10 ** (-self.digits)) & (abs_vals > 0)).any()\n",
            "/usr/local/lib/python3.11/dist-packages/pandas/io/formats/format.py:1459: RuntimeWarning: invalid value encountered in greater\n",
            "  has_small_values = ((abs_vals < 10 ** (-self.digits)) & (abs_vals > 0)).any()\n"
          ]
        },
        {
          "data": {
            "text/html": [
              "<div>\n",
              "<style scoped>\n",
              "    .dataframe tbody tr th:only-of-type {\n",
              "        vertical-align: middle;\n",
              "    }\n",
              "\n",
              "    .dataframe tbody tr th {\n",
              "        vertical-align: top;\n",
              "    }\n",
              "\n",
              "    .dataframe thead th {\n",
              "        text-align: right;\n",
              "    }\n",
              "</style>\n",
              "<table border=\"1\" class=\"dataframe\">\n",
              "  <thead>\n",
              "    <tr style=\"text-align: right;\">\n",
              "      <th></th>\n",
              "      <th>PassengerId</th>\n",
              "      <th>Pclass</th>\n",
              "      <th>Name</th>\n",
              "      <th>Sex</th>\n",
              "      <th>Age</th>\n",
              "      <th>SibSp</th>\n",
              "      <th>Parch</th>\n",
              "      <th>Ticket</th>\n",
              "      <th>Fare</th>\n",
              "      <th>Cabin</th>\n",
              "      <th>Embarked</th>\n",
              "    </tr>\n",
              "  </thead>\n",
              "  <tbody>\n",
              "    <tr>\n",
              "      <th>152</th>\n",
              "      <td>1044</td>\n",
              "      <td>3</td>\n",
              "      <td>Storey, Mr. Thomas</td>\n",
              "      <td>male</td>\n",
              "      <td>60.5</td>\n",
              "      <td>0</td>\n",
              "      <td>0</td>\n",
              "      <td>3701</td>\n",
              "      <td>NaN</td>\n",
              "      <td>NaN</td>\n",
              "      <td>S</td>\n",
              "    </tr>\n",
              "  </tbody>\n",
              "</table>\n",
              "</div>"
            ],
            "text/plain": [
              "     PassengerId  Pclass                Name   Sex   Age  SibSp  Parch Ticket  \\\n",
              "152         1044       3  Storey, Mr. Thomas  male  60.5      0      0   3701   \n",
              "\n",
              "     Fare Cabin Embarked  \n",
              "152   NaN   NaN        S  "
            ]
          },
          "execution_count": 56,
          "metadata": {},
          "output_type": "execute_result"
        }
      ],
      "source": [
        "# Let's see the missing Fare in test_data\n",
        "test_data[\n",
        "    test_data.Fare.isna()\n",
        "]"
      ]
    },
    {
      "cell_type": "code",
      "execution_count": null,
      "id": "9c05b20e",
      "metadata": {
        "execution": {
          "iopub.execute_input": "2025-07-24T09:43:41.214568Z",
          "iopub.status.busy": "2025-07-24T09:43:41.214287Z",
          "iopub.status.idle": "2025-07-24T09:43:41.222292Z",
          "shell.execute_reply": "2025-07-24T09:43:41.221543Z"
        },
        "papermill": {
          "duration": 0.033714,
          "end_time": "2025-07-24T09:43:41.223790",
          "exception": false,
          "start_time": "2025-07-24T09:43:41.190076",
          "status": "completed"
        },
        "tags": [],
        "id": "9c05b20e"
      },
      "outputs": [],
      "source": [
        "# I will impute it based on the following mean\n",
        "mean_temp = test_data[\n",
        "    (test_data.SibSp == 0) &\n",
        "    (test_data.Parch == 0) &\n",
        "    (test_data.Embarked == 'S') &\n",
        "    (test_data.Pclass == 3) &\n",
        "    (test_data.Sex == 'male')\n",
        "][\"Fare\"].mean()\n",
        "\n",
        "test_data.loc[\n",
        "    test_data.PassengerId == 1044,\n",
        "    \"Fare\"\n",
        "] = round(mean_temp)"
      ]
    },
    {
      "cell_type": "code",
      "execution_count": null,
      "id": "e53c1e89",
      "metadata": {
        "execution": {
          "iopub.execute_input": "2025-07-24T09:43:41.272537Z",
          "iopub.status.busy": "2025-07-24T09:43:41.271835Z",
          "iopub.status.idle": "2025-07-24T09:43:41.280852Z",
          "shell.execute_reply": "2025-07-24T09:43:41.279942Z"
        },
        "papermill": {
          "duration": 0.035071,
          "end_time": "2025-07-24T09:43:41.282348",
          "exception": false,
          "start_time": "2025-07-24T09:43:41.247277",
          "status": "completed"
        },
        "tags": [],
        "id": "e53c1e89",
        "outputId": "22c98e59-6e6c-49a1-e112-7547282dbfb4"
      },
      "outputs": [
        {
          "data": {
            "text/plain": [
              "Cabin          77.1\n",
              "PassengerId     0.0\n",
              "Survived        0.0\n",
              "Pclass          0.0\n",
              "Name            0.0\n",
              "Sex             0.0\n",
              "Age             0.0\n",
              "SibSp           0.0\n",
              "Parch           0.0\n",
              "Ticket          0.0\n",
              "Fare            0.0\n",
              "Embarked        0.0\n",
              "dtype: float64"
            ]
          },
          "execution_count": 58,
          "metadata": {},
          "output_type": "execute_result"
        }
      ],
      "source": [
        "round(train_data.isna().sum().sort_values(ascending=False)/len(train_data) * 100, 1)"
      ]
    },
    {
      "cell_type": "code",
      "execution_count": null,
      "id": "ce0dcf75",
      "metadata": {
        "execution": {
          "iopub.execute_input": "2025-07-24T09:43:41.331133Z",
          "iopub.status.busy": "2025-07-24T09:43:41.330831Z",
          "iopub.status.idle": "2025-07-24T09:43:41.339455Z",
          "shell.execute_reply": "2025-07-24T09:43:41.338785Z"
        },
        "papermill": {
          "duration": 0.034716,
          "end_time": "2025-07-24T09:43:41.340813",
          "exception": false,
          "start_time": "2025-07-24T09:43:41.306097",
          "status": "completed"
        },
        "tags": [],
        "id": "ce0dcf75",
        "outputId": "0f36909a-402b-4c28-bcd1-d7cb84ed425f"
      },
      "outputs": [
        {
          "data": {
            "text/plain": [
              "Cabin          78.2\n",
              "PassengerId     0.0\n",
              "Pclass          0.0\n",
              "Name            0.0\n",
              "Sex             0.0\n",
              "Age             0.0\n",
              "SibSp           0.0\n",
              "Parch           0.0\n",
              "Ticket          0.0\n",
              "Fare            0.0\n",
              "Embarked        0.0\n",
              "dtype: float64"
            ]
          },
          "execution_count": 59,
          "metadata": {},
          "output_type": "execute_result"
        }
      ],
      "source": [
        "round(test_data.isna().sum().sort_values(ascending=False)/len(test_data) * 100, 1)"
      ]
    },
    {
      "cell_type": "markdown",
      "id": "6bcc6786",
      "metadata": {
        "papermill": {
          "duration": 0.022871,
          "end_time": "2025-07-24T09:43:41.387316",
          "exception": false,
          "start_time": "2025-07-24T09:43:41.364445",
          "status": "completed"
        },
        "tags": [],
        "id": "6bcc6786"
      },
      "source": [
        "Since the Cabin column has too much missing values, I don't think it has enough data to be imputed."
      ]
    },
    {
      "cell_type": "markdown",
      "id": "4a902b13",
      "metadata": {
        "papermill": {
          "duration": 0.023928,
          "end_time": "2025-07-24T09:43:41.434430",
          "exception": false,
          "start_time": "2025-07-24T09:43:41.410502",
          "status": "completed"
        },
        "tags": [],
        "id": "4a902b13"
      },
      "source": [
        "## Picking the Features"
      ]
    },
    {
      "cell_type": "code",
      "execution_count": null,
      "id": "7910826b",
      "metadata": {
        "execution": {
          "iopub.execute_input": "2025-07-24T09:43:41.484601Z",
          "iopub.status.busy": "2025-07-24T09:43:41.484290Z",
          "iopub.status.idle": "2025-07-24T09:43:41.506134Z",
          "shell.execute_reply": "2025-07-24T09:43:41.505112Z"
        },
        "papermill": {
          "duration": 0.050041,
          "end_time": "2025-07-24T09:43:41.507527",
          "exception": false,
          "start_time": "2025-07-24T09:43:41.457486",
          "status": "completed"
        },
        "tags": [],
        "id": "7910826b",
        "outputId": "64e0eaf7-f57a-445c-9d5a-0c25285cf3c0"
      },
      "outputs": [
        {
          "name": "stdout",
          "output_type": "stream",
          "text": [
            "% of females who survived: 0.7420382165605095\n",
            "% of males who survived: 0.18890814558058924\n",
            "\n",
            "% of people in first class who survived: 0.6296296296296297\n",
            "% of people in second class who survived: 0.47282608695652173\n",
            "% of people in third class who survived: 0.24236252545824846\n",
            "\n",
            "---------------------------------------------------------------\n",
            "% of males in first class who survived: 0.36885245901639346\n",
            "% of females in first class who survived: 0.9680851063829787\n",
            "\n",
            "% of males in second class who survived: 0.1574074074074074\n",
            "% of females in second class who survived: 0.9210526315789473\n",
            "\n",
            "% of males in third class who survived: 0.13544668587896252\n",
            "% of females in third class who survived: 0.5\n",
            "\n"
          ]
        }
      ],
      "source": [
        "female_survive = train_data[train_data.Sex == 'female'][\"Survived\"]\n",
        "male_survive = train_data[train_data.Sex == 'male'][\"Survived\"]\n",
        "\n",
        "print(f\"% of females who survived: {sum(female_survive)/len(female_survive)}\")\n",
        "print(f\"% of males who survived: {sum(male_survive)/len(male_survive)}\\n\")\n",
        "\n",
        "pclass_1 = train_data[train_data.Pclass == 1][\"Survived\"]\n",
        "rate_1_survived = sum(pclass_1)/len(pclass_1)\n",
        "\n",
        "pclass_2 = train_data[train_data.Pclass == 2][\"Survived\"]\n",
        "rate_2_survived = sum(pclass_2)/len(pclass_2)\n",
        "\n",
        "pclass_3 = train_data[train_data.Pclass == 3][\"Survived\"]\n",
        "rate_3_survived = sum(pclass_3)/len(pclass_3)\n",
        "\n",
        "print(f\"% of people in first class who survived: {rate_1_survived}\")\n",
        "print(f\"% of people in second class who survived: {rate_2_survived}\")\n",
        "print(f\"% of people in third class who survived: {rate_3_survived}\\n\")\n",
        "print(\"---------------------------------------------------------------\")\n",
        "\n",
        "pclass_1_male = train_data[(train_data.Pclass == 1) & (train_data.Sex == 'male')][\"Survived\"]\n",
        "rate_1_male_survived = sum(pclass_1_male)/len(pclass_1_male)\n",
        "pclass_1_female = train_data[(train_data.Pclass == 1) & (train_data.Sex == 'female')][\"Survived\"]\n",
        "rate_1_female_survived = sum(pclass_1_female)/len(pclass_1_female)\n",
        "\n",
        "pclass_2_male = train_data[(train_data.Pclass == 2) & (train_data.Sex == 'male')][\"Survived\"]\n",
        "rate_2_male_survived = sum(pclass_2_male)/len(pclass_2_male)\n",
        "pclass_2_female = train_data[(train_data.Pclass == 2) & (train_data.Sex == 'female')][\"Survived\"]\n",
        "rate_2_female_survived = sum(pclass_2_female)/len(pclass_2_female)\n",
        "\n",
        "pclass_3_male = train_data[(train_data.Pclass == 3) & (train_data.Sex == 'male')][\"Survived\"]\n",
        "rate_3_male_survived = sum(pclass_3_male)/len(pclass_3_male)\n",
        "pclass_3_female = train_data[(train_data.Pclass == 3) & (train_data.Sex == 'female')][\"Survived\"]\n",
        "rate_3_female_survived = sum(pclass_3_female)/len(pclass_3_female)\n",
        "\n",
        "print(f\"% of males in first class who survived: {rate_1_male_survived}\")\n",
        "print(f\"% of females in first class who survived: {rate_1_female_survived}\\n\")\n",
        "print(f\"% of males in second class who survived: {rate_2_male_survived}\")\n",
        "print(f\"% of females in second class who survived: {rate_2_female_survived}\\n\")\n",
        "print(f\"% of males in third class who survived: {rate_3_male_survived}\")\n",
        "print(f\"% of females in third class who survived: {rate_3_female_survived}\\n\")"
      ]
    },
    {
      "cell_type": "markdown",
      "id": "c110c691",
      "metadata": {
        "papermill": {
          "duration": 0.023572,
          "end_time": "2025-07-24T09:43:41.554852",
          "exception": false,
          "start_time": "2025-07-24T09:43:41.531280",
          "status": "completed"
        },
        "tags": [],
        "id": "c110c691"
      },
      "source": [
        "So we know that Pclass and Sex are good indicators for survival. Maybe we can try combining Pclass and Sex."
      ]
    },
    {
      "cell_type": "code",
      "execution_count": null,
      "id": "99ca6b66",
      "metadata": {
        "execution": {
          "iopub.execute_input": "2025-07-24T09:43:41.602736Z",
          "iopub.status.busy": "2025-07-24T09:43:41.602394Z",
          "iopub.status.idle": "2025-07-24T09:43:41.609130Z",
          "shell.execute_reply": "2025-07-24T09:43:41.608292Z"
        },
        "papermill": {
          "duration": 0.032358,
          "end_time": "2025-07-24T09:43:41.610512",
          "exception": false,
          "start_time": "2025-07-24T09:43:41.578154",
          "status": "completed"
        },
        "tags": [],
        "id": "99ca6b66"
      },
      "outputs": [],
      "source": [
        "train_data[\"Pclass_Sex\"] = train_data[\"Pclass\"].astype(str) + train_data[\"Sex\"]\n",
        "test_data[\"Pclass_Sex\"] = test_data[\"Pclass\"].astype(str) + test_data[\"Sex\"]"
      ]
    },
    {
      "cell_type": "code",
      "execution_count": null,
      "id": "f796d983",
      "metadata": {
        "execution": {
          "iopub.execute_input": "2025-07-24T09:43:41.658497Z",
          "iopub.status.busy": "2025-07-24T09:43:41.657893Z",
          "iopub.status.idle": "2025-07-24T09:43:41.663423Z",
          "shell.execute_reply": "2025-07-24T09:43:41.662731Z"
        },
        "papermill": {
          "duration": 0.030829,
          "end_time": "2025-07-24T09:43:41.664703",
          "exception": false,
          "start_time": "2025-07-24T09:43:41.633874",
          "status": "completed"
        },
        "tags": [],
        "id": "f796d983"
      },
      "outputs": [],
      "source": [
        "train_data[\"NumOfRelations\"] = train_data[\"SibSp\"] + train_data[\"Parch\"]\n",
        "test_data[\"NumOfRelations\"] = test_data[\"SibSp\"] + test_data[\"Parch\"]"
      ]
    },
    {
      "cell_type": "code",
      "execution_count": null,
      "id": "accc0275",
      "metadata": {
        "execution": {
          "iopub.execute_input": "2025-07-24T09:43:41.713041Z",
          "iopub.status.busy": "2025-07-24T09:43:41.712314Z",
          "iopub.status.idle": "2025-07-24T09:43:41.954950Z",
          "shell.execute_reply": "2025-07-24T09:43:41.953973Z"
        },
        "papermill": {
          "duration": 0.268282,
          "end_time": "2025-07-24T09:43:41.956371",
          "exception": false,
          "start_time": "2025-07-24T09:43:41.688089",
          "status": "completed"
        },
        "tags": [],
        "id": "accc0275",
        "outputId": "69e9f675-c18f-4e7b-f2ea-7228946701d0"
      },
      "outputs": [
        {
          "data": {
            "text/plain": [
              "<Axes: xlabel='NumOfRelations', ylabel='count'>"
            ]
          },
          "execution_count": 63,
          "metadata": {},
          "output_type": "execute_result"
        },
        {
          "data": {
            "image/png": "[encoded data removed]",
            "text/plain": [
              "<Figure size 640x480 with 1 Axes>"
            ]
          },
          "metadata": {},
          "output_type": "display_data"
        }
      ],
      "source": [
        "sns.countplot(train_data, x='NumOfRelations', hue=\"Survived\")"
      ]
    },
    {
      "cell_type": "code",
      "execution_count": null,
      "id": "28e5de62",
      "metadata": {
        "execution": {
          "iopub.execute_input": "2025-07-24T09:43:42.011704Z",
          "iopub.status.busy": "2025-07-24T09:43:42.010933Z",
          "iopub.status.idle": "2025-07-24T09:43:42.025429Z",
          "shell.execute_reply": "2025-07-24T09:43:42.024430Z"
        },
        "papermill": {
          "duration": 0.043726,
          "end_time": "2025-07-24T09:43:42.027053",
          "exception": false,
          "start_time": "2025-07-24T09:43:41.983327",
          "status": "completed"
        },
        "tags": [],
        "id": "28e5de62",
        "outputId": "9be4f0ce-4168-4092-e47e-9d0e2b3b09ca"
      },
      "outputs": [
        {
          "data": {
            "text/html": [
              "<div>\n",
              "<style scoped>\n",
              "    .dataframe tbody tr th:only-of-type {\n",
              "        vertical-align: middle;\n",
              "    }\n",
              "\n",
              "    .dataframe tbody tr th {\n",
              "        vertical-align: top;\n",
              "    }\n",
              "\n",
              "    .dataframe thead th {\n",
              "        text-align: right;\n",
              "    }\n",
              "</style>\n",
              "<table border=\"1\" class=\"dataframe\">\n",
              "  <thead>\n",
              "    <tr style=\"text-align: right;\">\n",
              "      <th></th>\n",
              "      <th>PassengerId</th>\n",
              "      <th>Survived</th>\n",
              "      <th>Pclass</th>\n",
              "      <th>Name</th>\n",
              "      <th>Sex</th>\n",
              "      <th>Age</th>\n",
              "      <th>SibSp</th>\n",
              "      <th>Parch</th>\n",
              "      <th>Ticket</th>\n",
              "      <th>Fare</th>\n",
              "      <th>Cabin</th>\n",
              "      <th>Embarked</th>\n",
              "      <th>Pclass_Sex</th>\n",
              "      <th>NumOfRelations</th>\n",
              "    </tr>\n",
              "  </thead>\n",
              "  <tbody>\n",
              "    <tr>\n",
              "      <th>0</th>\n",
              "      <td>1</td>\n",
              "      <td>0</td>\n",
              "      <td>3</td>\n",
              "      <td>Braund, Mr. Owen Harris</td>\n",
              "      <td>male</td>\n",
              "      <td>22.0</td>\n",
              "      <td>1</td>\n",
              "      <td>0</td>\n",
              "      <td>A/5 21171</td>\n",
              "      <td>7.2500</td>\n",
              "      <td>NaN</td>\n",
              "      <td>S</td>\n",
              "      <td>3male</td>\n",
              "      <td>1</td>\n",
              "    </tr>\n",
              "    <tr>\n",
              "      <th>1</th>\n",
              "      <td>2</td>\n",
              "      <td>1</td>\n",
              "      <td>1</td>\n",
              "      <td>Cumings, Mrs. John Bradley (Florence Briggs Th...</td>\n",
              "      <td>female</td>\n",
              "      <td>38.0</td>\n",
              "      <td>1</td>\n",
              "      <td>0</td>\n",
              "      <td>PC 17599</td>\n",
              "      <td>71.2833</td>\n",
              "      <td>C85</td>\n",
              "      <td>C</td>\n",
              "      <td>1female</td>\n",
              "      <td>1</td>\n",
              "    </tr>\n",
              "    <tr>\n",
              "      <th>2</th>\n",
              "      <td>3</td>\n",
              "      <td>1</td>\n",
              "      <td>3</td>\n",
              "      <td>Heikkinen, Miss. Laina</td>\n",
              "      <td>female</td>\n",
              "      <td>26.0</td>\n",
              "      <td>0</td>\n",
              "      <td>0</td>\n",
              "      <td>STON/O2. 3101282</td>\n",
              "      <td>7.9250</td>\n",
              "      <td>NaN</td>\n",
              "      <td>S</td>\n",
              "      <td>3female</td>\n",
              "      <td>0</td>\n",
              "    </tr>\n",
              "    <tr>\n",
              "      <th>3</th>\n",
              "      <td>4</td>\n",
              "      <td>1</td>\n",
              "      <td>1</td>\n",
              "      <td>Futrelle, Mrs. Jacques Heath (Lily May Peel)</td>\n",
              "      <td>female</td>\n",
              "      <td>35.0</td>\n",
              "      <td>1</td>\n",
              "      <td>0</td>\n",
              "      <td>113803</td>\n",
              "      <td>53.1000</td>\n",
              "      <td>C123</td>\n",
              "      <td>S</td>\n",
              "      <td>1female</td>\n",
              "      <td>1</td>\n",
              "    </tr>\n",
              "    <tr>\n",
              "      <th>4</th>\n",
              "      <td>5</td>\n",
              "      <td>0</td>\n",
              "      <td>3</td>\n",
              "      <td>Allen, Mr. William Henry</td>\n",
              "      <td>male</td>\n",
              "      <td>35.0</td>\n",
              "      <td>0</td>\n",
              "      <td>0</td>\n",
              "      <td>373450</td>\n",
              "      <td>8.0500</td>\n",
              "      <td>NaN</td>\n",
              "      <td>S</td>\n",
              "      <td>3male</td>\n",
              "      <td>0</td>\n",
              "    </tr>\n",
              "  </tbody>\n",
              "</table>\n",
              "</div>"
            ],
            "text/plain": [
              "   PassengerId  Survived  Pclass  \\\n",
              "0            1         0       3   \n",
              "1            2         1       1   \n",
              "2            3         1       3   \n",
              "3            4         1       1   \n",
              "4            5         0       3   \n",
              "\n",
              "                                                Name     Sex   Age  SibSp  \\\n",
              "0                            Braund, Mr. Owen Harris    male  22.0      1   \n",
              "1  Cumings, Mrs. John Bradley (Florence Briggs Th...  female  38.0      1   \n",
              "2                             Heikkinen, Miss. Laina  female  26.0      0   \n",
              "3       Futrelle, Mrs. Jacques Heath (Lily May Peel)  female  35.0      1   \n",
              "4                           Allen, Mr. William Henry    male  35.0      0   \n",
              "\n",
              "   Parch            Ticket     Fare Cabin Embarked Pclass_Sex  NumOfRelations  \n",
              "0      0         A/5 21171   7.2500   NaN        S      3male               1  \n",
              "1      0          PC 17599  71.2833   C85        C    1female               1  \n",
              "2      0  STON/O2. 3101282   7.9250   NaN        S    3female               0  \n",
              "3      0            113803  53.1000  C123        S    1female               1  \n",
              "4      0            373450   8.0500   NaN        S      3male               0  "
            ]
          },
          "execution_count": 64,
          "metadata": {},
          "output_type": "execute_result"
        }
      ],
      "source": [
        "train_data.head()"
      ]
    },
    {
      "cell_type": "code",
      "execution_count": null,
      "id": "c2019dd1",
      "metadata": {
        "execution": {
          "iopub.execute_input": "2025-07-24T09:43:42.081536Z",
          "iopub.status.busy": "2025-07-24T09:43:42.080700Z",
          "iopub.status.idle": "2025-07-24T09:43:42.094261Z",
          "shell.execute_reply": "2025-07-24T09:43:42.093518Z"
        },
        "papermill": {
          "duration": 0.041274,
          "end_time": "2025-07-24T09:43:42.095482",
          "exception": false,
          "start_time": "2025-07-24T09:43:42.054208",
          "status": "completed"
        },
        "tags": [],
        "id": "c2019dd1",
        "outputId": "57e57055-9e63-45a0-8673-8b8a35363ed4"
      },
      "outputs": [
        {
          "data": {
            "text/html": [
              "<div>\n",
              "<style scoped>\n",
              "    .dataframe tbody tr th:only-of-type {\n",
              "        vertical-align: middle;\n",
              "    }\n",
              "\n",
              "    .dataframe tbody tr th {\n",
              "        vertical-align: top;\n",
              "    }\n",
              "\n",
              "    .dataframe thead th {\n",
              "        text-align: right;\n",
              "    }\n",
              "</style>\n",
              "<table border=\"1\" class=\"dataframe\">\n",
              "  <thead>\n",
              "    <tr style=\"text-align: right;\">\n",
              "      <th></th>\n",
              "      <th>PassengerId</th>\n",
              "      <th>Pclass</th>\n",
              "      <th>Name</th>\n",
              "      <th>Sex</th>\n",
              "      <th>Age</th>\n",
              "      <th>SibSp</th>\n",
              "      <th>Parch</th>\n",
              "      <th>Ticket</th>\n",
              "      <th>Fare</th>\n",
              "      <th>Cabin</th>\n",
              "      <th>Embarked</th>\n",
              "      <th>Pclass_Sex</th>\n",
              "      <th>NumOfRelations</th>\n",
              "    </tr>\n",
              "  </thead>\n",
              "  <tbody>\n",
              "    <tr>\n",
              "      <th>0</th>\n",
              "      <td>892</td>\n",
              "      <td>3</td>\n",
              "      <td>Kelly, Mr. James</td>\n",
              "      <td>male</td>\n",
              "      <td>34.5</td>\n",
              "      <td>0</td>\n",
              "      <td>0</td>\n",
              "      <td>330911</td>\n",
              "      <td>7.8292</td>\n",
              "      <td>NaN</td>\n",
              "      <td>Q</td>\n",
              "      <td>3male</td>\n",
              "      <td>0</td>\n",
              "    </tr>\n",
              "    <tr>\n",
              "      <th>1</th>\n",
              "      <td>893</td>\n",
              "      <td>3</td>\n",
              "      <td>Wilkes, Mrs. James (Ellen Needs)</td>\n",
              "      <td>female</td>\n",
              "      <td>47.0</td>\n",
              "      <td>1</td>\n",
              "      <td>0</td>\n",
              "      <td>363272</td>\n",
              "      <td>7.0000</td>\n",
              "      <td>NaN</td>\n",
              "      <td>S</td>\n",
              "      <td>3female</td>\n",
              "      <td>1</td>\n",
              "    </tr>\n",
              "    <tr>\n",
              "      <th>2</th>\n",
              "      <td>894</td>\n",
              "      <td>2</td>\n",
              "      <td>Myles, Mr. Thomas Francis</td>\n",
              "      <td>male</td>\n",
              "      <td>62.0</td>\n",
              "      <td>0</td>\n",
              "      <td>0</td>\n",
              "      <td>240276</td>\n",
              "      <td>9.6875</td>\n",
              "      <td>NaN</td>\n",
              "      <td>Q</td>\n",
              "      <td>2male</td>\n",
              "      <td>0</td>\n",
              "    </tr>\n",
              "    <tr>\n",
              "      <th>3</th>\n",
              "      <td>895</td>\n",
              "      <td>3</td>\n",
              "      <td>Wirz, Mr. Albert</td>\n",
              "      <td>male</td>\n",
              "      <td>27.0</td>\n",
              "      <td>0</td>\n",
              "      <td>0</td>\n",
              "      <td>315154</td>\n",
              "      <td>8.6625</td>\n",
              "      <td>NaN</td>\n",
              "      <td>S</td>\n",
              "      <td>3male</td>\n",
              "      <td>0</td>\n",
              "    </tr>\n",
              "    <tr>\n",
              "      <th>4</th>\n",
              "      <td>896</td>\n",
              "      <td>3</td>\n",
              "      <td>Hirvonen, Mrs. Alexander (Helga E Lindqvist)</td>\n",
              "      <td>female</td>\n",
              "      <td>22.0</td>\n",
              "      <td>1</td>\n",
              "      <td>1</td>\n",
              "      <td>3101298</td>\n",
              "      <td>12.2875</td>\n",
              "      <td>NaN</td>\n",
              "      <td>S</td>\n",
              "      <td>3female</td>\n",
              "      <td>2</td>\n",
              "    </tr>\n",
              "  </tbody>\n",
              "</table>\n",
              "</div>"
            ],
            "text/plain": [
              "   PassengerId  Pclass                                          Name     Sex  \\\n",
              "0          892       3                              Kelly, Mr. James    male   \n",
              "1          893       3              Wilkes, Mrs. James (Ellen Needs)  female   \n",
              "2          894       2                     Myles, Mr. Thomas Francis    male   \n",
              "3          895       3                              Wirz, Mr. Albert    male   \n",
              "4          896       3  Hirvonen, Mrs. Alexander (Helga E Lindqvist)  female   \n",
              "\n",
              "    Age  SibSp  Parch   Ticket     Fare Cabin Embarked Pclass_Sex  \\\n",
              "0  34.5      0      0   330911   7.8292   NaN        Q      3male   \n",
              "1  47.0      1      0   363272   7.0000   NaN        S    3female   \n",
              "2  62.0      0      0   240276   9.6875   NaN        Q      2male   \n",
              "3  27.0      0      0   315154   8.6625   NaN        S      3male   \n",
              "4  22.0      1      1  3101298  12.2875   NaN        S    3female   \n",
              "\n",
              "   NumOfRelations  \n",
              "0               0  \n",
              "1               1  \n",
              "2               0  \n",
              "3               0  \n",
              "4               2  "
            ]
          },
          "execution_count": 65,
          "metadata": {},
          "output_type": "execute_result"
        }
      ],
      "source": [
        "test_data.head()"
      ]
    },
    {
      "cell_type": "markdown",
      "id": "b4ec6a9e",
      "metadata": {
        "papermill": {
          "duration": 0.0249,
          "end_time": "2025-07-24T09:43:42.145764",
          "exception": false,
          "start_time": "2025-07-24T09:43:42.120864",
          "status": "completed"
        },
        "tags": [],
        "id": "b4ec6a9e"
      },
      "source": [
        "## Model"
      ]
    },
    {
      "cell_type": "code",
      "execution_count": null,
      "id": "912dea68",
      "metadata": {
        "execution": {
          "iopub.execute_input": "2025-07-24T09:43:42.197361Z",
          "iopub.status.busy": "2025-07-24T09:43:42.196585Z",
          "iopub.status.idle": "2025-07-24T09:43:43.431593Z",
          "shell.execute_reply": "2025-07-24T09:43:43.430895Z"
        },
        "papermill": {
          "duration": 1.262698,
          "end_time": "2025-07-24T09:43:43.433343",
          "exception": false,
          "start_time": "2025-07-24T09:43:42.170645",
          "status": "completed"
        },
        "tags": [],
        "id": "912dea68"
      },
      "outputs": [],
      "source": [
        "from sklearn.model_selection import train_test_split\n",
        "from sklearn.compose import ColumnTransformer\n",
        "from sklearn.preprocessing import OneHotEncoder, StandardScaler, OrdinalEncoder\n",
        "from sklearn.linear_model import LogisticRegression\n",
        "from sklearn.metrics import accuracy_score\n",
        "from sklearn.ensemble import RandomForestClassifier\n",
        "\n",
        "from xgboost import XGBClassifier\n",
        "import matplotlib.pyplot as plt"
      ]
    },
    {
      "cell_type": "code",
      "execution_count": null,
      "id": "916aff84",
      "metadata": {
        "execution": {
          "iopub.execute_input": "2025-07-24T09:43:43.484791Z",
          "iopub.status.busy": "2025-07-24T09:43:43.484450Z",
          "iopub.status.idle": "2025-07-24T09:43:43.490948Z",
          "shell.execute_reply": "2025-07-24T09:43:43.490107Z"
        },
        "papermill": {
          "duration": 0.033556,
          "end_time": "2025-07-24T09:43:43.492346",
          "exception": false,
          "start_time": "2025-07-24T09:43:43.458790",
          "status": "completed"
        },
        "tags": [],
        "id": "916aff84"
      },
      "outputs": [],
      "source": [
        "X_train = train_data[[\"Pclass_Sex\", \"NumOfRelations\"]]\n",
        "y_train = train_data[\"Survived\"]\n",
        "\n",
        "X_test = test_data[[\"Pclass_Sex\", \"NumOfRelations\"]]"
      ]
    },
    {
      "cell_type": "code",
      "execution_count": null,
      "id": "df36c63f",
      "metadata": {
        "execution": {
          "iopub.execute_input": "2025-07-24T09:43:43.543684Z",
          "iopub.status.busy": "2025-07-24T09:43:43.543340Z",
          "iopub.status.idle": "2025-07-24T09:43:43.550452Z",
          "shell.execute_reply": "2025-07-24T09:43:43.549819Z"
        },
        "papermill": {
          "duration": 0.03431,
          "end_time": "2025-07-24T09:43:43.551841",
          "exception": false,
          "start_time": "2025-07-24T09:43:43.517531",
          "status": "completed"
        },
        "tags": [],
        "id": "df36c63f"
      },
      "outputs": [],
      "source": [
        "# Split training dataset\n",
        "X_train_split, X_val, y_train_split, y_val = train_test_split(X_train, y_train, test_size=0.2, random_state=42)"
      ]
    },
    {
      "cell_type": "code",
      "execution_count": null,
      "id": "78993ca2",
      "metadata": {
        "execution": {
          "iopub.execute_input": "2025-07-24T09:43:43.603807Z",
          "iopub.status.busy": "2025-07-24T09:43:43.603405Z",
          "iopub.status.idle": "2025-07-24T09:43:43.607591Z",
          "shell.execute_reply": "2025-07-24T09:43:43.606907Z"
        },
        "papermill": {
          "duration": 0.031567,
          "end_time": "2025-07-24T09:43:43.608962",
          "exception": false,
          "start_time": "2025-07-24T09:43:43.577395",
          "status": "completed"
        },
        "tags": [],
        "id": "78993ca2"
      },
      "outputs": [],
      "source": [
        "nominal_cols = [\"Pclass_Sex\"]\n",
        "numerical_cols = [\"NumOfRelations\"]\n",
        "# ordinal_cols = [\"Pclass_Sex\"]\n",
        "\n",
        "# pclass_order = [\"1male\", \"1female\", \"2male\", \"2female\", \"3male\", \"3female\"]\n",
        "# pclass_order = [1, 2, 3]"
      ]
    },
    {
      "cell_type": "code",
      "execution_count": null,
      "id": "9f4c101e",
      "metadata": {
        "execution": {
          "iopub.execute_input": "2025-07-24T09:43:43.660565Z",
          "iopub.status.busy": "2025-07-24T09:43:43.660285Z",
          "iopub.status.idle": "2025-07-24T09:43:43.664716Z",
          "shell.execute_reply": "2025-07-24T09:43:43.663969Z"
        },
        "papermill": {
          "duration": 0.031711,
          "end_time": "2025-07-24T09:43:43.666013",
          "exception": false,
          "start_time": "2025-07-24T09:43:43.634302",
          "status": "completed"
        },
        "tags": [],
        "id": "9f4c101e"
      },
      "outputs": [],
      "source": [
        "ct = ColumnTransformer(\n",
        "    transformers=[\n",
        "        (\"ohe\", OneHotEncoder(handle_unknown='ignore', sparse_output=False), nominal_cols),\n",
        "        (\"standard_scaler\", StandardScaler(), numerical_cols),\n",
        "        # (\"ord\", OrdinalEncoder(categories=[pclass_order]), ordinal_cols)\n",
        "    ],\n",
        "    remainder=\"passthrough\"\n",
        ")"
      ]
    },
    {
      "cell_type": "code",
      "execution_count": null,
      "id": "c29c7975",
      "metadata": {
        "execution": {
          "iopub.execute_input": "2025-07-24T09:43:43.718263Z",
          "iopub.status.busy": "2025-07-24T09:43:43.717430Z",
          "iopub.status.idle": "2025-07-24T09:43:43.739818Z",
          "shell.execute_reply": "2025-07-24T09:43:43.739011Z"
        },
        "papermill": {
          "duration": 0.05001,
          "end_time": "2025-07-24T09:43:43.741397",
          "exception": false,
          "start_time": "2025-07-24T09:43:43.691387",
          "status": "completed"
        },
        "tags": [],
        "id": "c29c7975"
      },
      "outputs": [],
      "source": [
        "X_train_enc = ct.fit_transform(X_train_split)\n",
        "X_val_enc = ct.transform(X_val)\n",
        "X_test_enc = ct.transform(X_test)"
      ]
    },
    {
      "cell_type": "code",
      "execution_count": null,
      "id": "7a4247bd",
      "metadata": {
        "execution": {
          "iopub.execute_input": "2025-07-24T09:43:43.792901Z",
          "iopub.status.busy": "2025-07-24T09:43:43.792235Z",
          "iopub.status.idle": "2025-07-24T09:43:43.937059Z",
          "shell.execute_reply": "2025-07-24T09:43:43.936274Z"
        },
        "papermill": {
          "duration": 0.17249,
          "end_time": "2025-07-24T09:43:43.938901",
          "exception": false,
          "start_time": "2025-07-24T09:43:43.766411",
          "status": "completed"
        },
        "tags": [],
        "id": "7a4247bd",
        "outputId": "f98d184a-40ec-49f9-bba3-43c9cd2cb204"
      },
      "outputs": [
        {
          "data": {
            "text/html": [
              "<style>#sk-container-id-1 {color: black;background-color: white;}#sk-container-id-1 pre{padding: 0;}#sk-container-id-1 div.sk-toggleable {background-color: white;}#sk-container-id-1 label.sk-toggleable__label {cursor: pointer;display: block;width: 100%;margin-bottom: 0;padding: 0.3em;box-sizing: border-box;text-align: center;}#sk-container-id-1 label.sk-toggleable__label-arrow:before {content: \"▸\";float: left;margin-right: 0.25em;color: #696969;}#sk-container-id-1 label.sk-toggleable__label-arrow:hover:before {color: black;}#sk-container-id-1 div.sk-estimator:hover label.sk-toggleable__label-arrow:before {color: black;}#sk-container-id-1 div.sk-toggleable__content {max-height: 0;max-width: 0;overflow: hidden;text-align: left;background-color: #f0f8ff;}#sk-container-id-1 div.sk-toggleable__content pre {margin: 0.2em;color: black;border-radius: 0.25em;background-color: #f0f8ff;}#sk-container-id-1 input.sk-toggleable__control:checked~div.sk-toggleable__content {max-height: 200px;max-width: 100%;overflow: auto;}#sk-container-id-1 input.sk-toggleable__control:checked~label.sk-toggleable__label-arrow:before {content: \"▾\";}#sk-container-id-1 div.sk-estimator input.sk-toggleable__control:checked~label.sk-toggleable__label {background-color: #d4ebff;}#sk-container-id-1 div.sk-label input.sk-toggleable__control:checked~label.sk-toggleable__label {background-color: #d4ebff;}#sk-container-id-1 input.sk-hidden--visually {border: 0;clip: rect(1px 1px 1px 1px);clip: rect(1px, 1px, 1px, 1px);height: 1px;margin: -1px;overflow: hidden;padding: 0;position: absolute;width: 1px;}#sk-container-id-1 div.sk-estimator {font-family: monospace;background-color: #f0f8ff;border: 1px dotted black;border-radius: 0.25em;box-sizing: border-box;margin-bottom: 0.5em;}#sk-container-id-1 div.sk-estimator:hover {background-color: #d4ebff;}#sk-container-id-1 div.sk-parallel-item::after {content: \"\";width: 100%;border-bottom: 1px solid gray;flex-grow: 1;}#sk-container-id-1 div.sk-label:hover label.sk-toggleable__label {background-color: #d4ebff;}#sk-container-id-1 div.sk-serial::before {content: \"\";position: absolute;border-left: 1px solid gray;box-sizing: border-box;top: 0;bottom: 0;left: 50%;z-index: 0;}#sk-container-id-1 div.sk-serial {display: flex;flex-direction: column;align-items: center;background-color: white;padding-right: 0.2em;padding-left: 0.2em;position: relative;}#sk-container-id-1 div.sk-item {position: relative;z-index: 1;}#sk-container-id-1 div.sk-parallel {display: flex;align-items: stretch;justify-content: center;background-color: white;position: relative;}#sk-container-id-1 div.sk-item::before, #sk-container-id-1 div.sk-parallel-item::before {content: \"\";position: absolute;border-left: 1px solid gray;box-sizing: border-box;top: 0;bottom: 0;left: 50%;z-index: -1;}#sk-container-id-1 div.sk-parallel-item {display: flex;flex-direction: column;z-index: 1;position: relative;background-color: white;}#sk-container-id-1 div.sk-parallel-item:first-child::after {align-self: flex-end;width: 50%;}#sk-container-id-1 div.sk-parallel-item:last-child::after {align-self: flex-start;width: 50%;}#sk-container-id-1 div.sk-parallel-item:only-child::after {width: 0;}#sk-container-id-1 div.sk-dashed-wrapped {border: 1px dashed gray;margin: 0 0.4em 0.5em 0.4em;box-sizing: border-box;padding-bottom: 0.4em;background-color: white;}#sk-container-id-1 div.sk-label label {font-family: monospace;font-weight: bold;display: inline-block;line-height: 1.2em;}#sk-container-id-1 div.sk-label-container {text-align: center;}#sk-container-id-1 div.sk-container {/* jupyter's `normalize.less` sets `[hidden] { display: none; }` but bootstrap.min.css set `[hidden] { display: none !important; }` so we also need the `!important` here to be able to override the default hidden behavior on the sphinx rendered scikit-learn.org. See: https://github.com/scikit-learn/scikit-learn/issues/21755 */display: inline-block !important;position: relative;}#sk-container-id-1 div.sk-text-repr-fallback {display: none;}</style><div id=\"sk-container-id-1\" class=\"sk-top-container\"><div class=\"sk-text-repr-fallback\"><pre>LogisticRegression(random_state=42)</pre><b>In a Jupyter environment, please rerun this cell to show the HTML representation or trust the notebook. <br />On GitHub, the HTML representation is unable to render, please try loading this page with nbviewer.org.</b></div><div class=\"sk-container\" hidden><div class=\"sk-item\"><div class=\"sk-estimator sk-toggleable\"><input class=\"sk-toggleable__control sk-hidden--visually\" id=\"sk-estimator-id-1\" type=\"checkbox\" checked><label for=\"sk-estimator-id-1\" class=\"sk-toggleable__label sk-toggleable__label-arrow\">LogisticRegression</label><div class=\"sk-toggleable__content\"><pre>LogisticRegression(random_state=42)</pre></div></div></div></div></div>"
            ],
            "text/plain": [
              "LogisticRegression(random_state=42)"
            ]
          },
          "execution_count": 72,
          "metadata": {},
          "output_type": "execute_result"
        }
      ],
      "source": [
        "lr = LogisticRegression(random_state=42)\n",
        "lr.fit(X_train_enc, y_train_split)"
      ]
    },
    {
      "cell_type": "code",
      "execution_count": null,
      "id": "008e76b8",
      "metadata": {
        "execution": {
          "iopub.execute_input": "2025-07-24T09:43:44.024889Z",
          "iopub.status.busy": "2025-07-24T09:43:44.024527Z",
          "iopub.status.idle": "2025-07-24T09:43:44.030564Z",
          "shell.execute_reply": "2025-07-24T09:43:44.029837Z"
        },
        "papermill": {
          "duration": 0.050819,
          "end_time": "2025-07-24T09:43:44.032211",
          "exception": false,
          "start_time": "2025-07-24T09:43:43.981392",
          "status": "completed"
        },
        "tags": [],
        "id": "008e76b8"
      },
      "outputs": [],
      "source": [
        "y_pred_lr = lr.predict(X_val_enc)"
      ]
    },
    {
      "cell_type": "code",
      "execution_count": null,
      "id": "1f52d4be",
      "metadata": {
        "execution": {
          "iopub.execute_input": "2025-07-24T09:43:44.085611Z",
          "iopub.status.busy": "2025-07-24T09:43:44.085313Z",
          "iopub.status.idle": "2025-07-24T09:43:44.241903Z",
          "shell.execute_reply": "2025-07-24T09:43:44.241000Z"
        },
        "papermill": {
          "duration": 0.184092,
          "end_time": "2025-07-24T09:43:44.243205",
          "exception": false,
          "start_time": "2025-07-24T09:43:44.059113",
          "status": "completed"
        },
        "tags": [],
        "id": "1f52d4be",
        "outputId": "aec57da5-2443-4e7d-e488-d0c35a374dd6"
      },
      "outputs": [
        {
          "data": {
            "text/html": [
              "<style>#sk-container-id-2 {color: black;background-color: white;}#sk-container-id-2 pre{padding: 0;}#sk-container-id-2 div.sk-toggleable {background-color: white;}#sk-container-id-2 label.sk-toggleable__label {cursor: pointer;display: block;width: 100%;margin-bottom: 0;padding: 0.3em;box-sizing: border-box;text-align: center;}#sk-container-id-2 label.sk-toggleable__label-arrow:before {content: \"▸\";float: left;margin-right: 0.25em;color: #696969;}#sk-container-id-2 label.sk-toggleable__label-arrow:hover:before {color: black;}#sk-container-id-2 div.sk-estimator:hover label.sk-toggleable__label-arrow:before {color: black;}#sk-container-id-2 div.sk-toggleable__content {max-height: 0;max-width: 0;overflow: hidden;text-align: left;background-color: #f0f8ff;}#sk-container-id-2 div.sk-toggleable__content pre {margin: 0.2em;color: black;border-radius: 0.25em;background-color: #f0f8ff;}#sk-container-id-2 input.sk-toggleable__control:checked~div.sk-toggleable__content {max-height: 200px;max-width: 100%;overflow: auto;}#sk-container-id-2 input.sk-toggleable__control:checked~label.sk-toggleable__label-arrow:before {content: \"▾\";}#sk-container-id-2 div.sk-estimator input.sk-toggleable__control:checked~label.sk-toggleable__label {background-color: #d4ebff;}#sk-container-id-2 div.sk-label input.sk-toggleable__control:checked~label.sk-toggleable__label {background-color: #d4ebff;}#sk-container-id-2 input.sk-hidden--visually {border: 0;clip: rect(1px 1px 1px 1px);clip: rect(1px, 1px, 1px, 1px);height: 1px;margin: -1px;overflow: hidden;padding: 0;position: absolute;width: 1px;}#sk-container-id-2 div.sk-estimator {font-family: monospace;background-color: #f0f8ff;border: 1px dotted black;border-radius: 0.25em;box-sizing: border-box;margin-bottom: 0.5em;}#sk-container-id-2 div.sk-estimator:hover {background-color: #d4ebff;}#sk-container-id-2 div.sk-parallel-item::after {content: \"\";width: 100%;border-bottom: 1px solid gray;flex-grow: 1;}#sk-container-id-2 div.sk-label:hover label.sk-toggleable__label {background-color: #d4ebff;}#sk-container-id-2 div.sk-serial::before {content: \"\";position: absolute;border-left: 1px solid gray;box-sizing: border-box;top: 0;bottom: 0;left: 50%;z-index: 0;}#sk-container-id-2 div.sk-serial {display: flex;flex-direction: column;align-items: center;background-color: white;padding-right: 0.2em;padding-left: 0.2em;position: relative;}#sk-container-id-2 div.sk-item {position: relative;z-index: 1;}#sk-container-id-2 div.sk-parallel {display: flex;align-items: stretch;justify-content: center;background-color: white;position: relative;}#sk-container-id-2 div.sk-item::before, #sk-container-id-2 div.sk-parallel-item::before {content: \"\";position: absolute;border-left: 1px solid gray;box-sizing: border-box;top: 0;bottom: 0;left: 50%;z-index: -1;}#sk-container-id-2 div.sk-parallel-item {display: flex;flex-direction: column;z-index: 1;position: relative;background-color: white;}#sk-container-id-2 div.sk-parallel-item:first-child::after {align-self: flex-end;width: 50%;}#sk-container-id-2 div.sk-parallel-item:last-child::after {align-self: flex-start;width: 50%;}#sk-container-id-2 div.sk-parallel-item:only-child::after {width: 0;}#sk-container-id-2 div.sk-dashed-wrapped {border: 1px dashed gray;margin: 0 0.4em 0.5em 0.4em;box-sizing: border-box;padding-bottom: 0.4em;background-color: white;}#sk-container-id-2 div.sk-label label {font-family: monospace;font-weight: bold;display: inline-block;line-height: 1.2em;}#sk-container-id-2 div.sk-label-container {text-align: center;}#sk-container-id-2 div.sk-container {/* jupyter's `normalize.less` sets `[hidden] { display: none; }` but bootstrap.min.css set `[hidden] { display: none !important; }` so we also need the `!important` here to be able to override the default hidden behavior on the sphinx rendered scikit-learn.org. See: https://github.com/scikit-learn/scikit-learn/issues/21755 */display: inline-block !important;position: relative;}#sk-container-id-2 div.sk-text-repr-fallback {display: none;}</style><div id=\"sk-container-id-2\" class=\"sk-top-container\"><div class=\"sk-text-repr-fallback\"><pre>RandomForestClassifier(max_depth=5, random_state=42)</pre><b>In a Jupyter environment, please rerun this cell to show the HTML representation or trust the notebook. <br />On GitHub, the HTML representation is unable to render, please try loading this page with nbviewer.org.</b></div><div class=\"sk-container\" hidden><div class=\"sk-item\"><div class=\"sk-estimator sk-toggleable\"><input class=\"sk-toggleable__control sk-hidden--visually\" id=\"sk-estimator-id-2\" type=\"checkbox\" checked><label for=\"sk-estimator-id-2\" class=\"sk-toggleable__label sk-toggleable__label-arrow\">RandomForestClassifier</label><div class=\"sk-toggleable__content\"><pre>RandomForestClassifier(max_depth=5, random_state=42)</pre></div></div></div></div></div>"
            ],
            "text/plain": [
              "RandomForestClassifier(max_depth=5, random_state=42)"
            ]
          },
          "execution_count": 74,
          "metadata": {},
          "output_type": "execute_result"
        }
      ],
      "source": [
        "clf = RandomForestClassifier(random_state=42, max_depth=5)\n",
        "clf.fit(X_train_enc, y_train_split)"
      ]
    },
    {
      "cell_type": "code",
      "execution_count": null,
      "id": "cd34a925",
      "metadata": {
        "execution": {
          "iopub.execute_input": "2025-07-24T09:43:44.295440Z",
          "iopub.status.busy": "2025-07-24T09:43:44.294853Z",
          "iopub.status.idle": "2025-07-24T09:43:44.307127Z",
          "shell.execute_reply": "2025-07-24T09:43:44.306403Z"
        },
        "papermill": {
          "duration": 0.039663,
          "end_time": "2025-07-24T09:43:44.308485",
          "exception": false,
          "start_time": "2025-07-24T09:43:44.268822",
          "status": "completed"
        },
        "tags": [],
        "id": "cd34a925"
      },
      "outputs": [],
      "source": [
        "y_pred_tree = clf.predict(X_val_enc)"
      ]
    },
    {
      "cell_type": "code",
      "execution_count": null,
      "id": "302b37bd",
      "metadata": {
        "execution": {
          "iopub.execute_input": "2025-07-24T09:43:44.360809Z",
          "iopub.status.busy": "2025-07-24T09:43:44.360002Z",
          "iopub.status.idle": "2025-07-24T09:43:44.472171Z",
          "shell.execute_reply": "2025-07-24T09:43:44.470427Z"
        },
        "papermill": {
          "duration": 0.13973,
          "end_time": "2025-07-24T09:43:44.473476",
          "exception": false,
          "start_time": "2025-07-24T09:43:44.333746",
          "status": "completed"
        },
        "tags": [],
        "id": "302b37bd",
        "outputId": "cec4436c-90f2-4193-c184-32172b7fa832"
      },
      "outputs": [
        {
          "data": {
            "text/html": [
              "<style>#sk-container-id-3 {color: black;background-color: white;}#sk-container-id-3 pre{padding: 0;}#sk-container-id-3 div.sk-toggleable {background-color: white;}#sk-container-id-3 label.sk-toggleable__label {cursor: pointer;display: block;width: 100%;margin-bottom: 0;padding: 0.3em;box-sizing: border-box;text-align: center;}#sk-container-id-3 label.sk-toggleable__label-arrow:before {content: \"▸\";float: left;margin-right: 0.25em;color: #696969;}#sk-container-id-3 label.sk-toggleable__label-arrow:hover:before {color: black;}#sk-container-id-3 div.sk-estimator:hover label.sk-toggleable__label-arrow:before {color: black;}#sk-container-id-3 div.sk-toggleable__content {max-height: 0;max-width: 0;overflow: hidden;text-align: left;background-color: #f0f8ff;}#sk-container-id-3 div.sk-toggleable__content pre {margin: 0.2em;color: black;border-radius: 0.25em;background-color: #f0f8ff;}#sk-container-id-3 input.sk-toggleable__control:checked~div.sk-toggleable__content {max-height: 200px;max-width: 100%;overflow: auto;}#sk-container-id-3 input.sk-toggleable__control:checked~label.sk-toggleable__label-arrow:before {content: \"▾\";}#sk-container-id-3 div.sk-estimator input.sk-toggleable__control:checked~label.sk-toggleable__label {background-color: #d4ebff;}#sk-container-id-3 div.sk-label input.sk-toggleable__control:checked~label.sk-toggleable__label {background-color: #d4ebff;}#sk-container-id-3 input.sk-hidden--visually {border: 0;clip: rect(1px 1px 1px 1px);clip: rect(1px, 1px, 1px, 1px);height: 1px;margin: -1px;overflow: hidden;padding: 0;position: absolute;width: 1px;}#sk-container-id-3 div.sk-estimator {font-family: monospace;background-color: #f0f8ff;border: 1px dotted black;border-radius: 0.25em;box-sizing: border-box;margin-bottom: 0.5em;}#sk-container-id-3 div.sk-estimator:hover {background-color: #d4ebff;}#sk-container-id-3 div.sk-parallel-item::after {content: \"\";width: 100%;border-bottom: 1px solid gray;flex-grow: 1;}#sk-container-id-3 div.sk-label:hover label.sk-toggleable__label {background-color: #d4ebff;}#sk-container-id-3 div.sk-serial::before {content: \"\";position: absolute;border-left: 1px solid gray;box-sizing: border-box;top: 0;bottom: 0;left: 50%;z-index: 0;}#sk-container-id-3 div.sk-serial {display: flex;flex-direction: column;align-items: center;background-color: white;padding-right: 0.2em;padding-left: 0.2em;position: relative;}#sk-container-id-3 div.sk-item {position: relative;z-index: 1;}#sk-container-id-3 div.sk-parallel {display: flex;align-items: stretch;justify-content: center;background-color: white;position: relative;}#sk-container-id-3 div.sk-item::before, #sk-container-id-3 div.sk-parallel-item::before {content: \"\";position: absolute;border-left: 1px solid gray;box-sizing: border-box;top: 0;bottom: 0;left: 50%;z-index: -1;}#sk-container-id-3 div.sk-parallel-item {display: flex;flex-direction: column;z-index: 1;position: relative;background-color: white;}#sk-container-id-3 div.sk-parallel-item:first-child::after {align-self: flex-end;width: 50%;}#sk-container-id-3 div.sk-parallel-item:last-child::after {align-self: flex-start;width: 50%;}#sk-container-id-3 div.sk-parallel-item:only-child::after {width: 0;}#sk-container-id-3 div.sk-dashed-wrapped {border: 1px dashed gray;margin: 0 0.4em 0.5em 0.4em;box-sizing: border-box;padding-bottom: 0.4em;background-color: white;}#sk-container-id-3 div.sk-label label {font-family: monospace;font-weight: bold;display: inline-block;line-height: 1.2em;}#sk-container-id-3 div.sk-label-container {text-align: center;}#sk-container-id-3 div.sk-container {/* jupyter's `normalize.less` sets `[hidden] { display: none; }` but bootstrap.min.css set `[hidden] { display: none !important; }` so we also need the `!important` here to be able to override the default hidden behavior on the sphinx rendered scikit-learn.org. See: https://github.com/scikit-learn/scikit-learn/issues/21755 */display: inline-block !important;position: relative;}#sk-container-id-3 div.sk-text-repr-fallback {display: none;}</style><div id=\"sk-container-id-3\" class=\"sk-top-container\"><div class=\"sk-text-repr-fallback\"><pre>XGBClassifier(base_score=None, booster=None, callbacks=None,\n",
              "              colsample_bylevel=None, colsample_bynode=None,\n",
              "              colsample_bytree=None, device=None, early_stopping_rounds=None,\n",
              "              enable_categorical=False, eval_metric=None, feature_types=None,\n",
              "              gamma=None, grow_policy=None, importance_type=None,\n",
              "              interaction_constraints=None, learning_rate=None, max_bin=None,\n",
              "              max_cat_threshold=None, max_cat_to_onehot=None,\n",
              "              max_delta_step=None, max_depth=6, max_leaves=None,\n",
              "              min_child_weight=None, missing=nan, monotone_constraints=None,\n",
              "              multi_strategy=None, n_estimators=100, n_jobs=None,\n",
              "              num_parallel_tree=None, random_state=42, ...)</pre><b>In a Jupyter environment, please rerun this cell to show the HTML representation or trust the notebook. <br />On GitHub, the HTML representation is unable to render, please try loading this page with nbviewer.org.</b></div><div class=\"sk-container\" hidden><div class=\"sk-item\"><div class=\"sk-estimator sk-toggleable\"><input class=\"sk-toggleable__control sk-hidden--visually\" id=\"sk-estimator-id-3\" type=\"checkbox\" checked><label for=\"sk-estimator-id-3\" class=\"sk-toggleable__label sk-toggleable__label-arrow\">XGBClassifier</label><div class=\"sk-toggleable__content\"><pre>XGBClassifier(base_score=None, booster=None, callbacks=None,\n",
              "              colsample_bylevel=None, colsample_bynode=None,\n",
              "              colsample_bytree=None, device=None, early_stopping_rounds=None,\n",
              "              enable_categorical=False, eval_metric=None, feature_types=None,\n",
              "              gamma=None, grow_policy=None, importance_type=None,\n",
              "              interaction_constraints=None, learning_rate=None, max_bin=None,\n",
              "              max_cat_threshold=None, max_cat_to_onehot=None,\n",
              "              max_delta_step=None, max_depth=6, max_leaves=None,\n",
              "              min_child_weight=None, missing=nan, monotone_constraints=None,\n",
              "              multi_strategy=None, n_estimators=100, n_jobs=None,\n",
              "              num_parallel_tree=None, random_state=42, ...)</pre></div></div></div></div></div>"
            ],
            "text/plain": [
              "XGBClassifier(base_score=None, booster=None, callbacks=None,\n",
              "              colsample_bylevel=None, colsample_bynode=None,\n",
              "              colsample_bytree=None, device=None, early_stopping_rounds=None,\n",
              "              enable_categorical=False, eval_metric=None, feature_types=None,\n",
              "              gamma=None, grow_policy=None, importance_type=None,\n",
              "              interaction_constraints=None, learning_rate=None, max_bin=None,\n",
              "              max_cat_threshold=None, max_cat_to_onehot=None,\n",
              "              max_delta_step=None, max_depth=6, max_leaves=None,\n",
              "              min_child_weight=None, missing=nan, monotone_constraints=None,\n",
              "              multi_strategy=None, n_estimators=100, n_jobs=None,\n",
              "              num_parallel_tree=None, random_state=42, ...)"
            ]
          },
          "execution_count": 76,
          "metadata": {},
          "output_type": "execute_result"
        }
      ],
      "source": [
        "xgb = XGBClassifier(random_state=42, n_estimators=100, max_depth=6, reg_lambda=1200)\n",
        "xgb.fit(X_train_enc, y_train_split)"
      ]
    },
    {
      "cell_type": "code",
      "execution_count": null,
      "id": "c479acf3",
      "metadata": {
        "execution": {
          "iopub.execute_input": "2025-07-24T09:43:44.526922Z",
          "iopub.status.busy": "2025-07-24T09:43:44.526597Z",
          "iopub.status.idle": "2025-07-24T09:43:44.533407Z",
          "shell.execute_reply": "2025-07-24T09:43:44.532774Z"
        },
        "papermill": {
          "duration": 0.034516,
          "end_time": "2025-07-24T09:43:44.535081",
          "exception": false,
          "start_time": "2025-07-24T09:43:44.500565",
          "status": "completed"
        },
        "tags": [],
        "id": "c479acf3"
      },
      "outputs": [],
      "source": [
        "y_pred_xgb = xgb.predict(X_val_enc)"
      ]
    },
    {
      "cell_type": "code",
      "execution_count": null,
      "id": "86f73c41",
      "metadata": {
        "execution": {
          "iopub.execute_input": "2025-07-24T09:43:44.588565Z",
          "iopub.status.busy": "2025-07-24T09:43:44.588253Z",
          "iopub.status.idle": "2025-07-24T09:43:44.593794Z",
          "shell.execute_reply": "2025-07-24T09:43:44.593117Z"
        },
        "papermill": {
          "duration": 0.033298,
          "end_time": "2025-07-24T09:43:44.595061",
          "exception": false,
          "start_time": "2025-07-24T09:43:44.561763",
          "status": "completed"
        },
        "tags": [],
        "id": "86f73c41",
        "outputId": "e0f4f247-7aaf-42d5-fe0a-cfeecbc8d128"
      },
      "outputs": [
        {
          "data": {
            "text/plain": [
              "array(['ohe__Pclass_Sex_1female', 'ohe__Pclass_Sex_1male',\n",
              "       'ohe__Pclass_Sex_2female', 'ohe__Pclass_Sex_2male',\n",
              "       'ohe__Pclass_Sex_3female', 'ohe__Pclass_Sex_3male',\n",
              "       'standard_scaler__NumOfRelations'], dtype=object)"
            ]
          },
          "execution_count": 78,
          "metadata": {},
          "output_type": "execute_result"
        }
      ],
      "source": [
        "ct.get_feature_names_out()"
      ]
    },
    {
      "cell_type": "code",
      "execution_count": null,
      "id": "68df9b73",
      "metadata": {
        "execution": {
          "iopub.execute_input": "2025-07-24T09:43:44.647234Z",
          "iopub.status.busy": "2025-07-24T09:43:44.646924Z",
          "iopub.status.idle": "2025-07-24T09:43:44.798166Z",
          "shell.execute_reply": "2025-07-24T09:43:44.797302Z"
        },
        "papermill": {
          "duration": 0.178929,
          "end_time": "2025-07-24T09:43:44.799453",
          "exception": false,
          "start_time": "2025-07-24T09:43:44.620524",
          "status": "completed"
        },
        "tags": [],
        "id": "68df9b73",
        "outputId": "12bcf071-c875-42a1-d863-cbf25786d7c8"
      },
      "outputs": [
        {
          "data": {
            "image/png": "[encoded data removed]",
            "text/plain": [
              "<Figure size 640x480 with 1 Axes>"
            ]
          },
          "metadata": {},
          "output_type": "display_data"
        }
      ],
      "source": [
        "plt.bar(range(len(xgb.feature_importances_)), xgb.feature_importances_)\n",
        "plt.show()"
      ]
    },
    {
      "cell_type": "code",
      "execution_count": null,
      "id": "6c71812d",
      "metadata": {
        "execution": {
          "iopub.execute_input": "2025-07-24T09:43:44.852678Z",
          "iopub.status.busy": "2025-07-24T09:43:44.851996Z",
          "iopub.status.idle": "2025-07-24T09:43:44.859823Z",
          "shell.execute_reply": "2025-07-24T09:43:44.858843Z"
        },
        "papermill": {
          "duration": 0.035925,
          "end_time": "2025-07-24T09:43:44.861223",
          "exception": false,
          "start_time": "2025-07-24T09:43:44.825298",
          "status": "completed"
        },
        "tags": [],
        "id": "6c71812d",
        "outputId": "d3e6d85b-6b43-4897-b7fe-d25b503d360b"
      },
      "outputs": [
        {
          "name": "stdout",
          "output_type": "stream",
          "text": [
            "Logistic Regression\n",
            "Accuracy on training set: 0.8033707865168539\n",
            "Accuracy on validation set: 0.8044692737430168\n"
          ]
        }
      ],
      "source": [
        "print(\"Logistic Regression\")\n",
        "print(f\"Accuracy on training set: {lr.score(X_train_enc, y_train_split)}\")\n",
        "print(f\"Accuracy on validation set: {accuracy_score(y_val, y_pred_lr)}\")"
      ]
    },
    {
      "cell_type": "code",
      "execution_count": null,
      "id": "39b40cd6",
      "metadata": {
        "execution": {
          "iopub.execute_input": "2025-07-24T09:43:44.914473Z",
          "iopub.status.busy": "2025-07-24T09:43:44.914159Z",
          "iopub.status.idle": "2025-07-24T09:43:44.932264Z",
          "shell.execute_reply": "2025-07-24T09:43:44.931175Z"
        },
        "papermill": {
          "duration": 0.046813,
          "end_time": "2025-07-24T09:43:44.933777",
          "exception": false,
          "start_time": "2025-07-24T09:43:44.886964",
          "status": "completed"
        },
        "tags": [],
        "id": "39b40cd6",
        "outputId": "1bb338b3-9c52-43b5-f04a-fb8a9481c183"
      },
      "outputs": [
        {
          "name": "stdout",
          "output_type": "stream",
          "text": [
            "Random Forest Classifier\n",
            "Accuracy on training set: 0.8160112359550562\n",
            "Accuracy on validation set: 0.8044692737430168\n"
          ]
        }
      ],
      "source": [
        "print(\"Random Forest Classifier\")\n",
        "print(f\"Accuracy on training set: {clf.score(X_train_enc, y_train_split)}\")\n",
        "print(f\"Accuracy on validation set: {accuracy_score(y_val, y_pred_tree)}\")"
      ]
    },
    {
      "cell_type": "code",
      "execution_count": null,
      "id": "e5010d2f",
      "metadata": {
        "execution": {
          "iopub.execute_input": "2025-07-24T09:43:44.986795Z",
          "iopub.status.busy": "2025-07-24T09:43:44.986154Z",
          "iopub.status.idle": "2025-07-24T09:43:44.995654Z",
          "shell.execute_reply": "2025-07-24T09:43:44.993895Z"
        },
        "papermill": {
          "duration": 0.038193,
          "end_time": "2025-07-24T09:43:44.997910",
          "exception": false,
          "start_time": "2025-07-24T09:43:44.959717",
          "status": "completed"
        },
        "tags": [],
        "id": "e5010d2f",
        "outputId": "ae4fea23-a0ee-4220-f029-16cc7545daf9"
      },
      "outputs": [
        {
          "name": "stdout",
          "output_type": "stream",
          "text": [
            "XGBoost\n",
            "Accuracy on training set: 0.8132022471910112\n",
            "Accuracy on validation set: 0.7988826815642458\n"
          ]
        }
      ],
      "source": [
        "print(\"XGBoost\")\n",
        "print(f\"Accuracy on training set: {xgb.score(X_train_enc, y_train_split)}\")\n",
        "print(f\"Accuracy on validation set: {accuracy_score(y_val, y_pred_xgb)}\")"
      ]
    },
    {
      "cell_type": "markdown",
      "id": "21c5b77a",
      "metadata": {
        "papermill": {
          "duration": 0.026163,
          "end_time": "2025-07-24T09:43:45.050543",
          "exception": false,
          "start_time": "2025-07-24T09:43:45.024380",
          "status": "completed"
        },
        "tags": [],
        "id": "21c5b77a"
      },
      "source": [
        "## Submission"
      ]
    },
    {
      "cell_type": "code",
      "execution_count": null,
      "id": "8c4076d1",
      "metadata": {
        "execution": {
          "iopub.execute_input": "2025-07-24T09:43:45.104004Z",
          "iopub.status.busy": "2025-07-24T09:43:45.103692Z",
          "iopub.status.idle": "2025-07-24T09:43:45.108257Z",
          "shell.execute_reply": "2025-07-24T09:43:45.107530Z"
        },
        "papermill": {
          "duration": 0.033092,
          "end_time": "2025-07-24T09:43:45.109685",
          "exception": false,
          "start_time": "2025-07-24T09:43:45.076593",
          "status": "completed"
        },
        "tags": [],
        "id": "8c4076d1"
      },
      "outputs": [],
      "source": [
        "predictions = lr.predict(X_test_enc)"
      ]
    },
    {
      "cell_type": "code",
      "execution_count": null,
      "id": "cc522f5d",
      "metadata": {
        "execution": {
          "iopub.execute_input": "2025-07-24T09:43:45.163450Z",
          "iopub.status.busy": "2025-07-24T09:43:45.163157Z",
          "iopub.status.idle": "2025-07-24T09:43:45.174970Z",
          "shell.execute_reply": "2025-07-24T09:43:45.174112Z"
        },
        "papermill": {
          "duration": 0.040747,
          "end_time": "2025-07-24T09:43:45.176395",
          "exception": false,
          "start_time": "2025-07-24T09:43:45.135648",
          "status": "completed"
        },
        "tags": [],
        "id": "cc522f5d",
        "outputId": "f162a04e-683b-4b29-febf-8be4e17321a4"
      },
      "outputs": [
        {
          "name": "stdout",
          "output_type": "stream",
          "text": [
            "Your submission was successfully saved!\n"
          ]
        }
      ],
      "source": [
        "output = pd.DataFrame({'PassengerId': test_data.PassengerId, 'Survived': predictions})\n",
        "output.to_csv('submission.csv', index=False)\n",
        "print(\"Your submission was successfully saved!\")"
      ]
    }
  ],
  "metadata": {
    "kaggle": {
      "accelerator": "none",
      "dataSources": [
        {
          "databundleVersionId": 26502,
          "sourceId": 3136,
          "sourceType": "competition"
        }
      ],
      "dockerImageVersionId": 31089,
      "isGpuEnabled": false,
      "isInternetEnabled": true,
      "language": "python",
      "sourceType": "notebook"
    },
    "kernelspec": {
      "display_name": "Python 3",
      "language": "python",
      "name": "python3"
    },
    "language_info": {
      "codemirror_mode": {
        "name": "ipython",
        "version": 3
      },
      "file_extension": ".py",
      "mimetype": "text/x-python",
      "name": "python",
      "nbconvert_exporter": "python",
      "pygments_lexer": "ipython3",
      "version": "3.11.13"
    },
    "papermill": {
      "default_parameters": {},
      "duration": 19.700498,
      "end_time": "2025-07-24T09:43:45.821411",
      "environment_variables": {},
      "exception": null,
      "input_path": "__notebook__.ipynb",
      "output_path": "__notebook__.ipynb",
      "parameters": {},
      "start_time": "2025-07-24T09:43:26.120913",
      "version": "2.6.0"
    },
    "colab": {
      "provenance": [],
      "include_colab_link": true
    }
  },
  "nbformat": 4,
  "nbformat_minor": 5
}