{
  "cells": [
    {
      "cell_type": "markdown",
      "metadata": {
        "id": "view-in-github",
        "colab_type": "text"
      },
      "source": [
        "<a href=\"https://colab.research.google.com/github/ignadr/ML-Algorithms-Practice/blob/main/wine_clustering_k_means_practice.ipynb\" target=\"_parent\"><img src=\"https://colab.research.google.com/assets/colab-badge.svg\" alt=\"Open In Colab\"/></a>"
      ]
    },
    {
      "cell_type": "code",
      "execution_count": null,
      "id": "99f2c306",
      "metadata": {
        "_cell_guid": "b1076dfc-b9ad-4769-8c92-a6c4dae69d19",
        "_uuid": "8f2839f25d086af736a60e9eeb907d3b93b6e0e5",
        "execution": {
          "iopub.execute_input": "2025-07-31T10:31:21.782658Z",
          "iopub.status.busy": "2025-07-31T10:31:21.782316Z",
          "iopub.status.idle": "2025-07-31T10:31:23.761443Z",
          "shell.execute_reply": "2025-07-31T10:31:23.760271Z"
        },
        "papermill": {
          "duration": 1.985131,
          "end_time": "2025-07-31T10:31:23.763111",
          "exception": false,
          "start_time": "2025-07-31T10:31:21.777980",
          "status": "completed"
        },
        "tags": [],
        "id": "99f2c306",
        "outputId": "e3400bec-80fd-4b70-bddb-fb9b92d30b4c"
      },
      "outputs": [
        {
          "name": "stdout",
          "output_type": "stream",
          "text": [
            "/kaggle/input/wine-dataset-for-clustering/wine-clustering.csv\n"
          ]
        }
      ],
      "source": [
        "# This Python 3 environment comes with many helpful analytics libraries installed\n",
        "# It is defined by the kaggle/python Docker image: https://github.com/kaggle/docker-python\n",
        "# For example, here's several helpful packages to load\n",
        "\n",
        "import numpy as np # linear algebra\n",
        "import pandas as pd # data processing, CSV file I/O (e.g. pd.read_csv)\n",
        "\n",
        "# Input data files are available in the read-only \"../input/\" directory\n",
        "# For example, running this (by clicking run or pressing Shift+Enter) will list all files under the input directory\n",
        "\n",
        "import os\n",
        "for dirname, _, filenames in os.walk('/kaggle/input'):\n",
        "    for filename in filenames:\n",
        "        print(os.path.join(dirname, filename))\n",
        "\n",
        "# You can write up to 20GB to the current directory (/kaggle/working/) that gets preserved as output when you create a version using \"Save & Run All\"\n",
        "# You can also write temporary files to /kaggle/temp/, but they won't be saved outside of the current session"
      ]
    },
    {
      "cell_type": "code",
      "execution_count": null,
      "id": "c291017d",
      "metadata": {
        "execution": {
          "iopub.execute_input": "2025-07-31T10:31:23.770211Z",
          "iopub.status.busy": "2025-07-31T10:31:23.769776Z",
          "iopub.status.idle": "2025-07-31T10:31:26.052697Z",
          "shell.execute_reply": "2025-07-31T10:31:26.051860Z"
        },
        "papermill": {
          "duration": 2.288098,
          "end_time": "2025-07-31T10:31:26.054403",
          "exception": false,
          "start_time": "2025-07-31T10:31:23.766305",
          "status": "completed"
        },
        "tags": [],
        "id": "c291017d"
      },
      "outputs": [],
      "source": [
        "from sklearn.decomposition import PCA\n",
        "from sklearn.preprocessing import StandardScaler\n",
        "from sklearn.cluster import KMeans\n",
        "import matplotlib.pyplot as plt"
      ]
    },
    {
      "cell_type": "code",
      "execution_count": null,
      "id": "6bfe9456",
      "metadata": {
        "execution": {
          "iopub.execute_input": "2025-07-31T10:31:26.060781Z",
          "iopub.status.busy": "2025-07-31T10:31:26.060308Z",
          "iopub.status.idle": "2025-07-31T10:31:26.106750Z",
          "shell.execute_reply": "2025-07-31T10:31:26.105664Z"
        },
        "papermill": {
          "duration": 0.051291,
          "end_time": "2025-07-31T10:31:26.108377",
          "exception": false,
          "start_time": "2025-07-31T10:31:26.057086",
          "status": "completed"
        },
        "tags": [],
        "id": "6bfe9456",
        "outputId": "10a2b0a6-4c2f-4791-ea75-e5225297affd"
      },
      "outputs": [
        {
          "data": {
            "text/html": [
              "<div>\n",
              "<style scoped>\n",
              "    .dataframe tbody tr th:only-of-type {\n",
              "        vertical-align: middle;\n",
              "    }\n",
              "\n",
              "    .dataframe tbody tr th {\n",
              "        vertical-align: top;\n",
              "    }\n",
              "\n",
              "    .dataframe thead th {\n",
              "        text-align: right;\n",
              "    }\n",
              "</style>\n",
              "<table border=\"1\" class=\"dataframe\">\n",
              "  <thead>\n",
              "    <tr style=\"text-align: right;\">\n",
              "      <th></th>\n",
              "      <th>Alcohol</th>\n",
              "      <th>Malic_Acid</th>\n",
              "      <th>Ash</th>\n",
              "      <th>Ash_Alcanity</th>\n",
              "      <th>Magnesium</th>\n",
              "      <th>Total_Phenols</th>\n",
              "      <th>Flavanoids</th>\n",
              "      <th>Nonflavanoid_Phenols</th>\n",
              "      <th>Proanthocyanins</th>\n",
              "      <th>Color_Intensity</th>\n",
              "      <th>Hue</th>\n",
              "      <th>OD280</th>\n",
              "      <th>Proline</th>\n",
              "    </tr>\n",
              "  </thead>\n",
              "  <tbody>\n",
              "    <tr>\n",
              "      <th>0</th>\n",
              "      <td>14.23</td>\n",
              "      <td>1.71</td>\n",
              "      <td>2.43</td>\n",
              "      <td>15.6</td>\n",
              "      <td>127</td>\n",
              "      <td>2.80</td>\n",
              "      <td>3.06</td>\n",
              "      <td>0.28</td>\n",
              "      <td>2.29</td>\n",
              "      <td>5.64</td>\n",
              "      <td>1.04</td>\n",
              "      <td>3.92</td>\n",
              "      <td>1065</td>\n",
              "    </tr>\n",
              "    <tr>\n",
              "      <th>1</th>\n",
              "      <td>13.20</td>\n",
              "      <td>1.78</td>\n",
              "      <td>2.14</td>\n",
              "      <td>11.2</td>\n",
              "      <td>100</td>\n",
              "      <td>2.65</td>\n",
              "      <td>2.76</td>\n",
              "      <td>0.26</td>\n",
              "      <td>1.28</td>\n",
              "      <td>4.38</td>\n",
              "      <td>1.05</td>\n",
              "      <td>3.40</td>\n",
              "      <td>1050</td>\n",
              "    </tr>\n",
              "    <tr>\n",
              "      <th>2</th>\n",
              "      <td>13.16</td>\n",
              "      <td>2.36</td>\n",
              "      <td>2.67</td>\n",
              "      <td>18.6</td>\n",
              "      <td>101</td>\n",
              "      <td>2.80</td>\n",
              "      <td>3.24</td>\n",
              "      <td>0.30</td>\n",
              "      <td>2.81</td>\n",
              "      <td>5.68</td>\n",
              "      <td>1.03</td>\n",
              "      <td>3.17</td>\n",
              "      <td>1185</td>\n",
              "    </tr>\n",
              "    <tr>\n",
              "      <th>3</th>\n",
              "      <td>14.37</td>\n",
              "      <td>1.95</td>\n",
              "      <td>2.50</td>\n",
              "      <td>16.8</td>\n",
              "      <td>113</td>\n",
              "      <td>3.85</td>\n",
              "      <td>3.49</td>\n",
              "      <td>0.24</td>\n",
              "      <td>2.18</td>\n",
              "      <td>7.80</td>\n",
              "      <td>0.86</td>\n",
              "      <td>3.45</td>\n",
              "      <td>1480</td>\n",
              "    </tr>\n",
              "    <tr>\n",
              "      <th>4</th>\n",
              "      <td>13.24</td>\n",
              "      <td>2.59</td>\n",
              "      <td>2.87</td>\n",
              "      <td>21.0</td>\n",
              "      <td>118</td>\n",
              "      <td>2.80</td>\n",
              "      <td>2.69</td>\n",
              "      <td>0.39</td>\n",
              "      <td>1.82</td>\n",
              "      <td>4.32</td>\n",
              "      <td>1.04</td>\n",
              "      <td>2.93</td>\n",
              "      <td>735</td>\n",
              "    </tr>\n",
              "  </tbody>\n",
              "</table>\n",
              "</div>"
            ],
            "text/plain": [
              "   Alcohol  Malic_Acid   Ash  Ash_Alcanity  Magnesium  Total_Phenols  \\\n",
              "0    14.23        1.71  2.43          15.6        127           2.80   \n",
              "1    13.20        1.78  2.14          11.2        100           2.65   \n",
              "2    13.16        2.36  2.67          18.6        101           2.80   \n",
              "3    14.37        1.95  2.50          16.8        113           3.85   \n",
              "4    13.24        2.59  2.87          21.0        118           2.80   \n",
              "\n",
              "   Flavanoids  Nonflavanoid_Phenols  Proanthocyanins  Color_Intensity   Hue  \\\n",
              "0        3.06                  0.28             2.29             5.64  1.04   \n",
              "1        2.76                  0.26             1.28             4.38  1.05   \n",
              "2        3.24                  0.30             2.81             5.68  1.03   \n",
              "3        3.49                  0.24             2.18             7.80  0.86   \n",
              "4        2.69                  0.39             1.82             4.32  1.04   \n",
              "\n",
              "   OD280  Proline  \n",
              "0   3.92     1065  \n",
              "1   3.40     1050  \n",
              "2   3.17     1185  \n",
              "3   3.45     1480  \n",
              "4   2.93      735  "
            ]
          },
          "execution_count": 3,
          "metadata": {},
          "output_type": "execute_result"
        }
      ],
      "source": [
        "df = pd.read_csv('/kaggle/input/wine-dataset-for-clustering/wine-clustering.csv')\n",
        "df.head()"
      ]
    },
    {
      "cell_type": "code",
      "execution_count": null,
      "id": "7e24c682",
      "metadata": {
        "execution": {
          "iopub.execute_input": "2025-07-31T10:31:26.115591Z",
          "iopub.status.busy": "2025-07-31T10:31:26.115256Z",
          "iopub.status.idle": "2025-07-31T10:31:26.162051Z",
          "shell.execute_reply": "2025-07-31T10:31:26.161033Z"
        },
        "papermill": {
          "duration": 0.052563,
          "end_time": "2025-07-31T10:31:26.163937",
          "exception": false,
          "start_time": "2025-07-31T10:31:26.111374",
          "status": "completed"
        },
        "tags": [],
        "id": "7e24c682",
        "outputId": "68bba2ef-0a97-4546-c6c8-a1880006ee92"
      },
      "outputs": [
        {
          "data": {
            "text/html": [
              "<div>\n",
              "<style scoped>\n",
              "    .dataframe tbody tr th:only-of-type {\n",
              "        vertical-align: middle;\n",
              "    }\n",
              "\n",
              "    .dataframe tbody tr th {\n",
              "        vertical-align: top;\n",
              "    }\n",
              "\n",
              "    .dataframe thead th {\n",
              "        text-align: right;\n",
              "    }\n",
              "</style>\n",
              "<table border=\"1\" class=\"dataframe\">\n",
              "  <thead>\n",
              "    <tr style=\"text-align: right;\">\n",
              "      <th></th>\n",
              "      <th>Alcohol</th>\n",
              "      <th>Malic_Acid</th>\n",
              "      <th>Ash</th>\n",
              "      <th>Ash_Alcanity</th>\n",
              "      <th>Magnesium</th>\n",
              "      <th>Total_Phenols</th>\n",
              "      <th>Flavanoids</th>\n",
              "      <th>Nonflavanoid_Phenols</th>\n",
              "      <th>Proanthocyanins</th>\n",
              "      <th>Color_Intensity</th>\n",
              "      <th>Hue</th>\n",
              "      <th>OD280</th>\n",
              "      <th>Proline</th>\n",
              "    </tr>\n",
              "  </thead>\n",
              "  <tbody>\n",
              "    <tr>\n",
              "      <th>count</th>\n",
              "      <td>178.000000</td>\n",
              "      <td>178.000000</td>\n",
              "      <td>178.000000</td>\n",
              "      <td>178.000000</td>\n",
              "      <td>178.000000</td>\n",
              "      <td>178.000000</td>\n",
              "      <td>178.000000</td>\n",
              "      <td>178.000000</td>\n",
              "      <td>178.000000</td>\n",
              "      <td>178.000000</td>\n",
              "      <td>178.000000</td>\n",
              "      <td>178.000000</td>\n",
              "      <td>178.000000</td>\n",
              "    </tr>\n",
              "    <tr>\n",
              "      <th>mean</th>\n",
              "      <td>13.000618</td>\n",
              "      <td>2.336348</td>\n",
              "      <td>2.366517</td>\n",
              "      <td>19.494944</td>\n",
              "      <td>99.741573</td>\n",
              "      <td>2.295112</td>\n",
              "      <td>2.029270</td>\n",
              "      <td>0.361854</td>\n",
              "      <td>1.590899</td>\n",
              "      <td>5.058090</td>\n",
              "      <td>0.957449</td>\n",
              "      <td>2.611685</td>\n",
              "      <td>746.893258</td>\n",
              "    </tr>\n",
              "    <tr>\n",
              "      <th>std</th>\n",
              "      <td>0.811827</td>\n",
              "      <td>1.117146</td>\n",
              "      <td>0.274344</td>\n",
              "      <td>3.339564</td>\n",
              "      <td>14.282484</td>\n",
              "      <td>0.625851</td>\n",
              "      <td>0.998859</td>\n",
              "      <td>0.124453</td>\n",
              "      <td>0.572359</td>\n",
              "      <td>2.318286</td>\n",
              "      <td>0.228572</td>\n",
              "      <td>0.709990</td>\n",
              "      <td>314.907474</td>\n",
              "    </tr>\n",
              "    <tr>\n",
              "      <th>min</th>\n",
              "      <td>11.030000</td>\n",
              "      <td>0.740000</td>\n",
              "      <td>1.360000</td>\n",
              "      <td>10.600000</td>\n",
              "      <td>70.000000</td>\n",
              "      <td>0.980000</td>\n",
              "      <td>0.340000</td>\n",
              "      <td>0.130000</td>\n",
              "      <td>0.410000</td>\n",
              "      <td>1.280000</td>\n",
              "      <td>0.480000</td>\n",
              "      <td>1.270000</td>\n",
              "      <td>278.000000</td>\n",
              "    </tr>\n",
              "    <tr>\n",
              "      <th>25%</th>\n",
              "      <td>12.362500</td>\n",
              "      <td>1.602500</td>\n",
              "      <td>2.210000</td>\n",
              "      <td>17.200000</td>\n",
              "      <td>88.000000</td>\n",
              "      <td>1.742500</td>\n",
              "      <td>1.205000</td>\n",
              "      <td>0.270000</td>\n",
              "      <td>1.250000</td>\n",
              "      <td>3.220000</td>\n",
              "      <td>0.782500</td>\n",
              "      <td>1.937500</td>\n",
              "      <td>500.500000</td>\n",
              "    </tr>\n",
              "    <tr>\n",
              "      <th>50%</th>\n",
              "      <td>13.050000</td>\n",
              "      <td>1.865000</td>\n",
              "      <td>2.360000</td>\n",
              "      <td>19.500000</td>\n",
              "      <td>98.000000</td>\n",
              "      <td>2.355000</td>\n",
              "      <td>2.135000</td>\n",
              "      <td>0.340000</td>\n",
              "      <td>1.555000</td>\n",
              "      <td>4.690000</td>\n",
              "      <td>0.965000</td>\n",
              "      <td>2.780000</td>\n",
              "      <td>673.500000</td>\n",
              "    </tr>\n",
              "    <tr>\n",
              "      <th>75%</th>\n",
              "      <td>13.677500</td>\n",
              "      <td>3.082500</td>\n",
              "      <td>2.557500</td>\n",
              "      <td>21.500000</td>\n",
              "      <td>107.000000</td>\n",
              "      <td>2.800000</td>\n",
              "      <td>2.875000</td>\n",
              "      <td>0.437500</td>\n",
              "      <td>1.950000</td>\n",
              "      <td>6.200000</td>\n",
              "      <td>1.120000</td>\n",
              "      <td>3.170000</td>\n",
              "      <td>985.000000</td>\n",
              "    </tr>\n",
              "    <tr>\n",
              "      <th>max</th>\n",
              "      <td>14.830000</td>\n",
              "      <td>5.800000</td>\n",
              "      <td>3.230000</td>\n",
              "      <td>30.000000</td>\n",
              "      <td>162.000000</td>\n",
              "      <td>3.880000</td>\n",
              "      <td>5.080000</td>\n",
              "      <td>0.660000</td>\n",
              "      <td>3.580000</td>\n",
              "      <td>13.000000</td>\n",
              "      <td>1.710000</td>\n",
              "      <td>4.000000</td>\n",
              "      <td>1680.000000</td>\n",
              "    </tr>\n",
              "  </tbody>\n",
              "</table>\n",
              "</div>"
            ],
            "text/plain": [
              "          Alcohol  Malic_Acid         Ash  Ash_Alcanity   Magnesium  \\\n",
              "count  178.000000  178.000000  178.000000    178.000000  178.000000   \n",
              "mean    13.000618    2.336348    2.366517     19.494944   99.741573   \n",
              "std      0.811827    1.117146    0.274344      3.339564   14.282484   \n",
              "min     11.030000    0.740000    1.360000     10.600000   70.000000   \n",
              "25%     12.362500    1.602500    2.210000     17.200000   88.000000   \n",
              "50%     13.050000    1.865000    2.360000     19.500000   98.000000   \n",
              "75%     13.677500    3.082500    2.557500     21.500000  107.000000   \n",
              "max     14.830000    5.800000    3.230000     30.000000  162.000000   \n",
              "\n",
              "       Total_Phenols  Flavanoids  Nonflavanoid_Phenols  Proanthocyanins  \\\n",
              "count     178.000000  178.000000            178.000000       178.000000   \n",
              "mean        2.295112    2.029270              0.361854         1.590899   \n",
              "std         0.625851    0.998859              0.124453         0.572359   \n",
              "min         0.980000    0.340000              0.130000         0.410000   \n",
              "25%         1.742500    1.205000              0.270000         1.250000   \n",
              "50%         2.355000    2.135000              0.340000         1.555000   \n",
              "75%         2.800000    2.875000              0.437500         1.950000   \n",
              "max         3.880000    5.080000              0.660000         3.580000   \n",
              "\n",
              "       Color_Intensity         Hue       OD280      Proline  \n",
              "count       178.000000  178.000000  178.000000   178.000000  \n",
              "mean          5.058090    0.957449    2.611685   746.893258  \n",
              "std           2.318286    0.228572    0.709990   314.907474  \n",
              "min           1.280000    0.480000    1.270000   278.000000  \n",
              "25%           3.220000    0.782500    1.937500   500.500000  \n",
              "50%           4.690000    0.965000    2.780000   673.500000  \n",
              "75%           6.200000    1.120000    3.170000   985.000000  \n",
              "max          13.000000    1.710000    4.000000  1680.000000  "
            ]
          },
          "execution_count": 4,
          "metadata": {},
          "output_type": "execute_result"
        }
      ],
      "source": [
        "df.describe()"
      ]
    },
    {
      "cell_type": "code",
      "execution_count": null,
      "id": "72bc51f2",
      "metadata": {
        "execution": {
          "iopub.execute_input": "2025-07-31T10:31:26.172764Z",
          "iopub.status.busy": "2025-07-31T10:31:26.171811Z",
          "iopub.status.idle": "2025-07-31T10:31:26.197380Z",
          "shell.execute_reply": "2025-07-31T10:31:26.196391Z"
        },
        "papermill": {
          "duration": 0.031436,
          "end_time": "2025-07-31T10:31:26.198906",
          "exception": false,
          "start_time": "2025-07-31T10:31:26.167470",
          "status": "completed"
        },
        "tags": [],
        "id": "72bc51f2",
        "outputId": "b9f88de1-1331-40d8-9447-1ef070675a62"
      },
      "outputs": [
        {
          "data": {
            "text/plain": [
              "array([[ 3.18562979e+02,  2.14921307e+01],\n",
              "       [ 3.03097420e+02, -5.36471768e+00],\n",
              "       [ 4.38061133e+02, -6.53730945e+00],\n",
              "       [ 7.33240139e+02,  1.92729032e-01],\n",
              "       [-1.15714285e+01,  1.84899946e+01]])"
            ]
          },
          "execution_count": 5,
          "metadata": {},
          "output_type": "execute_result"
        }
      ],
      "source": [
        "# Apply PCA for easier visualization\n",
        "pca = PCA(2)\n",
        "df_pca = pca.fit_transform(df)\n",
        "df_pca[:5]"
      ]
    },
    {
      "cell_type": "code",
      "execution_count": null,
      "id": "3cc23744",
      "metadata": {
        "execution": {
          "iopub.execute_input": "2025-07-31T10:31:26.206320Z",
          "iopub.status.busy": "2025-07-31T10:31:26.205953Z",
          "iopub.status.idle": "2025-07-31T10:31:26.215429Z",
          "shell.execute_reply": "2025-07-31T10:31:26.214670Z"
        },
        "papermill": {
          "duration": 0.014913,
          "end_time": "2025-07-31T10:31:26.216938",
          "exception": false,
          "start_time": "2025-07-31T10:31:26.202025",
          "status": "completed"
        },
        "tags": [],
        "id": "3cc23744"
      },
      "outputs": [],
      "source": [
        "# Scale the data\n",
        "ss = StandardScaler()\n",
        "df_scaled = ss.fit_transform(df)\n",
        "\n",
        "# Get the PCA version of the scaled dataset\n",
        "df_pca_scaled = pca.fit_transform(df_scaled)"
      ]
    },
    {
      "cell_type": "code",
      "execution_count": null,
      "id": "bfd1728f",
      "metadata": {
        "execution": {
          "iopub.execute_input": "2025-07-31T10:31:26.224818Z",
          "iopub.status.busy": "2025-07-31T10:31:26.224042Z",
          "iopub.status.idle": "2025-07-31T10:31:26.316582Z",
          "shell.execute_reply": "2025-07-31T10:31:26.315851Z"
        },
        "papermill": {
          "duration": 0.09815,
          "end_time": "2025-07-31T10:31:26.318363",
          "exception": false,
          "start_time": "2025-07-31T10:31:26.220213",
          "status": "completed"
        },
        "tags": [],
        "id": "bfd1728f"
      },
      "outputs": [],
      "source": [
        "kmeans = KMeans(n_clusters=3, random_state=42, n_init=10)\n",
        "labels = kmeans.fit_predict(df)\n",
        "\n",
        "kmeans_scaled = KMeans(n_clusters=3, random_state=42, n_init=10)\n",
        "labels_scaled = kmeans.fit_predict(df_scaled)"
      ]
    },
    {
      "cell_type": "code",
      "execution_count": null,
      "id": "58db849a",
      "metadata": {
        "execution": {
          "iopub.execute_input": "2025-07-31T10:31:26.327503Z",
          "iopub.status.busy": "2025-07-31T10:31:26.327194Z",
          "iopub.status.idle": "2025-07-31T10:31:26.334066Z",
          "shell.execute_reply": "2025-07-31T10:31:26.333507Z"
        },
        "papermill": {
          "duration": 0.013129,
          "end_time": "2025-07-31T10:31:26.335385",
          "exception": false,
          "start_time": "2025-07-31T10:31:26.322256",
          "status": "completed"
        },
        "tags": [],
        "id": "58db849a",
        "outputId": "9f6468e8-ce47-426e-977a-adab55de289d"
      },
      "outputs": [
        {
          "data": {
            "text/plain": [
              "array([0, 1, 2], dtype=int32)"
            ]
          },
          "execution_count": 8,
          "metadata": {},
          "output_type": "execute_result"
        }
      ],
      "source": [
        "unique_labels = np.unique(labels)\n",
        "unique_labels"
      ]
    },
    {
      "cell_type": "code",
      "execution_count": null,
      "id": "3fd0945a",
      "metadata": {
        "execution": {
          "iopub.execute_input": "2025-07-31T10:31:26.342693Z",
          "iopub.status.busy": "2025-07-31T10:31:26.342359Z",
          "iopub.status.idle": "2025-07-31T10:31:26.762817Z",
          "shell.execute_reply": "2025-07-31T10:31:26.761727Z"
        },
        "papermill": {
          "duration": 0.426029,
          "end_time": "2025-07-31T10:31:26.764521",
          "exception": false,
          "start_time": "2025-07-31T10:31:26.338492",
          "status": "completed"
        },
        "tags": [],
        "id": "3fd0945a",
        "outputId": "abbd2419-b2f4-406e-d16a-d0b4361940af"
      },
      "outputs": [
        {
          "data": {
            "image/png": "[encoded data removed]",
            "text/plain": [
              "<Figure size 1000x800 with 1 Axes>"
            ]
          },
          "metadata": {},
          "output_type": "display_data"
        }
      ],
      "source": [
        "# For unscaled dataset\n",
        "plt.figure(figsize=(10, 8))\n",
        "for i in unique_labels:\n",
        "    plt.scatter(df_pca[labels==i, 0], df_pca[labels==i, 1], label=i)\n",
        "plt.legend()\n",
        "plt.show()"
      ]
    },
    {
      "cell_type": "code",
      "execution_count": null,
      "id": "fec318ca",
      "metadata": {
        "execution": {
          "iopub.execute_input": "2025-07-31T10:31:26.773333Z",
          "iopub.status.busy": "2025-07-31T10:31:26.773002Z",
          "iopub.status.idle": "2025-07-31T10:31:26.993216Z",
          "shell.execute_reply": "2025-07-31T10:31:26.992318Z"
        },
        "papermill": {
          "duration": 0.226711,
          "end_time": "2025-07-31T10:31:26.994984",
          "exception": false,
          "start_time": "2025-07-31T10:31:26.768273",
          "status": "completed"
        },
        "tags": [],
        "id": "fec318ca",
        "outputId": "63c3ccfc-43b4-4e05-858d-88067a90b357"
      },
      "outputs": [
        {
          "data": {
            "image/png": "[encoded data removed]",
            "text/plain": [
              "<Figure size 1000x800 with 1 Axes>"
            ]
          },
          "metadata": {},
          "output_type": "display_data"
        }
      ],
      "source": [
        "# For scaled dataset\n",
        "plt.figure(figsize=(10, 8))\n",
        "for i in unique_labels:\n",
        "    plt.scatter(df_pca_scaled[labels_scaled==i, 0], df_pca_scaled[labels_scaled==i, 1], label=i)\n",
        "plt.legend()\n",
        "plt.show()"
      ]
    }
  ],
  "metadata": {
    "kaggle": {
      "accelerator": "none",
      "dataSources": [
        {
          "datasetId": 626341,
          "sourceId": 1116242,
          "sourceType": "datasetVersion"
        }
      ],
      "dockerImageVersionId": 31089,
      "isGpuEnabled": false,
      "isInternetEnabled": true,
      "language": "python",
      "sourceType": "notebook"
    },
    "kernelspec": {
      "display_name": "Python 3",
      "language": "python",
      "name": "python3"
    },
    "language_info": {
      "codemirror_mode": {
        "name": "ipython",
        "version": 3
      },
      "file_extension": ".py",
      "mimetype": "text/x-python",
      "name": "python",
      "nbconvert_exporter": "python",
      "pygments_lexer": "ipython3",
      "version": "3.11.13"
    },
    "papermill": {
      "default_parameters": {},
      "duration": 10.92402,
      "end_time": "2025-07-31T10:31:27.720314",
      "environment_variables": {},
      "exception": null,
      "input_path": "__notebook__.ipynb",
      "output_path": "__notebook__.ipynb",
      "parameters": {},
      "start_time": "2025-07-31T10:31:16.796294",
      "version": "2.6.0"
    },
    "colab": {
      "provenance": [],
      "include_colab_link": true
    }
  },
  "nbformat": 4,
  "nbformat_minor": 5
}